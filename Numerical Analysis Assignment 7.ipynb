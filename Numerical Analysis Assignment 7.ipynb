{
 "cells": [
  {
   "cell_type": "markdown",
   "metadata": {},
   "source": [
    "## Eric He\n",
    "\n",
    "## Numerical Analysis\n",
    "\n",
    "## Assignment 7"
   ]
  },
  {
   "cell_type": "code",
   "execution_count": 1,
   "metadata": {},
   "outputs": [],
   "source": [
    "import numpy as np\n",
    "import pandas as pd\n",
    "import matplotlib.pyplot as plt\n",
    "import seaborn as sns\n",
    "import time\n",
    "import math\n",
    "sns.set_style('whitegrid')"
   ]
  },
  {
   "cell_type": "markdown",
   "metadata": {},
   "source": [
    "# 1.\n",
    "\n",
    "## a)\n",
    "\n",
    "### Answer\n",
    "\n",
    "Let $p, q, w$ be polynomials.\n",
    "\n",
    "We prove 4 items.\n",
    "\n",
    "- $\\langle p + w, q\\rangle  = \\langle p, q\\rangle  + \\langle w,q\\rangle $\n",
    "\n",
    "Then $\\langle p + w, q\\rangle  = \\sum_0^n (p + w)(q) = \\sum_0^n pq + wq = \\sum_0^n pq + \\sum_0^n wq = \\langle p, q\\rangle  + \\langle w, q\\rangle $.\n",
    "\n",
    "- $\\langle \\alpha p, q\\rangle  = \\alpha \\langle p, q\\rangle $\n",
    "\n",
    "Let $\\alpha$ be a constant.\n",
    "\n",
    "Then $\\langle \\alpha p, q\\rangle  = \\sum_0^n \\alpha pq = \\alpha \\sum_0^n pq = \\alpha \\langle p, q\\rangle $.\n",
    "\n",
    "- $\\langle p, q\\rangle  = \\langle p, q\\rangle $\n",
    "\n",
    "$\\langle p, q\\rangle  = \\sum_0^n pq = \\sum_0 ^n qp = \\langle q, p\\rangle $.\n",
    "\n",
    "- $\\langle p, p\\rangle  >  0$ for $p \\neq 0; \\langle 0, 0\\rangle  = 0$\n",
    "\n",
    "$\\langle p, p\\rangle  = \\sum_{i=0}^n p(x_i)^2$. We have $x_i^2 >  0 \\forall x_i \\in \\mathbb{R}$ such that $x_i \\neq 0$. Indeed, $x_i^2 = 0$ only when $x_i = 0$. Then for a vector $x$, $\\langle x, x\\rangle  \\geq 0$ if there is some $x_i \\neq 0$, and $\\langle x, x\\rangle  = 0$ only if all $x_i = 0$.\n",
    "\n",
    "Then $\\langle \\cdot , \\cdot \\rangle$ satisfies all the requirements of an inner product."
   ]
  },
  {
   "cell_type": "markdown",
   "metadata": {},
   "source": [
    "## b)\n",
    "\n",
    "### Answer\n",
    "\n",
    "Since the inner product only sums the first $n$ terms, the induced norm of any nonzero vector with $0$ in the entries $x_0, x_1, ..., x_n$ would be $0$. However, such a vector is not necessarily the $0$ vector: for example, the $n+1$th basis vector would have induced norm $0$ even though it is clearly not the $0$ vector. As a result, the properties of the inner product are violated."
   ]
  },
  {
   "cell_type": "markdown",
   "metadata": {},
   "source": [
    "## c)\n",
    "\n",
    "### Answer\n",
    "\n",
    "Let $L_i, L_j$ be the Lagrange polynomials for nodes $x_i, x_j$ such that $x_i \\neq x_j$.\n",
    "\n",
    "Now $L_i(x_k) = 0$ for $k \\neq i$, and $L_j(x_k) = 0$ for $k \\neq j$.\n",
    "\n",
    "Then $\\sum_{k=0}^n L_i(x_k)L_j(x_k) = 0 \\forall x_k$. This is because for the case when $k \\neq i, j$, both $L_i, L_j = 0$. For the case when $k = i$, $L_i = 1$ but $L_j = 0$, so $L_iL_j = 0$. A mirrored arguments shows that $L_iL_j = 0$ for $k=j$. \n",
    "\n",
    "Since $i, j$ were arbitrary, we have all the Lagrange polynomials $L_0, L_1, ..., L_k$ for the nodes $x_0, x_1, ..., x_k$ orthonormal with each other."
   ]
  },
  {
   "cell_type": "markdown",
   "metadata": {},
   "source": [
    "### d)\n",
    "\n",
    "#### Answer\n",
    "\n",
    "The optimal approximation of a continuous function f with respect to an inner product evaluated at $n$ discrete points is exactly the polynomial which interpolates those $n$ discrete points. We can see this because the induced norm of the error function $|f - p|$, where $p$ is the Lagrange interpolation polynomial evaluated at the nodes $x_0, ..., x_k$, is $0$."
   ]
  },
  {
   "cell_type": "markdown",
   "metadata": {},
   "source": [
    "# 2.\n",
    "\n",
    "## a)\n",
    "\n",
    "### Answer\n",
    "\n",
    "The truncation error is given by the formula $T_n = \\dfrac{y(x_{n+1}) - y(x_n)}{h} - \\Phi(x_n, y(x_n); h)$.\n",
    "\n",
    "Now $\\Phi = [\\theta f(y_{n+1}) + (1 - \\theta) f(y_n)$, where $0 \\leq \\theta \\leq 1$.\n",
    "\n",
    "We perform the second-order truncated Taylor expansion $y(x_{n+1}) = y(x_n) + hy'(x_n) + \\frac{h^2}{2}y''(x_n)$.\n",
    "\n",
    "The equation becomes \n",
    "\n",
    "\\begin{align}\n",
    "T_n &= \\dfrac{y(x_{n+1}) - y(x_n)}{h} - \\theta y'(x_{n+1}) - (1 - \\theta) y'(x_n) \\\\\n",
    "&= \\dfrac{hy'(x_n) + \\frac{h^2}{2}y''(\\xi_n)}{h} \\\\\n",
    "&= \\dfrac{h}{2}y''(\\xi_n) + \\theta y'(x_n) - \\theta y'(x_{n+1}) \\\\\n",
    "&= \\dfrac{h}{2}y''(\\xi_n) + \\theta (y'(x_n) - y'(x_{n+1}))\n",
    "\\end{align}\n",
    "\n",
    "\n",
    "The optimality of $\\theta$ depends on the convexity of $y$ in that particular region. In a convex setting, values of $\\theta$ closer to $1$ adjusts for the positive second derivative, and the reverse is true for a concave setting. Thus, the accuracy of the method depends on the characteristics of the function itself."
   ]
  },
  {
   "cell_type": "markdown",
   "metadata": {},
   "source": [
    "## b)\n",
    "\n",
    "### Answer\n",
    "\n",
    "Euler's method sets $y_{n+1} = y_n + hf(x_n, y_n)$.\n",
    "\n",
    "Then we have\n",
    "\n",
    "$y_1 = h + t(1 - e^{y_0}) = h + t(1 - e)$,\n",
    "\n",
    "$y_2 = h + t(1 - e) + ht(1-e^{h + t(1-e)} = h + t - e + ht - hte^{h + t(1-e)}$."
   ]
  },
  {
   "cell_type": "markdown",
   "metadata": {},
   "source": [
    "## c)\n",
    "\n",
    "### Answer\n",
    "\n",
    "The trapezoidal method corresponds to setting\n",
    "\n",
    "$y_{n+1} = y_n + \\frac{1}{2}h(f(t_n, y_n) + f(t_{n+1}, y_{n+1}))$\n",
    "\n",
    "With $f(t, y) = -y^2$, we have the equality \n",
    "\n",
    "$y_{n+1} = y_n + \\frac{1}{2}((-y_n^2) + (-y_{n+1}^2))$\n",
    "\n",
    "which can be rewritten as the equation\n",
    "\n",
    "$y_{n+1} + \\frac{h}{2}y^2_{n+1} = y_n - \\frac{h}{2}y^2_n$.\n",
    "\n",
    "Completing the square on the left side, we get\n",
    "\n",
    "$(y_{n+1}^2 + \\frac{1}{h})^2 = \\frac{2}{h}(y_n - \\frac{h}{2}y^2_n) + \\frac{1}{h^2}$\n",
    "\n",
    "We can then isolate $y_{n+1}$ on the left side to get the solution \n",
    "\n",
    "$y_{n+1} = (\\frac{2}{h}(y_n - \\frac{1}{2}hy^2_n) + \\frac{1}{h^2})^{\\frac{1}{2}} - \\frac{1}{h}$.\n",
    "\n",
    "Plugging in, we get\n",
    "\n",
    "$y_1 = (\\frac{2}{h}(1 - \\frac{1}{2}) + \\frac{1}{h^2})^{1/2} - \\frac{1}{h} = \\sqrt{\\frac{1}{h} + \\frac{1}{h^2}} - \\frac{1}{h}$."
   ]
  },
  {
   "cell_type": "markdown",
   "metadata": {},
   "source": [
    "## d)\n",
    "\n",
    "### Answer\n",
    "\n",
    "We use an approximation for $y_{n+1}$ in the equation $f(x_{n+1}, y_{n+1}$ by replacing it with the estimate $y_n + h(f(x_n, y_n))$ in the code for the trapezoidal rule."
   ]
  },
  {
   "cell_type": "code",
   "execution_count": 14,
   "metadata": {},
   "outputs": [],
   "source": [
    "def f(t, y):\n",
    "    return t * (1 -np.exp(y))\n",
    "\n",
    "def euler(f, h, t0, y0, n):\n",
    "    # f is the provided derivative\n",
    "    # h is the step size\n",
    "    # t0 is the starting t value\n",
    "    # y0 is the starting y value\n",
    "    # n is the number of iterations\n",
    "    y = y0\n",
    "    t = t0\n",
    "    ys = []\n",
    "    ys.append(y0)\n",
    "    ts = []\n",
    "    ts.append(t0)\n",
    "    for i in range(n):\n",
    "        y += h * f(t, y)\n",
    "        t += h\n",
    "        ys.append(y)\n",
    "        ts.append(t)\n",
    "    return ts, ys\n",
    "\n",
    "def trapezoidal(f, h, t0, y0, n):\n",
    "    y = y0\n",
    "    t = t0\n",
    "    ys = []\n",
    "    ys.append(y0)\n",
    "    ts = []\n",
    "    ts.append(t0)\n",
    "    for i in range(n):\n",
    "        d = f(t, y)\n",
    "        y += h / 2 * (d + f(t+h, y + h * d))\n",
    "        t += h\n",
    "        ys.append(y)\n",
    "        ts.append(t)\n",
    "    return ts, ys"
   ]
  },
  {
   "cell_type": "markdown",
   "metadata": {},
   "source": [
    "# 3.\n",
    "\n",
    "## a)\n",
    "\n",
    "### Answer\n",
    "\n",
    "#### Explicit Euler\n",
    "\n",
    "$y_{n+1} = y_n + h(-100y_n) = y_n - 100hy_n = (1 - 100h)y_n$.\n",
    "\n",
    "Following this logic, we have\n",
    "\n",
    "$y_n = (1 - 100h)^ny_0$\n",
    "\n",
    "#### Implicit Euler\n",
    "\n",
    "$y_{n+1} = y_n + hf(x_{n+1}, y_{n+1}) = y_n + h(-100y_{n+1}$.\n",
    "\n",
    "Following this logic, we have\n",
    "\n",
    "$(1 + 100h)y_{n+1} = y_n$.\n",
    "\n",
    "Going down the chain, we can write the equation\n",
    "\n",
    "$y_{n+1} = \\dfrac{y_0}{(1 + 100h)^{n+1}}$"
   ]
  },
  {
   "cell_type": "markdown",
   "metadata": {},
   "source": [
    "## b)\n",
    "\n",
    "### Answer\n",
    "\n",
    "When plugging in $h = .1$, the implicit Euler converges to $0$ as $n \\to \\infty$. The explicit Euler, on the other hand, blows to infinity, alternating sign with each $n$. Because the true solution corresponds to $e^{-100t}$, which converges to $0$ as $t \\to \\infty$, the implicit Euler solution is more consistent."
   ]
  },
  {
   "cell_type": "markdown",
   "metadata": {},
   "source": [
    "## c)\n",
    "\n",
    "### Answer\n",
    "\n",
    "Unfortunately, there are numerical stability problems for the IVP. To validate the integrity of the code, the solution $e^x$ for the IVP $y' = y, y(0) = 1$ is also displayed. "
   ]
  },
  {
   "cell_type": "code",
   "execution_count": 47,
   "metadata": {},
   "outputs": [
    {
     "data": {
      "text/plain": [
       "<matplotlib.legend.Legend at 0x7f4df569fc88>"
      ]
     },
     "execution_count": 47,
     "metadata": {},
     "output_type": "execute_result"
    },
    {
     "data": {
      "image/png": "[encoded data removed]",
      "text/plain": [
       "<Figure size 432x288 with 1 Axes>"
      ]
     },
     "metadata": {},
     "output_type": "display_data"
    }
   ],
   "source": [
    "def f(t, y):\n",
    "    return -100 * y + np.power(y, 2)\n",
    "\n",
    "t0 = 0\n",
    "y0 = 1\n",
    "\n",
    "hs = [0.1, 0.02, 0.001]\n",
    "\n",
    "for h in hs:\n",
    "    n = int(1 / h)\n",
    "    ts, ys = euler(f, h, t0, y0, n)\n",
    "    plt.plot(ts, ys, label=h)\n",
    "plt.legend()"
   ]
  },
  {
   "cell_type": "code",
   "execution_count": 50,
   "metadata": {},
   "outputs": [
    {
     "data": {
      "text/plain": [
       "<matplotlib.legend.Legend at 0x7f4df562d5c0>"
      ]
     },
     "execution_count": 50,
     "metadata": {},
     "output_type": "execute_result"
    },
    {
     "data": {
      "image/png": "[encoded data removed]",
      "text/plain": [
       "<Figure size 432x288 with 1 Axes>"
      ]
     },
     "metadata": {},
     "output_type": "display_data"
    }
   ],
   "source": [
    "def f(t, y):\n",
    "    return y\n",
    "\n",
    "t0 = 0\n",
    "y0 = 1\n",
    "\n",
    "hs = [0.1, 0.02, 0.001]\n",
    "\n",
    "for h in hs:\n",
    "    n = int(1 / h)\n",
    "    ts, ys = euler(f, h, t0, y0, n)\n",
    "    plt.plot(ts, ys, label=h)\n",
    "plt.plot(ts, np.exp(ts), label='exp(x)')\n",
    "plt.legend()"
   ]
  },
  {
   "cell_type": "markdown",
   "metadata": {},
   "source": [
    "## d)"
   ]
  },
  {
   "cell_type": "code",
   "execution_count": null,
   "metadata": {},
   "outputs": [],
   "source": [
    "# derivative of f w.r.t. \n",
    "def f1\n",
    "def backwards_euler(f, h, t0, y0, n):\n",
    "    "
   ]
  },
  {
   "cell_type": "markdown",
   "metadata": {},
   "source": [
    "## d)\n",
    "\n",
    "### Answer"
   ]
  },
  {
   "cell_type": "markdown",
   "metadata": {},
   "source": [
    "# 4.\n",
    "\n",
    "## a) \n",
    "\n",
    "$y(0) = 3e^0 = 3$.\n",
    "\n",
    "$y' = (-\\frac{1}{2}(2+x) - \\frac{x}{2})3e^{-\\frac{x}{2}(2+x)} = -(x+1)3e^{\\frac{-x}{2}(2 + x)} = -(x+1)y$"
   ]
  },
  {
   "cell_type": "markdown",
   "metadata": {},
   "source": [
    "## b)\n",
    "\n",
    "i.\n",
    "\n",
    "The method is explicit because $y_{n+1}$ is not represented in the function. The method uses the midpoint between $x_n$ and $x_{n+1}$ to approximate $f_n$.\n",
    "\n",
    "ii. \n",
    "\n",
    "The method implemented is one-step because it computes $y_{n+1}$ is estimated using a function consisting solely of $y_n$.\n",
    "\n",
    "iii.\n",
    "\n",
    "Because the error decreases by roughly a constant factor of about $4$ as the step size decreases by a factor of $2$, we have an order of $p = 2$."
   ]
  },
  {
   "cell_type": "markdown",
   "metadata": {},
   "source": [
    "# 5.\n",
    "\n",
    "## a)\n",
    "\n",
    "Im not doing this.\n",
    "\n",
    "## b)\n",
    "\n",
    "$y'' = siny + xcosyxsiny = siny + x^2sinycosy$.\n",
    "\n",
    "We can bound $siny$ by $1$ and $x^2sinycosy$ by 9, since $x$ is in the interval $[0, 3]$.\n",
    "\n",
    "Then $y''$ can be bounded by $1 + 9 = 10$.\n",
    "\n",
    "Because $f(x, y) = xsiny$, we can bound $xsiny$ by $x$. On the interval $[0, 3]$, we have the Lipschitz constant equal to $3$."
   ]
  },
  {
   "cell_type": "markdown",
   "metadata": {},
   "source": [
    "## c)\n",
    "\n",
    "### Answer\n",
    "Plugging in the constants, we get the estimate\n",
    "\n",
    "$\\frac{10}{6}(e^{x_n - x_0} - 1)h$. At $x = 3$, we get $\\frac{10}{6}(e^9 - 1)h$. Then to guarantee an error less than $10^{-2}$, we can change any $h$ smaller than $\\dfrac{6}{10^3(e^9 - 1)}$."
   ]
  },
  {
   "cell_type": "markdown",
   "metadata": {},
   "source": [
    "## d)\n",
    "\n",
    "### Answer\n",
    "\n",
    "Because the error bound has the power of $h$ being $1$, the order of convergence is $1$ and the error decreases steadily."
   ]
  },
  {
   "cell_type": "code",
   "execution_count": 65,
   "metadata": {},
   "outputs": [],
   "source": [
    "hs = 1 / 2 ** (np.arange(5) + 1)\n",
    "\n",
    "def f(t, y):\n",
    "    return t * np.sin(y)\n",
    "\n",
    "def y(t):\n",
    "    tmp = 2 * np.exp(np.power(t, 2) / 2) / np.exp(np.power(t, 2) - 1)\n",
    "    return np.pi - np.arctan(tmp)\n",
    "\n",
    "t0 = 0\n",
    "y0 = np.pi / 2\n",
    "\n",
    "errors = []\n",
    "for h in hs:\n",
    "    n = int(3 / h)\n",
    "    ts, ys = euler(f, h, t0, y0, n)\n",
    "    errors.append(y(ts[-1]) - ys[-1])"
   ]
  },
  {
   "cell_type": "code",
   "execution_count": 66,
   "metadata": {},
   "outputs": [
    {
     "data": {
      "text/plain": [
       "[-0.0612295949470667,\n",
       " -0.05331167667175185,\n",
       " -0.045659700037670614,\n",
       " -0.041844770361269656,\n",
       " -0.03996360934476195]"
      ]
     },
     "execution_count": 66,
     "metadata": {},
     "output_type": "execute_result"
    }
   ],
   "source": [
    "errors"
   ]
  },
  {
   "cell_type": "code",
   "execution_count": 59,
   "metadata": {},
   "outputs": [
    {
     "data": {
      "text/plain": [
       "3.1212347663350815"
      ]
     },
     "execution_count": 59,
     "metadata": {},
     "output_type": "execute_result"
    }
   ],
   "source": [
    "ys[-1]"
   ]
  },
  {
   "cell_type": "code",
   "execution_count": 60,
   "metadata": {},
   "outputs": [
    {
     "data": {
      "text/plain": [
       "3.0812711569903195"
      ]
     },
     "execution_count": 60,
     "metadata": {},
     "output_type": "execute_result"
    }
   ],
   "source": [
    "y(ts[-1])"
   ]
  }
 ],
 "metadata": {
  "kernelspec": {
   "display_name": "Python 3",
   "language": "python",
   "name": "python3"
  },
  "language_info": {
   "codemirror_mode": {
    "name": "ipython",
    "version": 3
   },
   "file_extension": ".py",
   "mimetype": "text/x-python",
   "name": "python",
   "nbconvert_exporter": "python",
   "pygments_lexer": "ipython3",
   "version": "3.5.2"
  }
 },
 "nbformat": 4,
 "nbformat_minor": 2
}
