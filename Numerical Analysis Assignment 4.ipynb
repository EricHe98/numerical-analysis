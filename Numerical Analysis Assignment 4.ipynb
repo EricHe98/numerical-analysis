{
 "cells": [
  {
   "cell_type": "markdown",
   "metadata": {},
   "source": [
    "## Eric He\n",
    "\n",
    "## Numerical Analysis\n",
    "\n",
    "## Assignment 4"
   ]
  },
  {
   "cell_type": "code",
   "execution_count": 1,
   "metadata": {},
   "outputs": [],
   "source": [
    "import numpy as np\n",
    "import pandas as pd\n",
    "import matplotlib.pyplot as plt\n",
    "import seaborn as sns\n",
    "import time\n",
    "sns.set_style('darkgrid')"
   ]
  },
  {
   "cell_type": "markdown",
   "metadata": {},
   "source": [
    "# 1. Prove the following\n",
    "  statements, using the basic definition of eigenvalues and\n",
    "  eigenvectors, or give a counterexample showing the statement is not\n",
    "  true. Assume $A\\in \\mathbb R^{n\\times n}$, $n\\ge 1$.\n",
    "\n",
    "## a)\n",
    "\n",
    "If $\\lambda$ is an eigenvalue of $A$ and $\\alpha\\in \\mathbb R$,\n",
    "  then $\\lambda + \\alpha$ is an eigenvalue of $A+\\alpha I$, where $I$\n",
    "  is the identity matrix.\n",
    "\n",
    "### Answer\n",
    "\n",
    "The statement is true; it follows from the fact that $(A - \\lambda I)$ has determinant $0$ for eigenvalue $\\lambda$. Then $A + \\alpha I$ has determinant $0$ for eigenvalue $\\lambda + \\alpha.$"
   ]
  },
  {
   "cell_type": "markdown",
   "metadata": {},
   "source": [
    "## b)\n",
    "\n",
    "If $\\lambda$ is an eigenvalue of $A$ and $\\alpha \\in \\mathbb R$,\n",
    "  then $\\alpha\\lambda$ is an eigenvalue of $\\alpha A$.\n",
    "  \n",
    "### Answer\n",
    "\n",
    "The statement is true; Note that by linearity of matrices, if we have an eigenvector $x$ such that $Ax = \\lambda x$, then we have $\\alpha Ax = \\alpha \\lambda x$. Then the eigenvalue $\\lambda$ of $A$ becomes the eigenvalue $\\alpha \\lambda$ of $\\alpha A$."
   ]
  },
  {
   "cell_type": "markdown",
   "metadata": {},
   "source": [
    "## c)\n",
    "\n",
    "If $\\lambda$ is an eigenvalue of $A$, then for any positive\n",
    "  integer $k$, $\\lambda^k$ is an eigenvalue of $A^k$.\n",
    "  \n",
    "### Answer\n",
    "\n",
    "Let $x$ be the eigenvector corresponding to the eigenvalue $\\lambda$ of $A$. \n",
    "\n",
    "Then $A^kx = AA...AAx = AA...A\\lambda x = ... = \\lambda^kx$  "
   ]
  },
  {
   "cell_type": "markdown",
   "metadata": {},
   "source": [
    "## d)\n",
    "\n",
    "If $B$ is \"similar\" to $A$, which means that there is a\n",
    "  nonsingular matrix $S$ such that $B = SAS^{-1}$, then if $\\lambda$\n",
    "  is an eigenvalue of $A$, it is also an eigenvalue of $B$. How do the\n",
    "  eigenvectors of $B$ relate to the eigenvectors of $A$?\n",
    "\n",
    "### Answer\n",
    "\n",
    "Conjugation by $S$ is simply a change of basis; conjugation of $A$ by $S$ means that an eigenvector $x$ of $A$ is also conjugated by $S$; thus the eigenvector of $SAS^{-1}$ is just $SxS^{-1}$."
   ]
  },
  {
   "cell_type": "markdown",
   "metadata": {},
   "source": [
    "## e)\n",
    "\n",
    "Every matrix with $n\\ge 2$ has at least two distinct\n",
    "  eigenvalues, say $\\lambda$ and $\\mu$, with $\\lambda\\not=\\mu$.\n",
    "  \n",
    "### Answer\n",
    "\n",
    "False; the $nxn$ identity matrix $I$ has eigenvalue $1$ with multiplicity $n$."
   ]
  },
  {
   "cell_type": "markdown",
   "metadata": {},
   "source": [
    "## f)\n",
    "\n",
    "Every real matrix has a real eigenvalue.\n",
    "\n",
    "### Answer\n",
    "\n",
    "False; the $90$-degree rotation matrix in $\\mathbb{R}^2$\n",
    "\n",
    "$$\n",
    "\\begin{bmatrix}\n",
    "0 & 1 \\\\\n",
    "-1 & 0 \\\\\n",
    "\\end{bmatrix}\n",
    "$$\n",
    "\n",
    "has eigenvalues $i, -i$."
   ]
  },
  {
   "cell_type": "markdown",
   "metadata": {},
   "source": [
    "## g)\n",
    "\n",
    "If $A$ is singular, then it has an\n",
    "  eigenvalue equal to zero.\n",
    "  \n",
    "### Answer\n",
    "\n",
    "True; if $A$ is singular, then there exists $x \\neq 0$ such that $Ax = 0$. If $A$ did not have an eigenvalue of $0$, then there is no vector $x$ such that $Ax = 0$"
   ]
  },
  {
   "cell_type": "markdown",
   "metadata": {},
   "source": [
    "## h)\n",
    "\n",
    "If all the eigenvalues of a matrix $A$ are zero, then $A = 0$.\n",
    "\n",
    "### Answer\n",
    "\n",
    "False; consider the matrix \n",
    "\n",
    "$$\n",
    "A = \n",
    "\\begin{bmatrix}\n",
    "0 & 1 \\\\\n",
    "0 & 0 \\\\\n",
    "\\end{bmatrix}\n",
    "$$\n",
    "\n",
    "and the the first basis vector \n",
    "\n",
    "$$b = \n",
    "\\begin{bmatrix} \n",
    "1 \n",
    "\\\\ \n",
    "0 \n",
    "\\end{bmatrix}\n",
    "$$\n",
    "\n",
    "$A$ has all eigenvalues $0$, but $A$ sends $b$ to the second basis vector $\\begin{bmatrix} 0 \\\\ 1 \\end{bmatrix}$, which is not $0$."
   ]
  },
  {
   "cell_type": "markdown",
   "metadata": {},
   "source": [
    "# 2. \n",
    "\n",
    "## a)\n",
    "\n",
    "Implement the Power Method for an arbitrary matrix $A\\in \\mathbb{R}^{n\\times n}$ and an initial vector $x_0\\in \\mathbb{R}^n$.\n",
    "\n",
    "### Answer"
   ]
  },
  {
   "cell_type": "code",
   "execution_count": 2,
   "metadata": {},
   "outputs": [],
   "source": [
    "def power(A, x):\n",
    "    vector = np.dot(A, x)\n",
    "    return vector / np.linalg.norm(vector)"
   ]
  },
  {
   "cell_type": "markdown",
   "metadata": {},
   "source": [
    "## b)\n",
    "\n",
    "Use your code to find an eigenvector of \n",
    "$$\n",
    "A = \n",
    "\\begin{bmatrix}\n",
    "- 2 & 1 & 4 \\\\ \n",
    "1 & 1 & 1 \\\\\n",
    "4 & 1 & - 2\n",
    "\\end{bmatrix}\n",
    "$$\n",
    "\n",
    "starting with $x_0=(1,2,-1)^T$ and $x_0=(1,2,1)^T$. Report the first 5\n",
    "iterates for each of the two initial vectors. Then use MATLAB's\n",
    "$\\mathtt{eig(A)}$ to examine the eigenvalues and eigenvectors of\n",
    "$A$. Where do the sequences converge to? Why do the limits not seem to\n",
    "be the same?"
   ]
  },
  {
   "cell_type": "code",
   "execution_count": 3,
   "metadata": {},
   "outputs": [],
   "source": [
    "A = np.array([[-2, 1, 4],\n",
    "              [1, 1, 1],\n",
    "              [4, 1, -2]])\n",
    "\n",
    "x_0 = np.array([1, 2, -1])\n",
    "x_1 = np.array([1, 2, 1])"
   ]
  },
  {
   "cell_type": "code",
   "execution_count": 4,
   "metadata": {},
   "outputs": [],
   "source": [
    "x_0_iterates = []\n",
    "x_1_iterates = []\n",
    "\n",
    "for i in range(5):\n",
    "    x_0 = power(A, x_0)\n",
    "    x_1 = power(A, x_1)\n",
    "    x_0_iterates.append(x_0)\n",
    "    x_1_iterates.append(x_1)"
   ]
  },
  {
   "cell_type": "markdown",
   "metadata": {},
   "source": [
    "$x_0$ appears to be converging to the eigenvector with the largest eigenvalue."
   ]
  },
  {
   "cell_type": "code",
   "execution_count": 5,
   "metadata": {},
   "outputs": [
    {
     "data": {
      "text/plain": [
       "[array([-0.43643578,  0.21821789,  0.87287156]),\n",
       " array([ 0.80829038,  0.11547005, -0.57735027]),\n",
       " array([-0.64483142,  0.05862104,  0.7620735 ]),\n",
       " array([ 0.73561236,  0.02942449, -0.67676337]),\n",
       " array([-0.69215012,  0.0147266 ,  0.72160331])]"
      ]
     },
     "execution_count": 5,
     "metadata": {},
     "output_type": "execute_result"
    }
   ],
   "source": [
    "x_0_iterates"
   ]
  },
  {
   "cell_type": "markdown",
   "metadata": {},
   "source": [
    "$x_1$, on the other hand, is converging to the eigenvector with the largest eigenvalue."
   ]
  },
  {
   "cell_type": "code",
   "execution_count": 6,
   "metadata": {},
   "outputs": [
    {
     "data": {
      "text/plain": [
       "[array([0.57735027, 0.57735027, 0.57735027]),\n",
       " array([0.57735027, 0.57735027, 0.57735027]),\n",
       " array([0.57735027, 0.57735027, 0.57735027]),\n",
       " array([0.57735027, 0.57735027, 0.57735027]),\n",
       " array([0.57735027, 0.57735027, 0.57735027])]"
      ]
     },
     "execution_count": 6,
     "metadata": {},
     "output_type": "execute_result"
    }
   ],
   "source": [
    "x_1_iterates"
   ]
  },
  {
   "cell_type": "code",
   "execution_count": 7,
   "metadata": {},
   "outputs": [],
   "source": [
    "eigenvalues, eigenvectors = np.linalg.eig(A)"
   ]
  },
  {
   "cell_type": "code",
   "execution_count": 8,
   "metadata": {},
   "outputs": [
    {
     "data": {
      "text/plain": [
       "array([-6.00000000e+00,  3.00000000e+00,  2.77080206e-16])"
      ]
     },
     "execution_count": 8,
     "metadata": {},
     "output_type": "execute_result"
    }
   ],
   "source": [
    "eigenvalues"
   ]
  },
  {
   "cell_type": "code",
   "execution_count": 9,
   "metadata": {},
   "outputs": [
    {
     "data": {
      "text/plain": [
       "array([[ 7.07106781e-01, -5.77350269e-01,  4.08248290e-01],\n",
       "       [-4.70543743e-17, -5.77350269e-01, -8.16496581e-01],\n",
       "       [-7.07106781e-01, -5.77350269e-01,  4.08248290e-01]])"
      ]
     },
     "execution_count": 9,
     "metadata": {},
     "output_type": "execute_result"
    }
   ],
   "source": [
    "eigenvectors"
   ]
  },
  {
   "cell_type": "markdown",
   "metadata": {},
   "source": [
    "The limits are not the same because $x_1$ is orthogonal to the eigenvector with the largest eigenvalue and $x_0$ is not."
   ]
  },
  {
   "cell_type": "code",
   "execution_count": 10,
   "metadata": {},
   "outputs": [
    {
     "data": {
      "text/plain": [
       "0.0"
      ]
     },
     "execution_count": 10,
     "metadata": {},
     "output_type": "execute_result"
    }
   ],
   "source": [
    "np.dot(eigenvectors[:,0], np.array([1, 2, 1]))"
   ]
  },
  {
   "cell_type": "markdown",
   "metadata": {},
   "source": [
    "## c)\n",
    "\n",
    "Implement the Inverse Power Method for an arbitrary matrix $A\\in\n",
    "  \\mathbb{R}^{n\\times n}$, an initial vector $x_0\\in \\mathbb{R}^n$\n",
    "  and an initial eigenvalue guess $\\theta\\in\\mathbb{R}$.\n",
    "  \n",
    "### Answer"
   ]
  },
  {
   "cell_type": "code",
   "execution_count": 11,
   "metadata": {},
   "outputs": [],
   "source": [
    "def inverse_power(A, x, u):\n",
    "    A_less_u = A - np.diag(u)\n",
    "    return power(np.linalg.inv(A_less_u), x)"
   ]
  },
  {
   "cell_type": "markdown",
   "metadata": {},
   "source": [
    "## d)\n",
    "\n",
    "Use your code from (c) to calculate all eigenvectors of\n",
    "  $A$. You may pick appropriate values for $\\theta$ and the initial\n",
    "  vector as you wish (obviously not the eigenvectors\n",
    "  themselves). Always report the first 5 iterates and explain where\n",
    "  the sequence converges to and why.\n",
    "  \n",
    "### Answer"
   ]
  },
  {
   "cell_type": "markdown",
   "metadata": {},
   "source": [
    "We know that the eigenvalues are -6, 3, and 0. Let our guesses for $\\mu$ be $\\mu_1 = 5, \\mu_2 = 2.75, \\mu_3 = 0.25$."
   ]
  },
  {
   "cell_type": "code",
   "execution_count": 12,
   "metadata": {},
   "outputs": [],
   "source": [
    "mu_1 = np.array([5, 5, 5])\n",
    "mu_2 = np.array([2.75, 2.75, 2.75])\n",
    "mu_3 = np.array([0.25, 0.25, 0.25])\n",
    "\n",
    "x_1_temp = np.array([1, 5, -3])\n",
    "x_2_temp = np.array([1, 5, -3])\n",
    "x_3_temp = np.array([1, 40, -3])\n",
    "\n",
    "x_1_iterates = []\n",
    "x_2_iterates = []\n",
    "x_3_iterates = []\n",
    "\n",
    "for i in range(5):\n",
    "    x_1_temp = inverse_power(A, x_1_temp, mu_1)\n",
    "    x_2_temp = inverse_power(A, x_2_temp, mu_2)\n",
    "    x_3_temp = inverse_power(A, x_3_temp, mu_3)\n",
    "    \n",
    "    x_1_iterates.append(x_1_temp)\n",
    "    x_2_iterates.append(x_2_temp)\n",
    "    x_3_iterates.append(x_3_temp)"
   ]
  },
  {
   "cell_type": "markdown",
   "metadata": {},
   "source": [
    "$x_1$ converges to the eigenvector with eigenvalue closest to $\\mu_1 = 5$. This is the eigenvector of $A$ with eigenvalue $6$."
   ]
  },
  {
   "cell_type": "code",
   "execution_count": 13,
   "metadata": {},
   "outputs": [
    {
     "data": {
      "text/plain": [
       "[array([-0.21146251, -0.97545609,  0.06139234]),\n",
       " array([0.3919796 , 0.86159096, 0.32251047]),\n",
       " array([-0.50220419, -0.713522  , -0.48854611]),\n",
       " array([0.54761728, 0.63480799, 0.54510011]),\n",
       " array([-0.56551839, -0.60074659, -0.56505972])]"
      ]
     },
     "execution_count": 13,
     "metadata": {},
     "output_type": "execute_result"
    }
   ],
   "source": [
    "x_1_iterates"
   ]
  },
  {
   "cell_type": "markdown",
   "metadata": {},
   "source": [
    "$x_2$ converges to the eigenvector with eigenvalue closest to $\\mu_2 = 2.75$. This is the eigenvector of $A$ with eigenvalue $3$."
   ]
  },
  {
   "cell_type": "code",
   "execution_count": 14,
   "metadata": {},
   "outputs": [
    {
     "data": {
      "text/plain": [
       "[array([0.628234  , 0.35546727, 0.69207302]),\n",
       " array([0.56859408, 0.59627282, 0.56670937]),\n",
       " array([0.57818958, 0.57561388, 0.57824344]),\n",
       " array([0.57727216, 0.57750799, 0.57727062]),\n",
       " array([0.57735742, 0.57733593, 0.57735746])]"
      ]
     },
     "execution_count": 14,
     "metadata": {},
     "output_type": "execute_result"
    }
   ],
   "source": [
    "x_2_iterates"
   ]
  },
  {
   "cell_type": "markdown",
   "metadata": {},
   "source": [
    "$x_3$ converges to the eigenvector with eigenvalue closest to $\\mu_3 = 0.25$. This is the eigenvector of $A$ with eigenvalue $0$."
   ]
  },
  {
   "cell_type": "code",
   "execution_count": 15,
   "metadata": {},
   "outputs": [
    {
     "data": {
      "text/plain": [
       "[array([ 0.4394746 , -0.78070988,  0.44424561]),\n",
       " array([-0.40501968,  0.81961163, -0.40521085]),\n",
       " array([ 0.4085287 , -0.8162122 ,  0.40853634]),\n",
       " array([-0.40822229,  0.81652242, -0.4082226 ]),\n",
       " array([ 0.40825063, -0.81649423,  0.40825065])]"
      ]
     },
     "execution_count": 15,
     "metadata": {},
     "output_type": "execute_result"
    }
   ],
   "source": [
    "x_3_iterates"
   ]
  },
  {
   "cell_type": "markdown",
   "metadata": {},
   "source": [
    "# 3. Orthogonalization Methods\n",
    "\n"
   ]
  },
  {
   "cell_type": "markdown",
   "metadata": {},
   "source": [
    "## a)\n",
    "\n",
    "Given any two nonzero vectors $ x$ and $ y$\n",
    "    in $\\mathbb{R}^n$, construct a Householder matrix $H$, such that\n",
    "    $H x$ is a scalar multiple of $ y$. Is the matrix $H$ unique?\n",
    "    \n",
    "### Answer\n",
    "We are asked to find the matrix $H$ which reflects $x$ onto $y$.\n",
    "\n",
    "The vector directly in between $x$ and $y$ is the one which will reflect $x$ onto $y$. This vector is simply $z = x - y$.\n",
    "\n",
    "Then the corresponding Householder matrix $H$ is given by $I - \\dfrac{2}{(x - y)^T(x - y)}(x - y)(x - y)^T$"
   ]
  },
  {
   "cell_type": "markdown",
   "metadata": {},
   "source": [
    "The matrix $H$ is not unique since there are two directions we can reflect $x$ onto $y$: through $z_1 = x - y$ or $z_2 = y - x$."
   ]
  },
  {
   "cell_type": "markdown",
   "metadata": {},
   "source": [
    "## b)\n",
    "\n",
    "Use Householder matrices to transform the matrix $A$ into tridiagonal form.\n",
    "    $$\n",
    "    A = \\begin{bmatrix} 2 & 1 & 2 & 2 \\\\ 1 & - 7 & 6 & 5 \\\\ 2\n",
    "      & 6 & 2 & - 5\\\\ 2& 5 & - 5 & 1 \n",
    "    \\end{bmatrix}.\n",
    "    $$\n",
    "    \n",
    "### Answer"
   ]
  },
  {
   "cell_type": "code",
   "execution_count": 16,
   "metadata": {},
   "outputs": [],
   "source": [
    "# return householder matrix for vector x\n",
    "def Householder(x):\n",
    "    return np.identity(x.shape[0]) - (2 / np.inner(x,x) * np.outer(x, x))\n",
    "\n",
    "# calculate the reflection vector required to send a vector x to the basis vector\n",
    "def reflection_vector(x):\n",
    "    x = x.astype('float64')\n",
    "    if x[0] != 0:\n",
    "        c = np.sign(x[0]) * np.sqrt(np.inner(x, x))\n",
    "    else:\n",
    "        c = np.sqrt(np.inner(x, x))\n",
    "    x[0] = x[0] + c\n",
    "    return x\n",
    "\n",
    "# use the above two methods to tridiagonalize a matrix A\n",
    "def tridiagonalize(A):\n",
    "    shape = A.shape[0]\n",
    "    for i in range(shape - 1):\n",
    "        x = A[i + 1:, i]\n",
    "        v = np.zeros(shape)\n",
    "        v[i+1:] = reflection_vector(x)\n",
    "        H = Householder(v)\n",
    "        # conjugate by H\n",
    "        A = H.dot(A).dot(H)\n",
    "    return A"
   ]
  },
  {
   "cell_type": "code",
   "execution_count": 17,
   "metadata": {},
   "outputs": [
    {
     "data": {
      "text/plain": [
       "array([[  2,  -3,   0,   0],\n",
       "       [ -3,   0,  -5,   0],\n",
       "       [  0,  -5, -11,   3],\n",
       "       [  0,   0,   3,   6]])"
      ]
     },
     "execution_count": 17,
     "metadata": {},
     "output_type": "execute_result"
    }
   ],
   "source": [
    "A = np.array([[2, 1, 2, 2],\n",
    "              [1, -7, 6, 5],\n",
    "              [2, 6, 2, -5],\n",
    "              [2, 5, -5, 1]])\n",
    "\n",
    "tridiagonalize(A).astype('int')"
   ]
  },
  {
   "cell_type": "markdown",
   "metadata": {},
   "source": [
    "## c)\n",
    "\n",
    "Use Householder matrices to compute the QR-factorization of\n",
    "    the matrix from homework 3, problem 6, i.e.:\n",
    "$$\n",
    "\\begin{bmatrix}\n",
    "  9 & -6\\\\\n",
    "  12 & -8\\\\\n",
    "  0 & 20\n",
    "\\end{bmatrix}.\n",
    "$$\n",
    "\n",
    "    \n",
    "### Answer"
   ]
  },
  {
   "cell_type": "code",
   "execution_count": 18,
   "metadata": {},
   "outputs": [],
   "source": [
    "A = np.array([[9, -6],\n",
    "              [12, -8],\n",
    "              [0, 20]])\n",
    "Q = []\n",
    "for i in range(A.shape[1]):\n",
    "    Q_i = np.identity(3)\n",
    "    Q_i[i:,i:] = Householder(reflection_vector(A[i:, i]))\n",
    "    Q.append(Q_i)\n",
    "    A = Q_i.dot(A)"
   ]
  },
  {
   "cell_type": "markdown",
   "metadata": {},
   "source": [
    "#### The Q matrix"
   ]
  },
  {
   "cell_type": "code",
   "execution_count": 19,
   "metadata": {},
   "outputs": [
    {
     "data": {
      "text/plain": [
       "array([[-0.6,  0. ,  0.8],\n",
       "       [-0.8,  0. , -0.6],\n",
       "       [ 0. , -1. ,  0. ]])"
      ]
     },
     "execution_count": 19,
     "metadata": {},
     "output_type": "execute_result"
    }
   ],
   "source": [
    "import functools\n",
    "# dot all the matrices in the list of Q_i Q\n",
    "functools.reduce(np.dot, Q)"
   ]
  },
  {
   "cell_type": "markdown",
   "metadata": {},
   "source": [
    "#### The R matrix"
   ]
  },
  {
   "cell_type": "code",
   "execution_count": 20,
   "metadata": {},
   "outputs": [
    {
     "data": {
      "text/plain": [
       "array([[-15,  10],\n",
       "       [  0, -20],\n",
       "       [  0,   0]])"
      ]
     },
     "execution_count": 20,
     "metadata": {},
     "output_type": "execute_result"
    }
   ],
   "source": [
    "A.astype('int')"
   ]
  },
  {
   "cell_type": "markdown",
   "metadata": {},
   "source": [
    "## d)\n",
    "\n",
    "\n",
    "Use Givens rotations to transform the\n",
    "    vector\n",
    "$$x =\n",
    "\\begin{bmatrix}\n",
    "4\\\\ -3\\\\1\n",
    "\\end{bmatrix}\n",
    "$$\n",
    "    to a multiple of the first unit vector. Specify the\n",
    "    Givens rotations you used.\n",
    "\n",
    "### Answer"
   ]
  },
  {
   "cell_type": "markdown",
   "metadata": {},
   "source": [
    "The first Givens matrix rotates the first and second components, sending the second to 0."
   ]
  },
  {
   "cell_type": "code",
   "execution_count": 21,
   "metadata": {},
   "outputs": [],
   "source": [
    "x = np.array([4, -3, 1])\n",
    "\n",
    "r = np.sqrt(np.power(4, 2) + np.power(-3, 2))\n",
    "c = 4 / r\n",
    "s = 3 / r\n",
    "\n",
    "A = np.identity(3)\n",
    "A[0:2, 0:2] = np.array([[c, -s],\n",
    "                        [s, c]])"
   ]
  },
  {
   "cell_type": "markdown",
   "metadata": {},
   "source": [
    "#### The first Givens rotation"
   ]
  },
  {
   "cell_type": "code",
   "execution_count": 22,
   "metadata": {},
   "outputs": [
    {
     "data": {
      "text/plain": [
       "array([[ 0.8, -0.6,  0. ],\n",
       "       [ 0.6,  0.8,  0. ],\n",
       "       [ 0. ,  0. ,  1. ]])"
      ]
     },
     "execution_count": 22,
     "metadata": {},
     "output_type": "execute_result"
    }
   ],
   "source": [
    "A"
   ]
  },
  {
   "cell_type": "code",
   "execution_count": 23,
   "metadata": {},
   "outputs": [
    {
     "data": {
      "text/plain": [
       "array([5, 0, 1])"
      ]
     },
     "execution_count": 23,
     "metadata": {},
     "output_type": "execute_result"
    }
   ],
   "source": [
    "x = A.dot(x).astype('int')\n",
    "x"
   ]
  },
  {
   "cell_type": "markdown",
   "metadata": {},
   "source": [
    "#### The second Givens rotation\n",
    "\n",
    "We now build the second Givens rotation to rotate the first and third components."
   ]
  },
  {
   "cell_type": "code",
   "execution_count": 24,
   "metadata": {},
   "outputs": [],
   "source": [
    "r = np.sqrt(np.power(x[0], 2) + np.power(x[2], 2))\n",
    "c = x[0] / r\n",
    "s = -x[2] / r\n",
    "A = np.identity(3)\n",
    "A[0, 0] = c\n",
    "A[0, 2] = -s\n",
    "A[2, 0] = s\n",
    "A[2, 2] = c"
   ]
  },
  {
   "cell_type": "code",
   "execution_count": 25,
   "metadata": {},
   "outputs": [
    {
     "data": {
      "text/plain": [
       "array([[ 0.98058068,  0.        ,  0.19611614],\n",
       "       [ 0.        ,  1.        ,  0.        ],\n",
       "       [-0.19611614,  0.        ,  0.98058068]])"
      ]
     },
     "execution_count": 25,
     "metadata": {},
     "output_type": "execute_result"
    }
   ],
   "source": [
    "A"
   ]
  },
  {
   "cell_type": "code",
   "execution_count": 26,
   "metadata": {},
   "outputs": [
    {
     "data": {
      "text/plain": [
       "array([5.09901951, 0.        , 0.        ])"
      ]
     },
     "execution_count": 26,
     "metadata": {},
     "output_type": "execute_result"
    }
   ],
   "source": [
    "A.dot(x)"
   ]
  },
  {
   "cell_type": "markdown",
   "metadata": {},
   "source": [
    "# 4.\n",
    "\n",
    "Let the matrix $A\\in \\mathbb{R}^{n\\times n}$ be defined by its components\n",
    "$$ a_{i,i}=2i \\quad \\text{for}\\quad i=1,...n, $$\n",
    "$$ a_{i,i+1}=- i, \\quad a_{i+1,i}= - i\\quad \\text{for}\\quad i=1,...n-1, $$\n",
    "the remaining components are zero."
   ]
  },
  {
   "cell_type": "markdown",
   "metadata": {},
   "source": [
    "## a)\n",
    "\n",
    "Sketch the Gerschgorin discs of $A$.\n",
    "\n",
    "### Answer\n",
    "\n",
    ".\n",
    "\n",
    ".\n",
    "\n",
    ".\n",
    "\n",
    ".\n",
    "\n",
    ".\n",
    "\n",
    ".\n",
    "\n",
    ".\n",
    "\n",
    ".\n",
    "\n",
    ".\n",
    "\n",
    ".\n"
   ]
  },
  {
   "cell_type": "markdown",
   "metadata": {},
   "source": [
    "## b)\n",
    "\n",
    "Use Gerschgorin's Theorem and facts about symmetric matrices to show that all eigenvalues of $A$ are real numbers, larger or equal $1$.\n",
    "\n",
    "### Answer\n",
    "\n",
    "The minimum of the left endpoints of the Gershgorin discs are at 1. Because $A$ is symmetric, the eigenvalues of $A$ are real. Thus the eigenvalues of $A$ are all real numbers which are larger than or equal to 1."
   ]
  },
  {
   "cell_type": "markdown",
   "metadata": {},
   "source": [
    "## c)\n",
    "\n",
    "Using Gerschgorin discs, find an upper bound for the eigenvalues of $A$.\n",
    "\n",
    "### Answer\n",
    "\n",
    "All eigenvalues are bounded above by 3n, since that is the endpoint of the largest Gershgorin disc situated at x = 2n."
   ]
  },
  {
   "cell_type": "markdown",
   "metadata": {},
   "source": [
    "# 5.\n",
    "\n",
    "An efficient way to find individual roots of a\n",
    "  polynomial is to use Newton's method. However, as we have seen,\n",
    "  Newton's method requires an initialization close to the root one\n",
    "  wants to find, and it can be difficult to find *all* roots of a\n",
    "  polynomial. Luckily, one can use the relation between eigenvalues\n",
    "  and polynomial roots to find all roots of a given polynomial.  Let us\n",
    "  consider a polynomial of degree $n$ with leading coefficient $1$:\n",
    "  $$ p(x) = a_0+a_1x+\\ldots+a_{n-1}x^{n-1} + x^n \\quad \\text{ with } a_i\\in \\mathbb R. $$"
   ]
  },
  {
   "cell_type": "markdown",
   "metadata": {},
   "source": [
    "## a)\n",
    "\n",
    "Show that $p(x)$ is the characteristic polynomial of the\n",
    "    matrix (sometimes called a companion matrix for $p$)\n",
    "$$ A_p :=\n",
    "\\begin{bmatrix}\n",
    "  0 &&& - a_0\\\\\n",
    "  1  &&& - a_1\\\\\n",
    "    & \\ddots && \\vdots \\\\\n",
    "    &&   1  & - a_{n-1}\n",
    "\\end{bmatrix} \\in \\mathbb R^{n\\times n}.\n",
    "$$\n",
    "    \n",
    "Thus, the roots of $p(x)$ can be computed as the eigenvalues of\n",
    "    $A_p$ using the QR algorithm (as implemented, e.g., in MATLAB's\n",
    "    `eig` function). \n",
    "    \n",
    "### Answer\n",
    "\n",
    "The eigenvalues of $A_p$ are given by the determinant of $I - A_p$.\n",
    "\n",
    "Using cofactors, we can break up the computation of the determinant of $I - A_p$ into the sum of two pieces: $-\\lambda \\det A_{p-1}$ and $-1^{p+1} a_0 \\det Q$, where $Q$ is a matrix with $-1$ down the diagonal and $-\\lambda$ down the upper diagonal. The matrix $Q$ in dimension $p - 1$, being upper diagonal, has determinant $-1^{p-1}$, the multiplication of the diagonal entries; this means that $a_0$ is multiplied by $-1^{2p} = 1$.\n",
    "\n",
    "Then $\\det I - A_p = a_0 + \\lambda \\det(I - A_{p-1})$, where $A_{p-1}$ is the lower submatrix excluding the first row and column of $A_p$.\n",
    "\n",
    "Proceeding by an inductive argument on $\\{A_{p-i}\\}_{i=1}^{p-1}$, we find that the determinant of $I - A_p = \\sum_{i=0}^p \\lambda^i a_i$, completing the proof."
   ]
  },
  {
   "cell_type": "markdown",
   "metadata": {},
   "source": [
    "## b)\n",
    "\n",
    "Let us consider Wilkinson's polynomial $p_w(x)$ of order $15$,\n",
    "    i.e., a polynomial with the roots $1,2,\\ldots,15$:\n",
    "    $$\n",
    "    p_w(x) = (x-1)\\cdot(x-2)\\cdot \\ldots \\cdot (x-15).\n",
    "    $$\n",
    "The corresponding coefficients can be found using the\n",
    "`poly()` function. Use these coefficients in the matrix\n",
    "$A_p$ to find the original roots again, and compute their\n",
    "error. \n",
    "    \n",
    "### Answer"
   ]
  },
  {
   "cell_type": "code",
   "execution_count": 27,
   "metadata": {},
   "outputs": [],
   "source": [
    "roots = (np.arange(15) + 1)\n",
    "coefs = np.poly(roots)\n",
    "\n",
    "A_p = np.zeros([15, 15])\n",
    "\n",
    "# insert roots into the last column\n",
    "A_p[:,14] = -1 * np.flip(coefs[1:], axis=0)\n",
    "\n",
    "# insert identity into left off-diagonal\n",
    "A_p[1:,:14] = np.identity(14)\n",
    "\n",
    "# get eigenvalues of A_p\n",
    "eigenvalues, eigenvectors = np.linalg.eig(A_p)"
   ]
  },
  {
   "cell_type": "markdown",
   "metadata": {},
   "source": [
    "The eigenvalues of $A_p$ are displayed below."
   ]
  },
  {
   "cell_type": "code",
   "execution_count": 28,
   "metadata": {},
   "outputs": [
    {
     "data": {
      "text/plain": [
       "array([ 1.        ,  2.        ,  3.        ,  4.00000001,  4.99999997,\n",
       "        6.00000016,  6.99999932,  8.00000224,  8.99999481, 10.00000797,\n",
       "       10.99999225, 12.0000043 , 12.99999906, 13.9999998 , 15.00000011])"
      ]
     },
     "execution_count": 28,
     "metadata": {},
     "output_type": "execute_result"
    }
   ],
   "source": [
    "eigenvalues"
   ]
  },
  {
   "cell_type": "markdown",
   "metadata": {},
   "source": [
    "A direct computation of the roots is given below."
   ]
  },
  {
   "cell_type": "code",
   "execution_count": 29,
   "metadata": {},
   "outputs": [
    {
     "data": {
      "text/plain": [
       "array([15.00000008, 13.99999929, 13.00000283, 11.99999361, 11.00000924,\n",
       "        9.99999088,  9.00000635,  7.99999684,  7.00000113,  5.99999972,\n",
       "        5.00000005,  3.99999999,  3.        ,  2.        ,  1.        ])"
      ]
     },
     "execution_count": 29,
     "metadata": {},
     "output_type": "execute_result"
    }
   ],
   "source": [
    "np.roots(coefs)"
   ]
  },
  {
   "cell_type": "markdown",
   "metadata": {},
   "source": [
    "There is a small amount of error for several of the roots, but the total error is still small."
   ]
  },
  {
   "cell_type": "code",
   "execution_count": 30,
   "metadata": {},
   "outputs": [
    {
     "data": {
      "text/plain": [
       "-1.1013412404281553e-13"
      ]
     },
     "execution_count": 30,
     "metadata": {},
     "output_type": "execute_result"
    }
   ],
   "source": [
    "np.sum(roots - np.roots(coefs))"
   ]
  },
  {
   "cell_type": "markdown",
   "metadata": {},
   "source": [
    "# 6.\n",
    "\n",
    "As mentioned in class, the Google page rank\n",
    "  algorithm has a lot to do with the eigenvector corresponding to the\n",
    "  largest eigenvalue of a so-called stochastic matrix, which models\n",
    "  the links between websites. Stochastic matrices have non-negative\n",
    "  entries and each column sums to 1, and one can show (under a few\n",
    "  technical assumptions) that it has the eigenvalues\n",
    "  $\\lambda_1=1>|\\lambda_2|\\ge\\ldots\\ge|\\lambda_n|$. Thus, we can use\n",
    "  the power method\n",
    "  to find the eigenvector $v$ corresponding to $\\lambda_1$, which\n",
    "  can be shown to have either all negative or all positive entries.\n",
    "  These entries can be interpreted as the importance of individual\n",
    "  websites."
   ]
  },
  {
   "cell_type": "code",
   "execution_count": 31,
   "metadata": {},
   "outputs": [],
   "source": [
    "n = 150\n",
    "\n",
    "# initialize A with random row swaps\n",
    "A = 0.5 * np.identity(n)\n",
    "A = A[np.random.permutation(np.arange(n))]"
   ]
  },
  {
   "cell_type": "code",
   "execution_count": 32,
   "metadata": {},
   "outputs": [],
   "source": [
    "# generate noise matrix\n",
    "Noise = np.random.normal(size=(n, n))\n",
    "Noise[Noise < 2] = 2\n",
    "Noise = Noise - 2\n",
    "\n",
    "# add noise to A\n",
    "A = A + Noise\n",
    "\n",
    "# delete the diagonal entries\n",
    "A = A - np.diag(np.diag(A))\n",
    "\n",
    "# some weird transformation\n",
    "A2 = A.sum(axis=1)\n",
    "A2[A2 < 10 ** -10] = 10 ** -10\n",
    "\n",
    "L = np.dot(A, np.diag(A2 ** -1))"
   ]
  },
  {
   "cell_type": "markdown",
   "metadata": {},
   "source": [
    "## a)\n",
    "\n",
    "Plot the sparsity structure of $L$ (i.e., the\n",
    "  nonzero entries in the matrix) using the command `spy`. Each\n",
    "  non-zero entry corresponds to a link between two websites.\n",
    "  \n",
    "### Answer"
   ]
  },
  {
   "cell_type": "code",
   "execution_count": 33,
   "metadata": {},
   "outputs": [
    {
     "data": {
      "text/plain": [
       "<matplotlib.image.AxesImage at 0x7f23f0e8f5c0>"
      ]
     },
     "execution_count": 33,
     "metadata": {},
     "output_type": "execute_result"
    },
    {
     "data": {
      "image/png": "[encoded data removed]",
      "text/plain": [
       "<Figure size 432x288 with 1 Axes>"
      ]
     },
     "metadata": {},
     "output_type": "display_data"
    }
   ],
   "source": [
    "plt.spy(L)"
   ]
  },
  {
   "cell_type": "markdown",
   "metadata": {},
   "source": [
    "## b)\n",
    "\n",
    "Plot the (complex) eigenvalues of $L$ by plotting the real part\n",
    "  of the eigenvalues on the $x$-axis, and the imaginary part on the\n",
    "  $y$-axis. (Please make sure that the plotted eigenvalues are\n",
    "    not connected.) Additionally, plot the unit circle and check that\n",
    "  all eigenvalues are inside the unit circle, but $\\lambda_1=1$.\n",
    "  \n",
    "### Answer"
   ]
  },
  {
   "cell_type": "code",
   "execution_count": 34,
   "metadata": {},
   "outputs": [
    {
     "data": {
      "text/plain": [
       "<matplotlib.collections.PathCollection at 0x7f23f0e7ce10>"
      ]
     },
     "execution_count": 34,
     "metadata": {},
     "output_type": "execute_result"
    },
    {
     "data": {
      "image/png": "[encoded data removed]",
      "text/plain": [
       "<Figure size 432x288 with 1 Axes>"
      ]
     },
     "metadata": {},
     "output_type": "display_data"
    }
   ],
   "source": [
    "eig = np.linalg.eigvals(L)\n",
    "\n",
    "real = np.real(eig)\n",
    "\n",
    "im = np.imag(eig)\n",
    "\n",
    "plt.scatter(real, im)"
   ]
  },
  {
   "cell_type": "markdown",
   "metadata": {},
   "source": [
    "## c)\n",
    "\n",
    "The matrix $L$ contains many zeros. One of the technical\n",
    "  assumptions for proving theorems is that all entries in $L$ are\n",
    "  positive.  As a remedy, one considers the matrices $S = \\kappa L +\n",
    "  (1-\\kappa) E$, where $E$ is a matrix with entries $1/n$ in every\n",
    "  component\n",
    "  \n",
    "### Answer"
   ]
  },
  {
   "cell_type": "code",
   "execution_count": 35,
   "metadata": {},
   "outputs": [],
   "source": [
    "K = [0.25, 0.5, 0.75]\n",
    "E = np.ones([n, n]) / n\n",
    "\n",
    "eig_real = []\n",
    "eig_im = []\n",
    "for k in K:\n",
    "    S = k * E + (1 - k) * L\n",
    "    eig = np.linalg.eigvals(S)\n",
    "    eig_real.append(np.real(eig))\n",
    "    eig_im.append(np.imag(eig))"
   ]
  },
  {
   "cell_type": "markdown",
   "metadata": {},
   "source": [
    "For larger $\\kappa$, the eigenvalues are clustered more closely around $0$."
   ]
  },
  {
   "cell_type": "code",
   "execution_count": 36,
   "metadata": {},
   "outputs": [
    {
     "data": {
      "image/png": "[encoded data removed]",
      "text/plain": [
       "<Figure size 432x288 with 1 Axes>"
      ]
     },
     "metadata": {},
     "output_type": "display_data"
    }
   ],
   "source": [
    "for i in range(len(eig_real)):\n",
    "    plt.scatter(eig_real[i], eig_im[i])"
   ]
  },
  {
   "cell_type": "markdown",
   "metadata": {},
   "source": [
    "The power method converges more quickly for $\\kappa < 1$ because the largest eigenvalue becomes larger relative to the second largest eigenvalue for smaller $\\kappa$, and the power method converges at a speed relative to the ratio of the second largest eigenvalue with respect to the largest eigenvalue."
   ]
  }
 ],
 "metadata": {
  "kernelspec": {
   "display_name": "Python 3",
   "language": "python",
   "name": "python3"
  },
  "language_info": {
   "codemirror_mode": {
    "name": "ipython",
    "version": 3
   },
   "file_extension": ".py",
   "mimetype": "text/x-python",
   "name": "python",
   "nbconvert_exporter": "python",
   "pygments_lexer": "ipython3",
   "version": "3.5.2"
  }
 },
 "nbformat": 4,
 "nbformat_minor": 2
}
