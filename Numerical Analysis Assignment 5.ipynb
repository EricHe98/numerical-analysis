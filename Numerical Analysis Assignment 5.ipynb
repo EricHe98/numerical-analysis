{
 "cells": [
  {
   "cell_type": "markdown",
   "metadata": {},
   "source": [
    "## Eric He\n",
    "\n",
    "## Numerical Analysis\n",
    "\n",
    "## Assignment 5"
   ]
  },
  {
   "cell_type": "code",
   "execution_count": 1,
   "metadata": {},
   "outputs": [],
   "source": [
    "import numpy as np\n",
    "import pandas as pd\n",
    "import matplotlib.pyplot as plt\n",
    "import seaborn as sns\n",
    "import time\n",
    "import math\n",
    "sns.set_style('whitegrid')"
   ]
  },
  {
   "cell_type": "markdown",
   "metadata": {},
   "source": [
    "# 1.\n",
    "Let $P_n$ be the\n",
    "  space of functions defined on $[-1,1]$ that can be\n",
    "  described by polynomials of degree less of equal to $n$ with\n",
    "  coefficients in $\\mathbb R$.  $P_n$ is a linear space in the sense\n",
    "  of linear algebra, in particular, for $p,q\\in P_n$ and $a\\in \\mathbb\n",
    "  R$, also $p+q$ and $ap$ are in $P_n$. Since the monomials\n",
    "  $\\{1,x,x^2,\\ldots,x^{n}\\}$ are a basis for $P_n$, the dimension of\n",
    "  that space is $n+1$."
   ]
  },
  {
   "cell_type": "markdown",
   "metadata": {},
   "source": [
    "## a)\n",
    "Show that for pairwise distinct points $x_0,x_1,\\ldots,x_n \\in\n",
    "    [-1,1]$, the Lagrange polynomials $L_k(x)$ are in $P_n$, and\n",
    "    that they are linearly independent, that is, for a linear\n",
    "    combination of the zero polynomial with Lagrange polynomials with\n",
    "    coefficients $\\alpha_k$, i.e.,\n",
    "    $$\n",
    "    \\sum_{k=0}^n\\alpha_kL_k(x) = 0 \\text{ (the zero polynomial)}\n",
    "    $$\n",
    "    necessarily follows that $\\alpha_0=\\alpha_1=\\ldots=\\alpha_n=0$. Note\n",
    "    that this implies that the $(n+1)$ Lagrange polynomials also form\n",
    "    a basis of $P_n$."
   ]
  },
  {
   "cell_type": "markdown",
   "metadata": {},
   "source": [
    "### Answer\n",
    "\n",
    "Fix an interpolation point $x_i$ such that $x_i \\neq 0$; we know there exists at least $n-1$ since the $x_i$'s are distinct. All Lagrange polynomials $L_k(x)$ save $L_i(x)$ take on the value $0$ at $x = i$, and at $x_i$, $L_i(x) \\neq 0$. This means that for a linear combination of the Lagrange polynomials to be $0$, the coefficient $\\alpha_i$ for $L_i(x)$ must be $0$.\n",
    "\n",
    "We can repeat this argument for $n-1$ interpolation points, thus requiring $n-1$ of the Lagrange polynomials to have coefficient $0$. Then for the last Lagrange polynomial to be equal to the zero polynomial, the coefficient for that polynomial must also be $0$, since that last polynomial is nonzero for points which are not interpolation points."
   ]
  },
  {
   "cell_type": "markdown",
   "metadata": {},
   "source": [
    "## b)\n",
    "Since both the monomials and the Lagrange polynomials are a\n",
    "    basis of $P_n$, each $p\\in P_n$ can be written as linear\n",
    "    combination of monomials as well as Lagrange polynomials, i.e.,\n",
    "    $$ p(x) = \\sum_{k=0}^n\\alpha_kL_k(x) = \\sum_{k=0}^n\\beta_k x^k, $$ with\n",
    "    appropriate coefficients $\\alpha_k,\\beta_k\\in \\mathbb R$.  As\n",
    "    you know from basic matrix theory, there exists a basis\n",
    "    transformation matrix that converts the coefficients $\\alpha=(\\alpha_0,\\ldots,\\alpha_n)^T$ to the coefficients $\n",
    "    \\beta=(\\beta_0,\\ldots,\\beta_n)^T$. Show that this basis\n",
    "    transformation matrix is given by the so-called Vandermonde matrix\n",
    "    $V\\in\\mathbb R^{n+1\\times n+1}$ given by\n",
    "$$ V = \\begin{pmatrix}\n",
    "  1 & x_0 & x_0^2 & \\cdots & x_0^{n-1} &\n",
    "  x_0^{n}\\\\\n",
    "  1 & x_1 & x_1^2 & \\cdots & x_1^{n-1} &\n",
    "  x_1^{n}\\\\\n",
    "  \\vdots & \\vdots  & \\vdots & \\ddots & \\vdots & \\vdots\\\\\n",
    "  1 & x_n & x_n^2 & \\cdots & x_n^{n-1} &\n",
    "  x_n^{n}\n",
    "\\end{pmatrix}, $$ \n",
    "    i.e., the relation between $ \\alpha$ and $\\beta$ is given by $\\alpha = V \\beta$. An easy\n",
    "    way to see this is to choose appropriate $x$."
   ]
  },
  {
   "cell_type": "markdown",
   "metadata": {},
   "source": [
    "### Answer\n",
    "\n",
    "Let $x_0, x_1, ..., x_n$ be the $n$ points at which $L_0(x), L_1(x), ..., L_n(x)$ are evaluated. Then the corresponding $V$ simply evaluates the polynomial, defined by its vector of coefficients $\\beta$, at the points $x_0, x_1, ..., x_n$. If $V\\beta = \\alpha$, then the polynomial at $x=x_i$ evaluates to $y=\\alpha_i$. But every $L_j(x_i) = 0$ for $j \\neq i$, and $L_i(x_i) = 1$. Then for $p(x)$ to be properly expressed in the basis of $L_k(x)$ polynomials, the corresponding coefficient for $L_k(x)$ can only be $\\alpha_k$.\n",
    "\n",
    "Since the question is ambiguous about whether the transformation matrix is going from $\\alpha$ to $\\beta$ or vice versa (the Vandermonde sends $\\beta$ to $\\alpha$), the matrix for the inverse transform is also given below.\n",
    "\n",
    "Choosing $p(x)$ to be any of the $L_k(x)$, it is obvious that $\\alpha_i = 0$ for $i \\neq k$, and $\\alpha_k = 1$. Thus for $p(x)$ to equal $L_k(x)$, the corresponding $\\alpha$ is the $k$th basis vector. \n",
    "\n",
    "Now this means that $V^{-1}$ must send the $k$th basis vector to the vector of coefficients of $L_k(x)$. Then the $k$th column of $V^{-1}$ is the vector of coefficients of $L_k(x)$."
   ]
  },
  {
   "cell_type": "markdown",
   "metadata": {},
   "source": [
    "## c)\n",
    "\n",
    "Note that since $V$ transforms one basis into another basis, it\n",
    "  must be an invertible matrix. Let us compute the condition number of\n",
    "  $V$ numerically. Compute the 2-based condition number\n",
    "  $\\kappa_2(V)$ for $n=5,10,20,30$ with uniformly spaced nodes\n",
    "  $x_i=- 1+(2i)/n$, $i=0,\\ldots,n$. Based on the condition\n",
    "  numbers, can this basis transformation be performed accurately?"
   ]
  },
  {
   "cell_type": "code",
   "execution_count": 16,
   "metadata": {},
   "outputs": [
    {
     "data": {
      "text/plain": [
       "[63.82728259639298, 13951.62693148976, 831377049.0515671, 56415868942024.77]"
      ]
     },
     "execution_count": 16,
     "metadata": {},
     "output_type": "execute_result"
    }
   ],
   "source": [
    "n = [5, 10, 20, 30]\n",
    "cond_numbers = []\n",
    "for i in n:\n",
    "    x = -1 + 2*np.arange(i + 1)/i\n",
    "    cond_numbers.append(np.linalg.cond(np.vander(x, i+1), p=2))\n",
    "    \n",
    "cond_numbers"
   ]
  },
  {
   "cell_type": "markdown",
   "metadata": {},
   "source": [
    "Clearly the condition numbers are too high for the basis transformation to be accurately computed."
   ]
  },
  {
   "cell_type": "markdown",
   "metadata": {},
   "source": [
    "# 2."
   ]
  },
  {
   "cell_type": "markdown",
   "metadata": {},
   "source": [
    "### a)\n",
    "\n",
    "Write down the least squares problem associated to finding the\n",
    "  cubic best fit polynomial\n",
    "  $$\n",
    "  Y = ax^3 + bX^2 + c X + d\\;.\n",
    "  $$\n",
    "  using (i) all six points, (ii) only the data for\n",
    "  $i=0,1,2,3,4$, and (iii) $i=0,1,2,3$. In each case solve the system\n",
    "  and plot both the data points and the polynomial. Why is case (iii) not a\n",
    "  least squares problem?"
   ]
  },
  {
   "cell_type": "code",
   "execution_count": 35,
   "metadata": {},
   "outputs": [
    {
     "name": "stdout",
     "output_type": "stream",
     "text": [
      "The least squares problem for the first 6 data points is as follows:\n",
      "0.0 = 0.0a + 0.0b + 0.0c + d\n",
      "0.2 = 0.125a + 0.25b + 0.5c + d\n",
      "0.27 = 1.0a + 1.0b + 1.0c + d\n",
      "0.3 = 3.375a + 2.25b + 1.5c + d\n",
      "0.32 = 8.0a + 4.0b + 2.0c + d\n",
      "0.33 = 15.625a + 6.25b + 2.5c + d\n",
      "\n",
      "The least squares problem for the first 5 data points is as follows:\n",
      "0.0 = 0.0a + 0.0b + 0.0c + d\n",
      "0.2 = 0.125a + 0.25b + 0.5c + d\n",
      "0.27 = 1.0a + 1.0b + 1.0c + d\n",
      "0.3 = 3.375a + 2.25b + 1.5c + d\n",
      "0.32 = 8.0a + 4.0b + 2.0c + d\n",
      "\n",
      "The least squares problem for the first 4 data points is as follows:\n",
      "0.0 = 0.0a + 0.0b + 0.0c + d\n",
      "0.2 = 0.125a + 0.25b + 0.5c + d\n",
      "0.27 = 1.0a + 1.0b + 1.0c + d\n",
      "0.3 = 3.375a + 2.25b + 1.5c + d\n",
      "\n"
     ]
    },
    {
     "data": {
      "text/plain": [
       "<matplotlib.legend.Legend at 0x7f5f01b56a58>"
      ]
     },
     "execution_count": 35,
     "metadata": {},
     "output_type": "execute_result"
    },
    {
     "data": {
      "image/png": "[encoded data removed]",
      "text/plain": [
       "<Figure size 432x288 with 1 Axes>"
      ]
     },
     "metadata": {},
     "output_type": "display_data"
    }
   ],
   "source": [
    "def equation(x):\n",
    "    return np.array([x**3, x**2, x, 1])\n",
    "\n",
    "A = np.array([equation(0),\n",
    "              equation(0.5),\n",
    "              equation(1.),\n",
    "              equation(1.5),\n",
    "              equation(2.),\n",
    "              equation(2.5)])\n",
    "\n",
    "b = np.array([0., 0.2, 0.27, 0.3, 0.32, 0.33])\n",
    "x_ = np.arange(6) / 2\n",
    "\n",
    "x = np.linspace(0, 2.5)\n",
    "\n",
    "for i in [6, 5, 4]:\n",
    "    print('The least squares problem for the first {} data points is as follows:'.format(i))\n",
    "    for j in range(i):\n",
    "        print('{} = {}a + {}b + {}c + d'.format(b[j], A[j, 0], A[j, 1], A[j, 2]))\n",
    "    print('')\n",
    "    \n",
    "    Q, R = np.linalg.qr(A[:i, :])\n",
    "    coef = np.linalg.solve(R, np.dot(Q.T, b[:i]))\n",
    "    \n",
    "    y = coef[0] * x**3 + coef[1] * x**2 + coef[2] * x + coef[3]\n",
    "    plt.plot(x, y, label='{} data points'.format(i))\n",
    "    \n",
    "plt.plot(x_, b, 'bx')\n",
    "plt.legend()"
   ]
  },
  {
   "cell_type": "markdown",
   "metadata": {},
   "source": [
    "The case of 4 data points is not a least squares problem because the degree 3-polynomial is able to perfectly fit all 4 data points, so there is no error to begin with."
   ]
  },
  {
   "cell_type": "markdown",
   "metadata": {},
   "source": [
    "## b)\n",
    "\n",
    "What is the degree of the polynomial that you would have to use so that the solution interpolates (i.e., goes through) *all* six data points?\n",
    "\n",
    "### Answer\n",
    "\n",
    "Since an $n$-degree polynomial has $n+1$ degrees of freedom, a $5$-degree polynomial will be able to interpolate all $6$ data points."
   ]
  },
  {
   "cell_type": "markdown",
   "metadata": {},
   "source": [
    "# 3)\n",
    "Let us interpolate the function $f:[0,1]\\to\\mathbb R$ defined by\n",
    "  $f(x) = \\exp(3x)$ using the nodes $x_i=i/2$, $i=0,1,2$ by a\n",
    "  quadratic polynomial $p_2\\in  P_2$."
   ]
  },
  {
   "cell_type": "markdown",
   "metadata": {},
   "source": [
    "## a)\n",
    "\n",
    "Use the monomial basis $1,x,x^2$ and compute (numerically) the\n",
    "  coefficients $c_j\\in \\mathbb R$ such that $p_2(x) =\n",
    "  \\sum_{j=0}^2c_jx^j$. Plot $p_2$ and $f$ in the same graph.\n",
    "  \n",
    "  ### Answer"
   ]
  },
  {
   "cell_type": "code",
   "execution_count": 36,
   "metadata": {},
   "outputs": [],
   "source": [
    "def f(x):\n",
    "    return np.exp(3*x)"
   ]
  },
  {
   "cell_type": "code",
   "execution_count": 42,
   "metadata": {},
   "outputs": [
    {
     "data": {
      "text/plain": [
       "array([24.24431757, -5.15878064,  1.        ])"
      ]
     },
     "execution_count": 42,
     "metadata": {},
     "output_type": "execute_result"
    }
   ],
   "source": [
    "x_ = np.array([0, 0.5, 1.])\n",
    "\n",
    "y_ = f(x_)\n",
    "\n",
    "coef = np.polyfit(x_, y_, 2)\n",
    "coef"
   ]
  },
  {
   "cell_type": "code",
   "execution_count": 41,
   "metadata": {},
   "outputs": [
    {
     "data": {
      "text/plain": [
       "<matplotlib.legend.Legend at 0x7f5f01a94e10>"
      ]
     },
     "execution_count": 41,
     "metadata": {},
     "output_type": "execute_result"
    },
    {
     "data": {
      "image/png": "[encoded data removed]",
      "text/plain": [
       "<Figure size 432x288 with 1 Axes>"
      ]
     },
     "metadata": {},
     "output_type": "display_data"
    }
   ],
   "source": [
    "x = np.linspace(0, 1)\n",
    "y_true = f(x)\n",
    "y_fit = np.polyval(coef, x)\n",
    "\n",
    "plt.plot(x, y_true, label='exp(3x)')\n",
    "plt.plot(x, y_fit, label='Quadratic fit')\n",
    "plt.plot(x_, y_, 'bx')\n",
    "plt.legend()"
   ]
  },
  {
   "cell_type": "markdown",
   "metadata": {},
   "source": [
    "## b)\n",
    "\n",
    "Give an alternative form for $p_2$ using Lagrange interpolation\n",
    "  polynomials $L_0(x)$, $L_1(x)$ and $L_2(x)$. Plot the three Lagrange\n",
    "  basis polynomials in the same graph.\n",
    "  \n",
    "### Answer\n",
    "\n",
    "$L_0(x) = \\dfrac{(x - \\frac{1}{2})(x - 1)}{( - \\frac{1}{2})( - 1)} = 2x^2 - 3x + 1$\n",
    "\n",
    "$L_1(x) = \\dfrac{(x)(x - 1)}{(\\frac{1}{2})(\\frac{1}{2} - 1)} = -4x^2 + 4x$\n",
    "\n",
    "$L_2(x) = \\dfrac{(x)(x - \\frac{1}{2})}{(1)(1 - \\frac{1}{2})} = 2x^2 - x$\n",
    "\n",
    "Exact coefficients for these polynomials can be computed numerically since we know their values at 3 points each."
   ]
  },
  {
   "cell_type": "markdown",
   "metadata": {},
   "source": [
    "Then $p_2 = L_0 + e^{3/2}L_1 + e^3L_2$."
   ]
  },
  {
   "cell_type": "code",
   "execution_count": 49,
   "metadata": {},
   "outputs": [
    {
     "data": {
      "text/plain": [
       "<matplotlib.legend.Legend at 0x7f5f019040f0>"
      ]
     },
     "execution_count": 49,
     "metadata": {},
     "output_type": "execute_result"
    },
    {
     "data": {
      "image/png": "[encoded data removed]",
      "text/plain": [
       "<Figure size 432x288 with 1 Axes>"
      ]
     },
     "metadata": {},
     "output_type": "display_data"
    }
   ],
   "source": [
    "x = np.linspace(0, 1)\n",
    "\n",
    "coef_0 = np.array([2, -3, 1])\n",
    "coef_1 = np.array([-4, 4, 0])\n",
    "coef_2 = np.array([2, -1, 0])\n",
    "\n",
    "y_0 = np.polyval(coef_0, x)\n",
    "y_1 = np.polyval(coef_1, x)\n",
    "y_2 = np.polyval(coef_2, x)\n",
    "\n",
    "plt.plot(x, y_0, label='L_0')\n",
    "plt.plot(x, y_1, label='L_1')\n",
    "plt.plot(x, y_2, label='L_2')\n",
    "plt.legend()"
   ]
  },
  {
   "cell_type": "markdown",
   "metadata": {},
   "source": [
    "## c)\n",
    "\n",
    "Compare the exact interpolation error $E_f(x):=f(x)-p_2(x)$ at\n",
    "  $x=3/4$ with the estimate\n",
    "  \\begin{equation*}\n",
    "  |E_f(x)|\\le \\frac{M_{n+1}}{(n+1)!}|\\pi_{n+1}(x)|,\n",
    "  \\end{equation*}\n",
    "  where $M_{n+1} = \\max_{z\\in [0,1]}|f^{(n+1)}(z)|$, $f^{(n+1)}$ is\n",
    "  the $(n+1)$st derivative of $f$, and\n",
    "  $\\pi_{n+1}(x)=(x-x_0)(x-x_1)(x-x_2)$.\n",
    "  \n",
    "  ### Answer"
   ]
  },
  {
   "cell_type": "code",
   "execution_count": 56,
   "metadata": {},
   "outputs": [
    {
     "data": {
      "text/plain": [
       "1.2806073125903925"
      ]
     },
     "execution_count": 56,
     "metadata": {},
     "output_type": "execute_result"
    }
   ],
   "source": [
    "# calculate the true interpolation error\n",
    "y_true = np.exp(3 * 0.75)\n",
    "y_p = np.polyval(coef, 0.75)\n",
    "\n",
    "np.abs(y_true - y_p)"
   ]
  },
  {
   "cell_type": "markdown",
   "metadata": {},
   "source": [
    "$|f^{n+1}(z)| = 3^4e^{3z}$\n",
    "\n",
    "$M_{n+1} = 3^4e^3$\n",
    "\n",
    "$(n + 1)! = 4! = 24$\n",
    "\n",
    "$\\pi_{n+1}(0.75) = (0.75)(0.25)(0.25) = \\dfrac{3}{4^3}$"
   ]
  },
  {
   "cell_type": "code",
   "execution_count": 55,
   "metadata": {},
   "outputs": [
    {
     "data": {
      "text/plain": [
       "3.177594708551174"
      ]
     },
     "execution_count": 55,
     "metadata": {},
     "output_type": "execute_result"
    }
   ],
   "source": [
    "# calculate the upper bound on the interpolation error\n",
    "3**4 * np.exp(3) / 24 * 3 / 4**3"
   ]
  },
  {
   "cell_type": "markdown",
   "metadata": {},
   "source": [
    "The true interpolation error is 1.28, whereas the upper bound on the interpolation error is 3.178"
   ]
  },
  {
   "cell_type": "markdown",
   "metadata": {},
   "source": [
    "## d)\n",
    "\n",
    "Find a (Hermite) polynomial $p_3\\in P_3$ that interpolates\n",
    "  $f$ and $f'$ in $x_0,x_1$. Give the polynomial $p_3$ in the Hermite\n",
    "  basis, plot $f$ and $p_3$ in the same graph, and plot the four\n",
    "  Hermite basis functions in another graph."
   ]
  },
  {
   "cell_type": "markdown",
   "metadata": {},
   "source": [
    "### Answer"
   ]
  },
  {
   "cell_type": "code",
   "execution_count": 140,
   "metadata": {},
   "outputs": [],
   "source": [
    "coefs = [coef_0, coef_1, coef_2]\n",
    "coef_derivatives = [np.polyder(coef) for coef in coefs]\n",
    "x_ks = [0., 1/2, 1.]\n",
    "y_ks = np.exp(3 * np.array(x_ks))\n",
    "z_ks = 3 * np.exp(3 * np.array(x_ks))\n",
    "\n",
    "def H(coef, coef_derivative, x_k):\n",
    "    coef_sq = np.polymul(coef, coef)\n",
    "    deriv = np.polyval(coef_derivative, x_k)\n",
    "    _ = [-2 * deriv, 2 * x_k * deriv + 1]\n",
    "    \n",
    "    return np.polymul(coef_sq, _)\n",
    "\n",
    "def K(coef, x_k):\n",
    "    coef_sq = np.polymul(coef, coef)\n",
    "    _ = [1, -1 * x_k]\n",
    "    return np.polymul(coef_sq, _)"
   ]
  },
  {
   "cell_type": "code",
   "execution_count": 142,
   "metadata": {},
   "outputs": [],
   "source": [
    "hs = []\n",
    "ks = []\n",
    "ps = []\n",
    "for i in range(3):\n",
    "    hs.append(H(coefs[i], coef_derivatives[i], x_ks[i]))\n",
    "    ks.append(K(coefs[i], x_ks[i]))\n",
    "    ps.append(np.polyadd(hs[i] * y_ks[i], ks[i] * z_ks[i]))\n",
    "p = np.array(ps).sum(axis=0)"
   ]
  },
  {
   "cell_type": "code",
   "execution_count": 145,
   "metadata": {},
   "outputs": [
    {
     "data": {
      "text/plain": [
       "<matplotlib.legend.Legend at 0x7f5f016f9da0>"
      ]
     },
     "execution_count": 145,
     "metadata": {},
     "output_type": "execute_result"
    },
    {
     "data": {
      "image/png": "[encoded data removed]",
      "text/plain": [
       "<Figure size 432x288 with 1 Axes>"
      ]
     },
     "metadata": {},
     "output_type": "display_data"
    }
   ],
   "source": [
    "x = np.linspace(0, 1)\n",
    "y_true = f(x)\n",
    "y_fit = np.polyval(p, x)\n",
    "plt.plot(x, y_true, label='exp(3x)')\n",
    "plt.plot(x, y_fit, label='Hermite fit')\n",
    "plt.plot(x_, y_, 'bx')\n",
    "plt.legend()"
   ]
  },
  {
   "cell_type": "code",
   "execution_count": 148,
   "metadata": {},
   "outputs": [
    {
     "data": {
      "text/plain": [
       "<matplotlib.legend.Legend at 0x7f5f0169ef28>"
      ]
     },
     "execution_count": 148,
     "metadata": {},
     "output_type": "execute_result"
    },
    {
     "data": {
      "image/png": "[encoded data removed]",
      "text/plain": [
       "<Figure size 432x288 with 1 Axes>"
      ]
     },
     "metadata": {},
     "output_type": "display_data"
    }
   ],
   "source": [
    "for i in range(3):\n",
    "    plt.plot(x, np.polyval(ps[i], x), label='Hermite polynomial for k={}'.format(i))\n",
    "plt.legend()"
   ]
  },
  {
   "cell_type": "markdown",
   "metadata": {},
   "source": [
    "# 4)\n",
    "\n",
    "Consider linear interpolation of $f(x) = x^3$ at $x_0 = 0$ and $x_1 = 1$. "
   ]
  },
  {
   "cell_type": "markdown",
   "metadata": {},
   "source": [
    "## a)\n",
    "\n",
    "For given $x$, find the value of $\\xi=\\xi(x)$ for which\n",
    "$$\n",
    "f(x) - p_{1}(x) = \\frac{f''(\\xi)}{2}(x - x_0)(x-x_1).\n",
    "$$"
   ]
  },
  {
   "cell_type": "markdown",
   "metadata": {},
   "source": [
    "### Answer\n",
    "\n",
    "$p_1(x) = x$ is just the line joining the points $(0, 0)$ and $(1, 1)$.\n",
    "\n",
    "$f''(x) = 6x$.\n",
    "\n",
    "This corresponds to the value of $\\xi$ which solves\n",
    "\n",
    "$$x^3 - x = \\dfrac{6\\xi}{2}x(x-1)$$.\n",
    "\n",
    "This simplifies to the equation $x + 1 = 3\\xi$.\n",
    "\n",
    "Thus $\\xi(x) = \\dfrac{x + 1}{3}$. Though $0$ is also a solution, $\\xi > 0$."
   ]
  },
  {
   "cell_type": "markdown",
   "metadata": {},
   "source": [
    "## b)\n",
    "\n",
    "Repeat for $f(x) = (2x-1)^4$."
   ]
  },
  {
   "cell_type": "markdown",
   "metadata": {},
   "source": [
    "### Answer\n",
    "\n",
    "$f(0) = 1, f(1) = 1$. Thus $p_1(x) = 1$.\n",
    "\n",
    "$f''(x) = 48(2x - 1)^2$.\n",
    "\n",
    "This corresponds to the value of $\\xi$ which solves\n",
    "$$(2x-1)^4 - 1 = 24(2\\xi - 1)^2x(x-1)$$\n",
    "\n",
    "The coefficients for the polynomial $(2x - 1)^4$ can be computed numerically:"
   ]
  },
  {
   "cell_type": "code",
   "execution_count": 152,
   "metadata": {},
   "outputs": [
    {
     "data": {
      "text/plain": [
       "array([ 16., -32.,  24.,  -8.,   1.])"
      ]
     },
     "execution_count": 152,
     "metadata": {},
     "output_type": "execute_result"
    }
   ],
   "source": [
    "_ = np.polynomial.polynomial.polypow([2, -1], 4)\n",
    "_"
   ]
  },
  {
   "cell_type": "markdown",
   "metadata": {},
   "source": [
    "We can then compute the coefficients of the $x$-polynomial."
   ]
  },
  {
   "cell_type": "code",
   "execution_count": 154,
   "metadata": {},
   "outputs": [
    {
     "data": {
      "text/plain": [
       "(array([ 16., -16.,   8.]), array([0.]))"
      ]
     },
     "execution_count": 154,
     "metadata": {},
     "output_type": "execute_result"
    }
   ],
   "source": [
    "np.polydiv(np.polysub(_, 1), [1, -1, 0])"
   ]
  },
  {
   "cell_type": "markdown",
   "metadata": {},
   "source": [
    "Then by solving for $\\xi$, we can derive the equation \n",
    "$$\\xi = \\dfrac{\\sqrt{\\frac{2}{3}x^2 - \\frac{2}{3}x + 8}}{2}$$"
   ]
  },
  {
   "cell_type": "markdown",
   "metadata": {},
   "source": [
    "# 5)\n",
    "\n",
    "Interpolate the function\n",
    "$$\n",
    "f(x) = \\begin{cases}\n",
    "1 \\quad \\text{ if } x \\geq 0 \\\\\n",
    "0 \\quad \\text{ if } x<0,\n",
    "\\end{cases}\n",
    "$$\n",
    "on the domain $[-1,1]$ using Lagrange polynomials  with Chebyshev points."
   ]
  },
  {
   "cell_type": "markdown",
   "metadata": {},
   "source": [
    "### Answer\n",
    "\n",
    "Unfortunately the Python scipy Lagrange interpolation scheme is numerically unstable, so I can't do n > 32."
   ]
  },
  {
   "cell_type": "code",
   "execution_count": 181,
   "metadata": {},
   "outputs": [],
   "source": [
    "def chebyshev(n, a, b):\n",
    "    return 1/2 * (a + b) + 1/2 * (b - a) * np.cos((np.arange(n + 1) + 1/2) * math.pi / (n+1))"
   ]
  },
  {
   "cell_type": "code",
   "execution_count": 182,
   "metadata": {},
   "outputs": [],
   "source": [
    "from scipy.interpolate import lagrange"
   ]
  },
  {
   "cell_type": "code",
   "execution_count": 189,
   "metadata": {},
   "outputs": [
    {
     "data": {
      "text/plain": [
       "<matplotlib.legend.Legend at 0x7f5f012c7e80>"
      ]
     },
     "execution_count": 189,
     "metadata": {},
     "output_type": "execute_result"
    },
    {
     "data": {
      "image/png": "[encoded data removed]",
      "text/plain": [
       "<Figure size 432x288 with 1 Axes>"
      ]
     },
     "metadata": {},
     "output_type": "display_data"
    }
   ],
   "source": [
    "x = np.linspace(-1, 1, num=5000)\n",
    "values = []\n",
    "for n in 2**(np.arange(5) + 1):\n",
    "    points = chebyshev(n, -1, 1)\n",
    "    polynomial = lagrange(points, np.sign(points))\n",
    "    current_values = np.polyval(polynomial, x)\n",
    "    values.append(current_values)\n",
    "    plt.plot(x, current_values, label=n)\n",
    "plt.plot(x, np.sign(x), label='True')\n",
    "plt.legend()"
   ]
  },
  {
   "cell_type": "markdown",
   "metadata": {},
   "source": [
    "Qualitatively, the polynomials are getting closer to the true function as the number of data points being used to interpolate get larger."
   ]
  },
  {
   "cell_type": "code",
   "execution_count": 199,
   "metadata": {},
   "outputs": [],
   "source": [
    "l_inf_error = []\n",
    "l_2_error = []\n",
    "for i in range(len(values)):\n",
    "    l_inf_error.append(np.max(values[i] - np.sign(x)))\n",
    "    l_2_error.append(np.sqrt(np.sum((values[i] - np.sign(x))**2)))"
   ]
  },
  {
   "cell_type": "code",
   "execution_count": 200,
   "metadata": {},
   "outputs": [
    {
     "data": {
      "text/plain": [
       "[1.99976896034039,\n",
       " 1.9995791709217912,\n",
       " 1.99921661111456,\n",
       " 1.998503611860069,\n",
       " 1.9970829486527562]"
      ]
     },
     "execution_count": 200,
     "metadata": {},
     "output_type": "execute_result"
    }
   ],
   "source": [
    "l_inf_error"
   ]
  },
  {
   "cell_type": "code",
   "execution_count": 201,
   "metadata": {},
   "outputs": [
    {
     "data": {
      "text/plain": [
       "[61.49334567108466,\n",
       " 48.036742755589074,\n",
       " 36.04439422994071,\n",
       " 26.345358711328917,\n",
       " 18.97878866151752]"
      ]
     },
     "execution_count": 201,
     "metadata": {},
     "output_type": "execute_result"
    }
   ],
   "source": [
    "l_2_error"
   ]
  },
  {
   "cell_type": "markdown",
   "metadata": {},
   "source": [
    "The max-norm should not be expected to converge to 0, since the polynomial will always smoothly move from y = -1 to y = 1 in a small neighborhood about x = 0. This means that the max-norm converges to 2 as n goes to infinity and the jump becomes sharper. \n",
    "\n",
    "The 2-norm, on the other hand, should converge to 0 as n goes to infinity."
   ]
  }
 ],
 "metadata": {
  "kernelspec": {
   "display_name": "Python 3",
   "language": "python",
   "name": "python3"
  },
  "language_info": {
   "codemirror_mode": {
    "name": "ipython",
    "version": 3
   },
   "file_extension": ".py",
   "mimetype": "text/x-python",
   "name": "python",
   "nbconvert_exporter": "python",
   "pygments_lexer": "ipython3",
   "version": "3.5.2"
  }
 },
 "nbformat": 4,
 "nbformat_minor": 2
}
