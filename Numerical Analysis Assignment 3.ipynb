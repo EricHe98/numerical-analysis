{
 "cells": [
  {
   "cell_type": "markdown",
   "metadata": {},
   "source": [
    "# Eric He\n",
    "\n",
    "# Numerical Analysis\n",
    "\n",
    "# Assignment 3"
   ]
  },
  {
   "cell_type": "code",
   "execution_count": 1,
   "metadata": {},
   "outputs": [],
   "source": [
    "import numpy as np\n",
    "import pandas as pd\n",
    "import matplotlib.pyplot as plt\n",
    "import seaborn as sns\n",
    "import time\n",
    "sns.set_style('darkgrid')"
   ]
  },
  {
   "cell_type": "markdown",
   "metadata": {},
   "source": [
    "# 1. Let us explore matrix norms and condition numbers.\n",
    "\n",
    "### a) \n",
    "**For the following matrix given by\n",
    "$A=\\begin{bmatrix}\n",
    "1 & -2\\\\\n",
    "3 & -1 \\\\\n",
    "\\end{bmatrix},$\n",
    "calculate $\\|A\\|_1$, $\\|A\\|_2$, $\\|A\\|_\\infty$ as well as the\n",
    "condition numbers for each norm by hand. Is $A$ well or\n",
    "ill-conditioned?**"
   ]
  },
  {
   "cell_type": "markdown",
   "metadata": {},
   "source": [
    "$A^TA =\\begin{bmatrix}\n",
    "-5 & 0 \\\\\n",
    "0 & -5 \\\\\n",
    "\\end{bmatrix}$\n",
    "\n",
    "$\\|A\\|_1 = 4$ (the largest column sum of A)\n",
    "\n",
    "$\\|A\\|_2 = \\sqrt{5}$ (square root of largest eigenvalue of $A^TA$)\n",
    "\n",
    "$\\|A\\|_\\infty = 4$ (the largest row sum of A)\n",
    "\n",
    "$A^{-1}=\\begin{bmatrix}\n",
    "-1/5 & 2/5\\\\\n",
    "-3/5 & 1/5 \\\\\n",
    "\\end{bmatrix}$\n",
    "\n",
    "$A^{-1T}A^{-1}=\\begin{bmatrix}\n",
    "-1/5 & 0 \\\\\n",
    "0 & 1/5 \\\\\n",
    "\\end{bmatrix}$\n",
    "\n",
    "$\\|A^{-1}\\|_1 = 4/5$\n",
    "\n",
    "$\\|A^{-1}\\|_2 = \\sqrt{1/5}$\n",
    "\n",
    "$\\|A^{-1}\\|_\\infty = 4/5$\n",
    "\n",
    "Then we have condition numbers\n",
    "\n",
    "$\\kappa_1(A) = 4(4/5) = 16/5, \\kappa_2(A) = 1, \\kappa_\\infty(A) = 16/5$"
   ]
  },
  {
   "cell_type": "markdown",
   "metadata": {},
   "source": [
    "### b)\n",
    "**Recall the formulas from Theorems 2.7 and 2.8 in the text\n",
    "book. If you assume that taking the absolute value and determining\n",
    "the maximum does not contribute to the overall computational cost,\n",
    "how many \\textit{flops} (floating point operations) are needed to\n",
    "calculate $\\|A\\|_1$ and $\\|A\\|_\\infty$ for\n",
    "$A\\in\\mathbb{R^{n\\times n}}$? By what factor will the calculation time\n",
    "increase when you double the size of matrix size?**\n",
    "\n",
    "For calculating either the $1$-norm or $\\infty$-norm, each row/column requires $n - 1$ additions and there are $n$ rows/columns, making $n(n-1)$ operations in total.\n",
    "\n",
    "By doubling $n$, the number of computations needed quadruples."
   ]
  },
  {
   "cell_type": "markdown",
   "metadata": {},
   "source": [
    "### c)\n",
    "**Now implement a simple code that calculates $\\|A\\|_1$ and\n",
    "$\\|A\\|_\\infty$ for a matrix of any size $n\\geq 1$. Try to do this\n",
    "without using loops. Using system sizes of $n_1=100$, $n_{k+1}=2n_k,\n",
    "k=1,\\ldots,7$, determine how long your code takes to calculate $\\norm{A}_1$ and $\\norm{A}_\\infty$\n",
    "for a matrix $A\\in\\reals^{n_i\\times n_i}$ with random entries and\n",
    "report the results. Can you confirm the estimate from (b)?**"
   ]
  },
  {
   "cell_type": "code",
   "execution_count": 2,
   "metadata": {},
   "outputs": [
    {
     "data": {
      "text/plain": [
       "[0.00013208389282226562,\n",
       " 6.985664367675781e-05,\n",
       " 0.00017905235290527344,\n",
       " 0.0006146430969238281,\n",
       " 0.0023674964904785156,\n",
       " 0.015721797943115234,\n",
       " 0.06118583679199219,\n",
       " 0.25415968894958496]"
      ]
     },
     "execution_count": 2,
     "metadata": {},
     "output_type": "execute_result"
    }
   ],
   "source": [
    "def norm(A, norm_type='infinity'):\n",
    "    if norm_type == 'l1':\n",
    "        return A.sum(axis=0).max()\n",
    "    else:\n",
    "        return A.sum(axis=1).max()\n",
    "\n",
    "time_taken = []\n",
    "for i in (100 * 2**np.arange(8)):\n",
    "    A = np.random.rand(i, i)\n",
    "    start = time.time()\n",
    "    norm(A)\n",
    "    norm(A, norm_type='l1')\n",
    "    end = time.time()\n",
    "    time_taken.append(end - start)\n",
    "time_taken"
   ]
  },
  {
   "cell_type": "markdown",
   "metadata": {},
   "source": [
    "### d)\n",
    "**Calculate for the\n",
    "system sizes in (c) $\\|A\\|_1$ and $\\|A\\|_\\infty$ using both\n",
    "your implementation and MATLAB's norm function, determine\n",
    "for each $n_i$ how long each code takes and plot the results in one\n",
    "graph. On average, by what factor is MATLAB's implementation faster than\n",
    "yours?**"
   ]
  },
  {
   "cell_type": "code",
   "execution_count": 3,
   "metadata": {},
   "outputs": [
    {
     "data": {
      "text/plain": [
       "[0.0001456737518310547,\n",
       " 0.00015497207641601562,\n",
       " 0.0008103847503662109,\n",
       " 0.003276348114013672,\n",
       " 0.011749744415283203,\n",
       " 0.07502365112304688,\n",
       " 0.29505157470703125,\n",
       " 1.200286626815796]"
      ]
     },
     "execution_count": 3,
     "metadata": {},
     "output_type": "execute_result"
    }
   ],
   "source": [
    "time_taken_numpy = []\n",
    "for i in (100 * 2**np.arange(8)):\n",
    "    A = np.random.rand(i, i)\n",
    "    start = time.time()\n",
    "    np.linalg.norm(A, ord=1)\n",
    "    np.linalg.norm(A, ord=np.inf)\n",
    "    end = time.time()\n",
    "    time_taken_numpy.append(end - start)\n",
    "time_taken_numpy"
   ]
  },
  {
   "cell_type": "markdown",
   "metadata": {},
   "source": [
    "Since I'm using vectorised math, it turns out Numpy is slower."
   ]
  },
  {
   "cell_type": "markdown",
   "metadata": {},
   "source": [
    "# 2. Let $A, B\\in \\mathbb R^{n\\times n}$ and let the matrix norm $\\|\\cdot\\|$ be induced by the subordinate of a vector norm $\\|\\cdot\\|$.\n",
    "\n",
    "### a)\n",
    "**Show that $\\|AB\\|\\le \\|A\\|\\|B\\|$.**"
   ]
  },
  {
   "cell_type": "markdown",
   "metadata": {},
   "source": [
    "$\\|AB\\| = \\max_{v \\in \\mathbb{C^n}}\\dfrac{\\|ABv\\|}{\\|v\\|}$. Then we have $\\|ABv\\| \\leq \\|AB\\|\\|v\\|$."
   ]
  },
  {
   "cell_type": "markdown",
   "metadata": {},
   "source": [
    "### b) \n",
    "**For the identity matrix $I\\in \\mathbb R^{n\\times n}$, show\n",
    "that $\\|I\\|=1$.**\n",
    "\n",
    "Let $v$ be any arbitrary vector in $\\mathbb{R}^n$.Then $Iv = v$, so $||Iv|| = ||v||$. Then $||I|| = \\max_{v \\in \\mathbb{R}^n}||Iv|| / ||v|| = \\max_{v \\in \\mathbb{R}^n}||v|| / ||v|| = 1$."
   ]
  },
  {
   "cell_type": "markdown",
   "metadata": {},
   "source": [
    "### c)\n",
    "**For $A$ invertible, show that $\\kappa(A)\\ge 1$, where\n",
    "$\\kappa(A)$ is the condition number of that matrix $A$\n",
    "corresponding to the norm $\\|\\cdot\\|$. Use the above two\n",
    "properties with $B:=A^{-1}$ for your argument.**\n",
    "\n",
    "The condition number $\\kappa(A) = ||A||||A^{-1}||$. From a) we know $||AA^{-1}|| = ||I|| = 1 \\leq ||A||||A^{-1}|| = \\kappa(A)$."
   ]
  },
  {
   "cell_type": "markdown",
   "metadata": {},
   "source": [
    "### d)\n",
    "**Argue that the Frobenius matrix norm\n",
    "$\\|A\\|_F:=\\left(\\sum_{i,j=1}^n a_{ij}^2\\right)^{1/2}$ cannot be\n",
    "induced by a suitable vector norm.**\n",
    "\n",
    "The Frobenius norm of $I$ is greater than 1 for $n > 1$. By b), the Frobenius norm cannot be a norm induced by a vector norm."
   ]
  },
  {
   "cell_type": "markdown",
   "metadata": {},
   "source": [
    "# 3. Estimates for vector and matrix norms."
   ]
  },
  {
   "cell_type": "markdown",
   "metadata": {},
   "source": [
    "### a)\n",
    "**Show that, for any $v \\in \\mathbb{R^n}$, we have \n",
    "$$\\|v\\|_\\infty \\leq \\|v\\|_2 \\quad \\text{and} \\quad\n",
    "\\| v\\|_2^2 \\leq \\| v\\|_1 \\| v\\|_\\infty.$$\n",
    "In each case, give an example of a nonzero $v$ for which equality\n",
    "is obtained.**"
   ]
  },
  {
   "cell_type": "markdown",
   "metadata": {},
   "source": [
    "For the first inequality, we trivially see that $\\|v\\|_2 = (\\sum_1^n |v_i|^2)^{1/2} \\geq \\max_i (|v_i|^2)^{1/2} = \\max_i v_i = \\|v\\|_\\infty$.\n",
    "\n",
    "For the second equality, $\\|v\\|_2^2 = (\\sum_1^n |v_i|^2) \\leq \\sum_1^n |v_i||max_i v_i| = max_i v_i \\sum_1^n |v_i| = \\|v\\|_1\\|v\\|_\\infty$.\n",
    "\n",
    "Letting $v$ have $1$ in the first entry and $0$ everywhere else, we can see that equality is obtained for all norms at value $1$. In general, any basis vector $e_i$ will have the same norm of $1$ for any norm, and any constant multiple of the basis vector will have the same norm across norms as well."
   ]
  },
  {
   "cell_type": "markdown",
   "metadata": {},
   "source": [
    "### b)\n",
    "**Let us generalize the definition of matrix norms to\n",
    "non-square matrices. We define the $\\|\\cdot\\|_p$ matrix norms\n",
    "($p\\in \\{1,2,\\infty\\}$) for an $m\\times n$ matrix $A$ by\n",
    "$$\n",
    "\\|A\\|_p = \\sup_{v \\in \\mathbb{R^n}\\backslash\\{0\\}}\n",
    "\\frac{\\|Av\\|_p}{\\|v\\|_p}\n",
    "$$\n",
    "where the norm in the numerator is defined on $\\mathbb{R^m}$ and the\n",
    "norm in the denominator is defined on $\\mathbb{R^n}$. \\\\\n",
    "Using the problem above, show that\n",
    "$$\n",
    "\\|A\\|_\\infty \\leq \\sqrt{n}\\|A\\|_2 \\quad \\text{and} \\quad\n",
    "\\|A\\|_2 \\leq \\sqrt{m}\\|A\\|_\\infty\n",
    "$$\n",
    "In each case, give an example of a nonzero matrix $A$ for which equality is obtained.**"
   ]
  },
  {
   "cell_type": "markdown",
   "metadata": {},
   "source": [
    "Note that $\\|v\\|_2 \\leq (\\sum_1^n \\max_i v_i^2)^{1/2} = (\\sum_1^n\\|v\\|_\\infty^2)^{1/2} = \\sqrt{n}\\|v\\|_\\infty$.\n",
    "\n",
    "For the first inequality, we can see that $\\|A\\|_\\infty = \\sup_{v \\in \\mathbb{R^n}} \\dfrac{\\|Av\\|_\\infty}{\\|v\\|_\\infty} \\leq \\sup_{v \\in \\mathbb{R^n}} \\dfrac{\\|Av\\|_2}{\\|v\\|_\\infty} \\leq \\sup_{v \\in \\mathbb{R^n}} \\dfrac{\\|Av\\|_2}{\\frac{1}{\\sqrt{n}}\\|v\\|_2} = \\sqrt{n}\\|A\\|_2$."
   ]
  },
  {
   "cell_type": "markdown",
   "metadata": {},
   "source": [
    "Now note that $\\|v\\|_2^2 \\leq \\|v\\|_1 \\|v\\|_\\infty = \\sum_1^m|v_i|\\|v\\|_\\infty \\leq m \\max_i v_i \\|v\\|_\\infty = m \\|v\\|_\\infty^2$.\n",
    "\n",
    "$\\|A\\|_2 = \\sup \\dfrac{\\|Av\\|_2}{\\|v\\|_2} = \\sup \\sqrt{\\dfrac{\\|Av\\|_2^2}{\\|v\\|_2^2}} \\leq \\sup \\sqrt{\\dfrac{m\\|Av\\|_\\infty^2}{\\|v\\|_\\infty^2}} = \\sqrt{m}\\|A\\|_\\infty$.\n",
    "\n",
    "Let $v = (1, 1, ..., 1)$, $v \\in \\mathbb{R^m}$. Then $\\|v\\|_2 = \\sqrt{m}$ and $\\|v\\|_\\infty = 1$. Let $v$ be the first column of the matrix $A$; then $A$ sends the basis vector $(1, 0, ..., 0) \\in \\mathbb{R}^n$ to $v$, giving us equality for $\\|A\\|_2 = \\sqrt{m}\\|A\\|_\\infty$."
   ]
  },
  {
   "cell_type": "markdown",
   "metadata": {},
   "source": [
    "# 4. \n",
    "\n",
    "### a)\n",
    "$\\|Ax\\|_2^2\\| = x^TA^TAx = x^T\\lambda x = \\lambda x^Tx = \\lambda\\|x\\|_2^2$. Only the zero matrix has all eigenvalues $0$, so $\\lambda \\geq 0$.\n",
    "\n",
    "### b)\n",
    "Since $A^TA$ is symmetric, $\\|A^TA\\|_2$ is the maximum eigenvalue of $A^TA$. Then an arbitrary eigenvalue $\\lambda$ is less than $\\|A^TA\\|_2$.\n",
    "\n",
    "Then since $\\|Ax\\|_2^2 = \\lambda\\|x\\|_2^2 \\leq \\|A^TA\\|^{1/2}\\|x\\|_2 \\implies \\dfrac{\\|Ax\\|_2}{\\|x\\|_2} = \\|A\\|_2 \\leq \\|A^TA\\|^{1/2}$."
   ]
  },
  {
   "cell_type": "markdown",
   "metadata": {},
   "source": [
    "### c)\n",
    "$\\kappa_2 = \\|A\\|_2\\|A^{-1}\\|_2 \\leq \\|A^TA\\|^{1/2}\\|A^{-1T}A^{-1}\\|^{1/2}\n",
    "\\leq \\|A^T\\|^{1/2}\\|A\\|^{1/2}\\|A{-1}\\|^{1/2}\\|A^{-1}\\|^{1/2} = (\\|A\\|_1\\|A^{-1}\\|\\|A\\|_\\infty\\|A^{-1}\\|_\\infty)^{1/2} = (\\kappa_1(A)\\kappa_\\infty(A))^{1/2}$."
   ]
  },
  {
   "cell_type": "markdown",
   "metadata": {},
   "source": [
    "# 5.\n",
    "The inequality is sharp for the largest eigenvector of $A^TA$"
   ]
  },
  {
   "cell_type": "markdown",
   "metadata": {},
   "source": [
    "# 6."
   ]
  },
  {
   "cell_type": "code",
   "execution_count": 4,
   "metadata": {},
   "outputs": [],
   "source": [
    "A = np.array([[9, -6], [12, -8], [0, 20]])\n",
    "Q, R = np.linalg.qr(A)"
   ]
  },
  {
   "cell_type": "code",
   "execution_count": 5,
   "metadata": {},
   "outputs": [
    {
     "data": {
      "text/plain": [
       "array([[-0.6,  0. ],\n",
       "       [-0.8,  0. ],\n",
       "       [-0. , -1. ]])"
      ]
     },
     "execution_count": 5,
     "metadata": {},
     "output_type": "execute_result"
    }
   ],
   "source": [
    "Q"
   ]
  },
  {
   "cell_type": "code",
   "execution_count": 6,
   "metadata": {},
   "outputs": [
    {
     "data": {
      "text/plain": [
       "array([[-15.,  10.],\n",
       "       [  0., -20.]])"
      ]
     },
     "execution_count": 6,
     "metadata": {},
     "output_type": "execute_result"
    }
   ],
   "source": [
    "R"
   ]
  },
  {
   "cell_type": "code",
   "execution_count": 7,
   "metadata": {},
   "outputs": [
    {
     "data": {
      "text/plain": [
       "array([[-6. ,  0. ,  0.8],\n",
       "       [-0.8,  0. , -0.6],\n",
       "       [ 0. , -1. ,  0. ]])"
      ]
     },
     "execution_count": 7,
     "metadata": {},
     "output_type": "execute_result"
    }
   ],
   "source": [
    "# q-hat\n",
    "np.array([[-6, 0, 0.8],\n",
    "         [-0.8, 0, -0.6],\n",
    "         [0, -1, 0]])"
   ]
  },
  {
   "cell_type": "code",
   "execution_count": 8,
   "metadata": {},
   "outputs": [
    {
     "data": {
      "text/plain": [
       "array([[-15,  10],\n",
       "       [  0, -20],\n",
       "       [  0,   0]])"
      ]
     },
     "execution_count": 8,
     "metadata": {},
     "output_type": "execute_result"
    }
   ],
   "source": [
    "# r-hat\n",
    "np.array([[-15, 10],\n",
    "          [0, -20],\n",
    "          [0, 0]])"
   ]
  },
  {
   "cell_type": "markdown",
   "metadata": {},
   "source": [
    "Solution for the vector b"
   ]
  },
  {
   "cell_type": "code",
   "execution_count": 9,
   "metadata": {},
   "outputs": [
    {
     "data": {
      "text/plain": [
       "array([74., 45.])"
      ]
     },
     "execution_count": 9,
     "metadata": {},
     "output_type": "execute_result"
    }
   ],
   "source": [
    "b = np.array([300, 600, 900])\n",
    "\n",
    "tmp = np.dot(Q.T, b)\n",
    "\n",
    "np.linalg.solve(R, tmp)"
   ]
  },
  {
   "cell_type": "code",
   "execution_count": 10,
   "metadata": {},
   "outputs": [
    {
     "data": {
      "text/plain": [
       "[<matplotlib.lines.Line2D at 0x7f19aaa33278>]"
      ]
     },
     "execution_count": 10,
     "metadata": {},
     "output_type": "execute_result"
    },
    {
     "data": {
      "image/png": "[encoded data removed]",
      "text/plain": [
       "<Figure size 432x288 with 1 Axes>"
      ]
     },
     "metadata": {},
     "output_type": "display_data"
    }
   ],
   "source": [
    "x = np.linspace(0, 100)\n",
    "y1 = 3/2 * x - 50\n",
    "y2 = 3/2 * x - 75\n",
    "y3 = 900/20 * (x - x + 1)\n",
    "plt.plot(x, y1, color='red')\n",
    "plt.plot(x, y2, color='blue')\n",
    "plt.plot(x, y3, color='green')\n",
    "plt.plot(74, 45, 'bx')"
   ]
  },
  {
   "cell_type": "markdown",
   "metadata": {},
   "source": [
    "# 7.\n",
    "$0 = a + d$\n",
    "\n",
    "$0.2 = ae^{0.5} + \\frac{1}{4}b + \\frac{1}{2}c + d$\n",
    "\n",
    "$0.27 = ae + b + c + d$\n",
    "\n",
    "$0.3 = ae^2 + 4b + 2c + d$\n",
    "\n",
    "$0.33 = ae^{2.5} + 6.25b + 2.25c + d$"
   ]
  },
  {
   "cell_type": "code",
   "execution_count": 11,
   "metadata": {},
   "outputs": [],
   "source": [
    "A = np.array([[np.exp(0.5), 1/4, 1/2, 1],\n",
    "              [np.exp(1), 1, 1, 1],\n",
    "              [np.exp(1.5), 2.25, 1.5, 1],\n",
    "              [np.exp(2), 4, 2, 1],\n",
    "              [np.exp(2.5), 6.25, 2.25, 1]])\n",
    "b = np.array([0.2, 0.27, 0.3, 0.32, 0.33])\n",
    "\n",
    "Q, R = np.linalg.qr(A)\n",
    "coef = np.linalg.solve(R, np.dot(Q.T, b))"
   ]
  },
  {
   "cell_type": "code",
   "execution_count": 12,
   "metadata": {},
   "outputs": [
    {
     "data": {
      "text/plain": [
       "array([ 0.08032998, -0.19645026,  0.26424811, -0.01552104])"
      ]
     },
     "execution_count": 12,
     "metadata": {},
     "output_type": "execute_result"
    }
   ],
   "source": [
    "coef"
   ]
  },
  {
   "cell_type": "code",
   "execution_count": 13,
   "metadata": {},
   "outputs": [
    {
     "data": {
      "text/plain": [
       "[<matplotlib.lines.Line2D at 0x7f19aaa28d68>]"
      ]
     },
     "execution_count": 13,
     "metadata": {},
     "output_type": "execute_result"
    },
    {
     "data": {
      "image/png": "[encoded data removed]",
      "text/plain": [
       "<Figure size 432x288 with 1 Axes>"
      ]
     },
     "metadata": {},
     "output_type": "display_data"
    }
   ],
   "source": [
    "x = np.linspace(0, 2.5)\n",
    "y = coef[0]*np.exp(x) + coef[1] * np.power(x, 2) + coef[2] * x + coef[3]\n",
    "\n",
    "plt.plot(x, y)\n",
    "plt.plot(0, 0, 'bx')\n",
    "plt.plot(.5, .2, 'bx')\n",
    "plt.plot(1, .27, 'bx')\n",
    "plt.plot(1.5, .3, 'bx')\n",
    "plt.plot(2, .32, 'bx')\n",
    "plt.plot(2.5, .33, 'bx')"
   ]
  },
  {
   "cell_type": "code",
   "execution_count": null,
   "metadata": {},
   "outputs": [],
   "source": []
  }
 ],
 "metadata": {
  "kernelspec": {
   "display_name": "Python 3",
   "language": "python",
   "name": "python3"
  },
  "language_info": {
   "codemirror_mode": {
    "name": "ipython",
    "version": 3
   },
   "file_extension": ".py",
   "mimetype": "text/x-python",
   "name": "python",
   "nbconvert_exporter": "python",
   "pygments_lexer": "ipython3",
   "version": "3.5.2"
  }
 },
 "nbformat": 4,
 "nbformat_minor": 2
}
