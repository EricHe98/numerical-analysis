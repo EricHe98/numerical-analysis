{
 "cells": [
  {
   "cell_type": "markdown",
   "metadata": {},
   "source": [
    "## Eric He\n",
    "\n",
    "## Numerical Analysis\n",
    "\n",
    "## Assignment 6"
   ]
  },
  {
   "cell_type": "code",
   "execution_count": 1,
   "metadata": {},
   "outputs": [],
   "source": [
    "import numpy as np\n",
    "import pandas as pd\n",
    "import matplotlib.pyplot as plt\n",
    "import seaborn as sns\n",
    "import time\n",
    "import math\n",
    "sns.set_style('whitegrid')"
   ]
  },
  {
   "cell_type": "markdown",
   "metadata": {},
   "source": [
    "# 1. \n",
    "\n",
    "Let $x_0=0,x_1=1,x_2=2$.\n",
    "  Recall that the Hermite interpolation of a function $f$ at the\n",
    "  points $x_0,x_1,x_2$ has the form\n",
    "  $$p(x) = \\sum_{j=0}^2H_j(x)f(x_j) + \\sum_{j=0}^2K_j(x)f'(x_j).$$"
   ]
  },
  {
   "cell_type": "markdown",
   "metadata": {},
   "source": [
    "## a)\n",
    "\n",
    "Show that the polynomial $H_1(x)$ in this representation is\n",
    "    given by  $$x^4 - 4x^3 + 4x^2.$$"
   ]
  },
  {
   "cell_type": "markdown",
   "metadata": {},
   "source": [
    "### Answer\n",
    "\n",
    "We first calculate the Lagrange interpolation polynomial $L_1$.\n",
    "\n",
    "\\begin{align}\n",
    "L_1 &= \\big(\\dfrac{x - 0}{1 - 0}\\big) \\big(\\dfrac{x - 2}{1 - 2}\\big) \\\\\n",
    "&= -(x)(x-2) \\\\\n",
    "&= -x^2 + 2x \n",
    "\\end{align}\n",
    "\n",
    "The corresponding first order derivative $L_1' = -2x + 2$; at $x_1 = 1$ this corresponds to the value $0$.\n",
    "\n",
    "Then $H_1$ follows the formula\n",
    "\n",
    "\\begin{align}\n",
    "H_1 &= L_1^2 (1 - 2 L_1'(x - 1)) \\\\\n",
    "&= (-x^2 + 2x)^2 \\\\\n",
    "&= x^4 - 2x^3 - 2x^3 + 4x^2 \\\\\n",
    "&= x^4 - 4x^3 + 4x^2 \n",
    "\\end{align}"
   ]
  },
  {
   "cell_type": "markdown",
   "metadata": {},
   "source": [
    "## b)\n",
    "\n",
    "Verify that the polynomial $K_1(x)$ in this representation is\n",
    "    $$\n",
    "    x^5 -5 x^4 + 8x^3 -4x^2.\n",
    "    $$"
   ]
  },
  {
   "cell_type": "markdown",
   "metadata": {},
   "source": [
    "### Answer\n",
    "\n",
    "\\begin{align}\n",
    "&K_k = L_k^2(x - x_k) \\\\\n",
    "&\\implies K_1 = (-x^2 + 2x)^2(x-1) \\\\\n",
    "&= (x^4 - 4x^3 + 4x^2)(x - 1) \\\\\n",
    "&= x^5 - x^4 - 4x^4 + 4x^3 + 4x^3 - 4x^2 \\\\\n",
    "&= x^5 - 5x^4 + 8x^3 - 4x^2 \n",
    "\\end{align}"
   ]
  },
  {
   "cell_type": "markdown",
   "metadata": {},
   "source": [
    "## c)\n",
    "\n",
    "Sketch $H_2(x)$ and $K_2(x)$ in the same graph without\n",
    "    computing their exact form explicitly."
   ]
  },
  {
   "cell_type": "markdown",
   "metadata": {},
   "source": [
    "### Answer\n",
    "\n",
    "$H_2$ has the property that it has the value $1$ at $x_2 = 2$ and $0$ at $x_0 = 0, x_1 = 1$. Additionally, it has the derivative take the value $0$ at the points $x_0 = 0, x_1 = 1, x_2 = 2$.\n",
    "\n",
    "$K_2$ has the property that it has the value $0$ at $x_0 = 0, x_1 = 1, x_2 = 2$, and the first derivative taking value $1$ at $x_2 = 2$ and $0$ at $x_0 = 0, x_1 = 1$."
   ]
  },
  {
   "cell_type": "markdown",
   "metadata": {},
   "source": [
    "# 2.\n",
    "\n",
    "Write codes to approximate integrals of the form\n",
    "$$\n",
    "I(f) = \\int_a^bf(t)\\,dt\n",
    "$$\n",
    "using the trapezoidal and Simpson's rule on the sub-intervals\n",
    "$[x_{i-1},x_{i}]$, $i=1,\\ldots,m$, where $x_i=a+ih$, $i=0,\\ldots,m$\n",
    "with $h=(b-a)/m$."
   ]
  },
  {
   "cell_type": "code",
   "execution_count": 2,
   "metadata": {},
   "outputs": [],
   "source": [
    "def equispace(a, b, m):\n",
    "    step = (b - a) / m\n",
    "    left_endpoints = (np.arange(m) * step) + a\n",
    "    right_endpoints = left_endpoints + step\n",
    "    return left_endpoints, right_endpoints\n",
    "\n",
    "def trapezoidal(f, a, b, m):\n",
    "    left, right = equispace(a, b, m)\n",
    "    integral = 0\n",
    "    for i in range(len(left)):\n",
    "        length = right[i] - left[i]\n",
    "        left_value = f(left[i])\n",
    "        right_value = f(right[i])\n",
    "        area = (left_value + right_value) * length / 2\n",
    "        integral += area\n",
    "    return integral    \n",
    "    \n",
    "def simpson(f, a, b, m):\n",
    "    if m % 2 == 1:\n",
    "        raise Exception('Number of subintervals m must be even')\n",
    "    left, right = equispace(a, b, m)\n",
    "    step = (b - a) / m\n",
    "    factor = step / 3\n",
    "    integral = 0\n",
    "    for i in np.arange(len((left)) / 2, dtype='int'):\n",
    "        left_value = f(left[2*i])\n",
    "        mid_value = f(left[2*i] + step)\n",
    "        right_value = f(left[2*i] + 2 * step)\n",
    "        area = (left_value + 4 * mid_value + right_value)\n",
    "        integral += area\n",
    "    integral = integral * factor\n",
    "    return integral"
   ]
  },
  {
   "cell_type": "markdown",
   "metadata": {},
   "source": [
    "## a)\n",
    "\n",
    "Hand in listings of your codes, and use them to\n",
    "  approximate the integral \n",
    "$$\n",
    "\\int_{0.1}^1 \\sqrt{x}\\,dx.\n",
    "$$ Compare the numerical errors $\\mathcal E$ for both quadrature rules (the exact\n",
    "value of the integral is $\\frac{2}{3} - \\frac{1}{15 \\sqrt{10}}$). Try\n",
    "different $m$ (e.g., $m=10,20,40,80,\\ldots$) and plot the quadrature\n",
    "errors versus $m$ in a double-logarithmic plot."
   ]
  },
  {
   "cell_type": "code",
   "execution_count": 33,
   "metadata": {},
   "outputs": [
    {
     "data": {
      "text/plain": [
       "<matplotlib.legend.Legend at 0x7f1309afd4a8>"
      ]
     },
     "execution_count": 33,
     "metadata": {},
     "output_type": "execute_result"
    },
    {
     "data": {
      "image/png": "[encoded data removed]",
      "text/plain": [
       "<Figure size 432x288 with 1 Axes>"
      ]
     },
     "metadata": {},
     "output_type": "display_data"
    }
   ],
   "source": [
    "def f(x):\n",
    "    return np.sqrt(x)\n",
    "\n",
    "a = 0.1\n",
    "b = 1\n",
    "ms = 2 * 2 ** np.arange(10)\n",
    "exact = 2 / 3 - (1 / (15 * np.sqrt(10)))\n",
    "\n",
    "error_trap = []\n",
    "error_simp = []\n",
    "for m in ms:\n",
    "    trap = trapezoidal(f, a, b, m)\n",
    "    simp = simpson(f, a, b, m)\n",
    "    \n",
    "    error_trap.append(np.abs(trap - exact))\n",
    "    error_simp.append(np.abs(simp - exact))\n",
    "\n",
    "plt.plot(ms, error_trap, 'x', label='Trapezoidal Error')\n",
    "plt.plot(ms, error_simp, 'x', label='Simpsons Error')\n",
    "plt.xscale('log')\n",
    "plt.yscale('log')\n",
    "plt.legend()"
   ]
  },
  {
   "cell_type": "markdown",
   "metadata": {},
   "source": [
    "## b)\n",
    "\n",
    "To numerically study how the errors $\\mathcal E$ decrease with\n",
    "  $m$, we assume that the errors behaves like $Cm^\\kappa$, with\n",
    "  to-be-determined $C,\\kappa\\in \\mathbb R$. Applying the logarithm to\n",
    "  $\\mathcal E = Cm^\\kappa$ results in\n",
    "  $$\n",
    "  \\log(\\mathcal E) = D + \\kappa\\log(m),\n",
    "  $$\n",
    "  where $D=\\log(C)$. Use the values for $m$ and $\\log(\\mathcal E)$ you\n",
    "  computed in (a) to find the best-fitting values for $D$ and $\\kappa$ by solving a least squares problem. Compare your\n",
    "  findings for $\\kappa$ with the theoretical estimates for the composite\n",
    "  trapezoidal and Simpson's rules."
   ]
  },
  {
   "cell_type": "markdown",
   "metadata": {},
   "source": [
    "### Answer\n",
    "\n",
    "The error bound for the composite trapezoidal rule is given by $\\dfrac{(b - a)^3}{12m^2}M_2$, where $M_2$ is the maximum absolute value of the second derivative on $[a, b]$. \n",
    "\n",
    "Likewise, the error bound for the composite Simpson's rule is given by $\\dfrac{(b-a)^5}{2880m^4}M_4$, where $m$ is the number of sub-intervals.\n",
    "\n",
    "Given $f = \\sqrt{x}$, we have\n",
    "\n",
    "$f' = \\frac{1}{2}x^{-1/2}$,\n",
    "\n",
    "$f'' = \\frac{-1}{4}x^{-3/2}$,\n",
    "\n",
    "$f^{(3)} = \\frac{3}{8}x^{-5/2}$,\n",
    "\n",
    "$f^{(4)} = \\frac{-15}{16}x^{-7/2}$\n",
    "\n",
    "Given these, $M_2 = \\frac{1}{4}$ and $M_4 = \\frac{15}{16}$ on the interval $[0.1, 1]$."
   ]
  },
  {
   "cell_type": "markdown",
   "metadata": {},
   "source": [
    "Thus, the theoretical bound for the trapezoidal rule is $\\dfrac{0.9^3}{48m^2}$, and the theoretical bound for Simpson's is $\\dfrac{0.9^5}{2880m^4} \\dfrac{15}{16}$.\n",
    "\n",
    "Rewritten in the format $\\log(E) = D + \\kappa \\log(m)$, we have $\\kappa$ equal to the coefficients of $m$. For the trapezoidal rule, this is $-2$; for Simpson's rule, this is $-4$.\n",
    "\n",
    "The empirical error is calculated below:"
   ]
  },
  {
   "cell_type": "code",
   "execution_count": 28,
   "metadata": {},
   "outputs": [],
   "source": [
    "e_trap = np.log(error_trap)\n",
    "e_simp = np.log(error_simp)\n",
    "\n",
    "ones = np.ones_like(ms)\n",
    "\n",
    "A = np.array([np.log(ms), ones]).T\n",
    "# A = np.array([ones, np.log(ms)]).T\n",
    "\n",
    "K_trap, _ = np.linalg.lstsq(A, e_trap, rcond=None)[0]\n",
    "K_simp, _ = np.linalg.lstsq(A, e_simp, rcond=None)[0]"
   ]
  },
  {
   "cell_type": "code",
   "execution_count": 29,
   "metadata": {},
   "outputs": [
    {
     "data": {
      "text/plain": [
       "-1.9835772307054929"
      ]
     },
     "execution_count": 29,
     "metadata": {},
     "output_type": "execute_result"
    }
   ],
   "source": [
    "K_trap"
   ]
  },
  {
   "cell_type": "code",
   "execution_count": 30,
   "metadata": {},
   "outputs": [
    {
     "data": {
      "text/plain": [
       "-3.7250524670879908"
      ]
     },
     "execution_count": 30,
     "metadata": {},
     "output_type": "execute_result"
    }
   ],
   "source": [
    "K_simp"
   ]
  },
  {
   "cell_type": "markdown",
   "metadata": {},
   "source": [
    "The empirical Kappas are not far below the theoretical bounds, with the trapezoidal rule having an empirical $\\kappa$ of $-1.97$ relative to the bound of $-2$, and Simpson's having an empirical $\\kappa$ of $-3.52$ with an empirical bound of $-4$."
   ]
  },
  {
   "cell_type": "markdown",
   "metadata": {},
   "source": [
    "# 3.\n",
    "\n",
    "The upper row in the\n",
    "  below figure shows a function $f$ together with a polynomial\n",
    "  approximation. For three plots, the optimal best 2-norm fit for\n",
    "  three different weights $w(x)$ is used, and one is the result of an\n",
    "  Lagrange interpolation. Match the approximations in the upper row\n",
    "  with the information (weight functions or interpolation points) in\n",
    "  the lower row."
   ]
  },
  {
   "cell_type": "code",
   "execution_count": 7,
   "metadata": {},
   "outputs": [
    {
     "data": {
      "image/png": "[encoded data removed]",
      "text/plain": [
       "<IPython.core.display.Image object>"
      ]
     },
     "execution_count": 7,
     "metadata": {},
     "output_type": "execute_result"
    }
   ],
   "source": [
    "from IPython.display import Image\n",
    "from IPython.core.display import HTML \n",
    "Image('num_anal_hw5_figure.png')"
   ]
  },
  {
   "cell_type": "markdown",
   "metadata": {},
   "source": [
    "In the lower row, figure (A) greatly upweights a close fit towards the right side of the interval; this is given by figure 3 on the top row.\n",
    "\n",
    "Figure (B) is a simple Lagrange interpolation seeking to match the point values at 4 different values of x; this corresponds to Figure 4 on the top row.\n",
    "\n",
    "Figure (C) equiweights errors uniformly across the interval, corresponding to Figure 2 on the top row.\n",
    "\n",
    "Figure (D) highly weights a close fit towards the left side of the interval, corresponding to figure 1 in the top row."
   ]
  },
  {
   "cell_type": "markdown",
   "metadata": {},
   "source": [
    "# 4.\n",
    "\n",
    "Remember that a function\n",
    "  $f$ is called *even* if $f(-x)=f(x)$ and *odd* if\n",
    "  $f(-x)=-f(x)$ for all $x$ in its domain. Let $w$ be an even weight\n",
    "  function on the interval $(-a,a)$ and $\\{\\phi_0, \\phi_1,..,\\phi_n\\}$ be a\n",
    "  system of orthogonal polynomials on $(-a,a)$ with respect to $w$,\n",
    "  constructed from the monomial basis ${1,x,x^2,\\ldots}$ using\n",
    "  Gram-Schmidt-Orthogonalization. "
   ]
  },
  {
   "cell_type": "markdown",
   "metadata": {},
   "source": [
    "## a)\n",
    "\n",
    "Show that, if $j$ is even, then $\\phi_j$ is an even function and\n",
    "  if $j$ is odd, then $\\phi_j$ is an odd function."
   ]
  },
  {
   "cell_type": "markdown",
   "metadata": {},
   "source": [
    "### Answer\n",
    "\n",
    "Since $w$ is an even function, $w(x) = w(-x)$ and $\\int_{-1}^0 w dx = \\int_0^1 w dx$\n",
    "\n",
    "Now the orthogonal polynomial $\\phi_1$ must have intercept $0$ to be orthogonal to the even function $w$. Thus $\\phi_1$ is odd, and $\\phi_1w$, being the product of an even and odd function, is also odd.\n",
    "\n",
    "$\\phi_j$ must be orthogonal to both the even function $w$ and the odd function $\\phi_1w$ on a symmetric interval $[-a, a]$. This is only possible if $\\phi_j$ is even or odd; it cannot be neither.\n",
    "\n",
    "If $j$ is even, then $\\phi_j$ cannot be odd, since a polynomial of even degree cannot be odd. Likewise, if $j$ is odd, then $\\phi_j$ cannot be even. \n",
    "\n",
    "Thus if $j$ is even, $\\phi_j$ is even, and if $j$ is odd, $\\phi_j$ is odd."
   ]
  },
  {
   "cell_type": "markdown",
   "metadata": {},
   "source": [
    "## b)\n",
    "Let $f:[-a,a]\\to \\mathbb R$ and $p_n(x)=\\gamma_0 \\phi_0(x)+\\dots\n",
    "  + \\gamma_n \\phi_n(x)$ its best polynomial approximation of degree $n$\n",
    "  with respect to the weighted $2$-norm. Show that if $f$ is an even\n",
    "  function, then all the odd coefficients $\\gamma_{2j-1}$ are zero and\n",
    "  if $f$ is an odd function, then all the even coefficients\n",
    "  $\\gamma_{2j}$ are zero."
   ]
  },
  {
   "cell_type": "markdown",
   "metadata": {},
   "source": [
    "### Answer\n",
    "\n",
    "Except for $f = 0$, the sum of an even function and an odd function is neither odd nor even. This is because if $f(x)$ odd, $g(x)$ even, nonzero at some point x, their sum $z(x) = f(x) + g(x)$ has the property $z(x) + z(-x) = 2g(x)$, so $z$ is not odd. But at a point where $f(x) \\neq 0$, $z(x) \\neq z(-x)$, so $z$ is not even either.\n",
    "\n",
    "Then for $f$ to be even, it can only be a sum of even functions, so the coefficients for all the odd basis functions must be $0$. Likewise, for $f$ to be odd, it must be a sum of odd functions, so the coefficients for all the even basis functions must be $0$."
   ]
  },
  {
   "cell_type": "markdown",
   "metadata": {},
   "source": [
    "# 5.\n",
    "\n",
    "We\n",
    "  discussed two methods to integrate functions numerically, namely the\n",
    "  Newton-Cotes formulas and Gauss quadrature."
   ]
  },
  {
   "cell_type": "markdown",
   "metadata": {},
   "source": [
    "## a)\n",
    "\n",
    "Recall that we calculated the first three orthogonal polynomials\n",
    "  with respect to $w\\equiv 1$ on $(0,1)$ in class to be\n",
    "  $\\{\\phi_0,\\phi_1,\\phi_2\\}=\\{1,x-1/2, x^2-x+1/6\\}$. Calculate $\\phi_3(x)$\n",
    "  using the ansatz $\\phi_3(x) = x^3-a_2\\phi_2(x)-a_1\\phi_1(x)-a_0\\phi_0(x)$,\n",
    "  with appropriately computed $a_2,a_1,a_0\\in \\mathbb R$."
   ]
  },
  {
   "cell_type": "markdown",
   "metadata": {},
   "source": [
    "### Answer\n",
    "\n",
    "We proceed using the Gram-Schmidt algorithm, noting that $\\phi_0, \\phi_1, \\phi_2$ all have a norm of $1$.\n",
    "\n",
    "$\\int_0^1 x^3 (x^2 - x + \\frac{1}{6}) dx = \\dfrac{1}{6} - \\dfrac{1}{5} + \\dfrac{1}{24} = \\dfrac{1}{120}$\n",
    "\n",
    "Then $a_2 = \\dfrac{1}{120}$.\n",
    "\n",
    "$\\int_0^1 x^3(x - \\frac{1}{2}) dx = \\frac{1}{5} - \\frac{1}{8} = \\frac{3}{40}$\n",
    "\n",
    "Then $a_1 = \\dfrac{3}{40}$.\n",
    "\n",
    "The final projection yields\n",
    "\n",
    "$\\int_0^1 x^3 dx =\\frac{1}{4}$.\n",
    " \n",
    " Then $a_0 = \\dfrac{1}{4}$."
   ]
  },
  {
   "cell_type": "markdown",
   "metadata": {},
   "source": [
    "Thus \n",
    "$\\phi_3(x) = x^3 - \\frac{1}{120}\\phi_2(x) - \\frac{3}{40}\\phi_1(x) - \\frac{1}{4} = x^3 - \\dfrac{3}{2}x^2 + \\dfrac{3}{5}x - \\dfrac{1}{20}$"
   ]
  },
  {
   "cell_type": "markdown",
   "metadata": {},
   "source": [
    "## b)\n",
    "\n",
    "Derive the Gaussian Quadrature formula for $n=2$, i.e.,\n",
    "  calculate both the quadrature points $x_0,x_1,x_2$ (these are the\n",
    "  roots of $\\phi_3$ and the corresponding weights\n",
    "  $W_0,W_1,W_2$."
   ]
  },
  {
   "cell_type": "markdown",
   "metadata": {},
   "source": [
    "### Answer\n",
    "\n",
    "The quadrature points are the roots of $\\phi_3$, which are $x_0 = 1/2, x_1 = \\frac{1}{10}(5-\\sqrt{15}), x_2 = \\frac{1}{10}(5+\\sqrt{15})$.\n",
    "\n",
    "We find the weights numerically."
   ]
  },
  {
   "cell_type": "code",
   "execution_count": 8,
   "metadata": {},
   "outputs": [],
   "source": [
    "def L(nodes, number):\n",
    "    nodes_less_index = nodes[np.arange(len(nodes)) != number]\n",
    "    denominator = np.prod(nodes_less_index - nodes[number])\n",
    "    poly = np.poly(nodes_less_index)\n",
    "    poly = poly / denominator\n",
    "    return poly\n",
    "\n",
    "# weight function is identity\n",
    "def W(poly, a, b):\n",
    "    polysq = np.polymul(poly, poly)\n",
    "    integral = np.polyint(polysq)\n",
    "    return np.polyval(integral, b) - np.polyval(integral, a)"
   ]
  },
  {
   "cell_type": "code",
   "execution_count": 9,
   "metadata": {},
   "outputs": [],
   "source": [
    "nodes = np.array([1/2, \n",
    "                  1/10 * (5 - np.sqrt(15)),\n",
    "                  1/10 * (5 + np.sqrt(15))])\n",
    "a = 0\n",
    "b = 1\n",
    "\n",
    "weights = []\n",
    "for i in np.arange(len(nodes)):\n",
    "    weights.append(W(L(nodes, i), a, b))\n",
    "weights = np.array(weights)"
   ]
  },
  {
   "cell_type": "code",
   "execution_count": 10,
   "metadata": {},
   "outputs": [
    {
     "data": {
      "text/plain": [
       "array([-1.,  4., -3.])"
      ]
     },
     "execution_count": 10,
     "metadata": {},
     "output_type": "execute_result"
    }
   ],
   "source": [
    "L(np.array([1, 2, 3]), 1)"
   ]
  },
  {
   "cell_type": "code",
   "execution_count": 11,
   "metadata": {},
   "outputs": [
    {
     "data": {
      "text/plain": [
       "-3.0"
      ]
     },
     "execution_count": 11,
     "metadata": {},
     "output_type": "execute_result"
    }
   ],
   "source": [
    "np.polyval(L(np.array([1, 2, 3]), 1), 0)"
   ]
  },
  {
   "cell_type": "markdown",
   "metadata": {},
   "source": [
    "#### $W_0$"
   ]
  },
  {
   "cell_type": "code",
   "execution_count": 12,
   "metadata": {},
   "outputs": [
    {
     "data": {
      "text/plain": [
       "0.44444444444444603"
      ]
     },
     "execution_count": 12,
     "metadata": {},
     "output_type": "execute_result"
    }
   ],
   "source": [
    "weights[0]"
   ]
  },
  {
   "cell_type": "markdown",
   "metadata": {},
   "source": [
    "#### $W_1$"
   ]
  },
  {
   "cell_type": "code",
   "execution_count": 13,
   "metadata": {},
   "outputs": [
    {
     "data": {
      "text/plain": [
       "0.2777777777777777"
      ]
     },
     "execution_count": 13,
     "metadata": {},
     "output_type": "execute_result"
    }
   ],
   "source": [
    "weights[1]"
   ]
  },
  {
   "cell_type": "markdown",
   "metadata": {},
   "source": [
    "$W_2$"
   ]
  },
  {
   "cell_type": "code",
   "execution_count": 14,
   "metadata": {},
   "outputs": [
    {
     "data": {
      "text/plain": [
       "0.2777777777777776"
      ]
     },
     "execution_count": 14,
     "metadata": {},
     "output_type": "execute_result"
    }
   ],
   "source": [
    "weights[2]"
   ]
  },
  {
   "cell_type": "markdown",
   "metadata": {},
   "source": [
    "## c)"
   ]
  },
  {
   "cell_type": "markdown",
   "metadata": {},
   "source": [
    "Now we want to compare Gaussian quadrature derived in (b) with\n",
    "  the Simpson's Rule. Use both methods to numerically find\n",
    "$$\n",
    "I_k=\\int_0^1 x^k\\,dx,\\qquad \\text{for} \\quad k=0,\\ldots,7.\n",
    "$$\n",
    "Plot the errors arising in each method as a function of $k$. Note that\n",
    "to find the error, you will need to calculate the exact values for\n",
    "$I_k$ (by hand)."
   ]
  },
  {
   "cell_type": "markdown",
   "metadata": {},
   "source": [
    "### Answer"
   ]
  },
  {
   "cell_type": "code",
   "execution_count": 32,
   "metadata": {},
   "outputs": [
    {
     "data": {
      "text/plain": [
       "<matplotlib.legend.Legend at 0x7f1309b4f748>"
      ]
     },
     "execution_count": 32,
     "metadata": {},
     "output_type": "execute_result"
    },
    {
     "data": {
      "image/png": "[encoded data removed]",
      "text/plain": [
       "<Figure size 432x288 with 1 Axes>"
      ]
     },
     "metadata": {},
     "output_type": "display_data"
    }
   ],
   "source": [
    "def gaussian_quadrature(f, nodes, weights):\n",
    "    return np.sum(f(nodes) * weights)\n",
    "\n",
    "error_gauss = []\n",
    "error_simp = []\n",
    "ks = np.arange(8)\n",
    "for k in ks:\n",
    "    gauss = gaussian_quadrature(lambda x: x ** k, \n",
    "                                nodes,\n",
    "                                weights)\n",
    "    simp = simpson(lambda x: x ** k,\n",
    "                   0,\n",
    "                   1,\n",
    "                   4)\n",
    "    true = 1 / (k+1)\n",
    "    \n",
    "    error_gauss.append(np.abs(true - gauss))\n",
    "    error_simp.append(np.abs(true - simp))\n",
    "\n",
    "plt.plot(ks, error_gauss, 'x', label='Gaussian error')\n",
    "plt.plot(ks, error_simp, 'x', label='Simpson\\'s error')\n",
    "plt.legend()"
   ]
  },
  {
   "cell_type": "markdown",
   "metadata": {},
   "source": [
    "## d)\n",
    "\n",
    "Explain your findings using the results on the exact integration\n",
    "  for polynomials up to certain degrees discussed in class.\n",
    "  \n",
    "### Answer\n",
    "\n",
    "The Gaussian is exact until $k = 5$, whereas Simpson's is exact until $k = 3$. This is in agreement with the theorem that Simpson's is exact for up to order $k + 1$ for $k$ even, and that Gaussian quadrature is exact for up to order $2k + 1$ for $k$ even; in these situations, $k = 2$, lining up with the empirical bounds."
   ]
  },
  {
   "cell_type": "markdown",
   "metadata": {},
   "source": [
    "# 6. Orthogonal polynomials on $[0,\\infty)$"
   ]
  },
  {
   "cell_type": "markdown",
   "metadata": {},
   "source": [
    "## a)\n",
    "\n",
    "Find  orthogonal   polynomials  $l_0,l_1,l_2,l_3$   for  the\n",
    "    unbounded   interval  $[0,\\infty)$   with   the  weight   function\n",
    "    $\\omega(x)=\\exp(-x)$. They are called *Laguerre polynomials*.\n",
    "    \n",
    "### Answer\n",
    "\n",
    "Since $\\int_0^\\infty e^{-x} dx = -1 \\neq 0$, $l_0 = 1$.\n",
    "\n",
    "It follows that $l_1 = x - \\int_0^\\infty xe^{-x} dx \\\\\n",
    "= x - 1$,\n",
    "\n",
    "The rest of the projections can be calculated using Wolfram Alpha:\n",
    "\n",
    "\\begin{align}\n",
    "&\\int_0^\\infty x^2(x - 1)e^{-x} dx = 4, \\\\\n",
    "& \\int_0^\\infty x^2 e^{-x} dx = 2 \\\\\n",
    "&\\implies l_2 = x^2 - 4(x - 1) - 2 \\\\\n",
    "& = x^2 - 4x + 2\n",
    "\\end{align}\n",
    "\n",
    "Since this $l_2$ integrates to $4$, we can divide by $1/2$ to get a norm of $1$: $\\frac{1}{2}(x^2 - 4x + 2)$."
   ]
  },
  {
   "cell_type": "markdown",
   "metadata": {},
   "source": [
    "\\begin{align}\n",
    "& \\frac{1}{2}\\int_0^\\infty x^3(x^2 - 4x + 2)e^{-x} dx = 18, \\\\\n",
    "& \\int_0^\\infty x^3(x - 1)e^{-x} dx = 18, \\\\\n",
    "&\\int_0^\\infty x^3e^{-x} dx = 6 \\\\\n",
    "&\\implies l_3 = x^3 - 9(x^2 - 4x + 2) - 18(x-1) - 6 \\\\\n",
    "&= x^3 - 9x^2 + 18x - 6\n",
    "\\end{align}"
   ]
  },
  {
   "cell_type": "markdown",
   "metadata": {},
   "source": [
    "## b)\n",
    "\n",
    "As these are orthogonal polynomials, they correspond to a\n",
    "    quadrature rule for weighted integrals on $[0,\\infty)$. The\n",
    "    resulting quadrature points and weight are given in\n",
    "    Table\n",
    "    \n",
    "Verify that for $n=2$, $n=3$, the quadrature nodes $x_i$ are the\n",
    "roots of the polynomials $l_2(x),l_3(x)$ (up to round-off)."
   ]
  },
  {
   "cell_type": "markdown",
   "metadata": {},
   "source": [
    "### Answer\n",
    "\n",
    "#### $n = 2$"
   ]
  },
  {
   "cell_type": "code",
   "execution_count": 16,
   "metadata": {},
   "outputs": [
    {
     "data": {
      "text/plain": [
       "array([3.41421356, 0.58578644])"
      ]
     },
     "execution_count": 16,
     "metadata": {},
     "output_type": "execute_result"
    }
   ],
   "source": [
    "roots_2 = np.roots(np.array([1, -4, 2]))\n",
    "roots_2"
   ]
  },
  {
   "cell_type": "markdown",
   "metadata": {},
   "source": [
    "#### $n = 3$"
   ]
  },
  {
   "cell_type": "code",
   "execution_count": 17,
   "metadata": {},
   "outputs": [
    {
     "data": {
      "text/plain": [
       "array([6.28994508, 2.29428036, 0.41577456])"
      ]
     },
     "execution_count": 17,
     "metadata": {},
     "output_type": "execute_result"
    }
   ],
   "source": [
    "roots_3 = np.roots(np.array([1, -9, 18, -6]))\n",
    "roots_3"
   ]
  },
  {
   "cell_type": "markdown",
   "metadata": {},
   "source": [
    "### c)\n",
    "\n",
    "Use the quadrature rules to approximate the integrals\n",
    "$$\n",
    "\\int_0^\\infty \\exp(-x) \\exp(-x)\\, dx \\quad\\text{ and }\\quad \\int_0^\\infty \\exp(-x^2)\\, dx.\n",
    "$$\n",
    "Note that, to take into account the weight $\\omega(x) = \\exp(-x)$,\n",
    "for the first integral $f(x) = \\exp(-x)$ and for the second $f(x)\n",
    "= \\exp(-x^2+x)$. Report the errors for $n=2,3,4$ using that the\n",
    "exact values for the integrals are $1/2$ and $\\sqrt{\\pi}/2$."
   ]
  },
  {
   "cell_type": "markdown",
   "metadata": {},
   "source": [
    "### Answer"
   ]
  },
  {
   "cell_type": "code",
   "execution_count": 18,
   "metadata": {},
   "outputs": [],
   "source": [
    "def f_1(x):\n",
    "    return np.exp(-x)\n",
    "\n",
    "def f_2(x):\n",
    "    return np.exp(- (x ** 2) + x)\n",
    "\n",
    "weights_2 = np.array([0.146447, 0.853553])\n",
    "weights_3 = np.array([0.0103893, 0.278518, 0.711093])"
   ]
  },
  {
   "cell_type": "markdown",
   "metadata": {},
   "source": [
    "#### $n = 2$, $f(x) = e^{-x}$"
   ]
  },
  {
   "cell_type": "code",
   "execution_count": 19,
   "metadata": {},
   "outputs": [
    {
     "data": {
      "text/plain": [
       "0.4799639993912404"
      ]
     },
     "execution_count": 19,
     "metadata": {},
     "output_type": "execute_result"
    }
   ],
   "source": [
    "approx = (f_1(roots_2) * weights_2).sum()\n",
    "approx"
   ]
  },
  {
   "cell_type": "markdown",
   "metadata": {},
   "source": [
    "#### Error"
   ]
  },
  {
   "cell_type": "code",
   "execution_count": 20,
   "metadata": {},
   "outputs": [
    {
     "data": {
      "text/plain": [
       "0.020036000608759597"
      ]
     },
     "execution_count": 20,
     "metadata": {},
     "output_type": "execute_result"
    }
   ],
   "source": [
    "np.abs(0.5 - approx)"
   ]
  },
  {
   "cell_type": "markdown",
   "metadata": {},
   "source": [
    "#### $n = 2$, $f(x) = e^{-x^2 + x}$"
   ]
  },
  {
   "cell_type": "code",
   "execution_count": 21,
   "metadata": {},
   "outputs": [
    {
     "data": {
      "text/plain": [
       "1.0879862086156737"
      ]
     },
     "execution_count": 21,
     "metadata": {},
     "output_type": "execute_result"
    }
   ],
   "source": [
    "approx = (f_2(roots_2) * weights_2).sum()\n",
    "approx"
   ]
  },
  {
   "cell_type": "markdown",
   "metadata": {},
   "source": [
    "#### Error"
   ]
  },
  {
   "cell_type": "code",
   "execution_count": 22,
   "metadata": {},
   "outputs": [
    {
     "data": {
      "text/plain": [
       "0.2017592831629158"
      ]
     },
     "execution_count": 22,
     "metadata": {},
     "output_type": "execute_result"
    }
   ],
   "source": [
    "np.abs(np.sqrt(np.pi) / 2 - approx)"
   ]
  },
  {
   "cell_type": "markdown",
   "metadata": {},
   "source": [
    "#### $n = 3$,  $f(x) = e^{-x}$"
   ]
  },
  {
   "cell_type": "code",
   "execution_count": 23,
   "metadata": {},
   "outputs": [
    {
     "data": {
      "text/plain": [
       "0.4973031241508433"
      ]
     },
     "execution_count": 23,
     "metadata": {},
     "output_type": "execute_result"
    }
   ],
   "source": [
    "approx = (f_1(roots_3) * weights_3).sum()\n",
    "approx"
   ]
  },
  {
   "cell_type": "markdown",
   "metadata": {},
   "source": [
    "#### Error"
   ]
  },
  {
   "cell_type": "code",
   "execution_count": 24,
   "metadata": {},
   "outputs": [
    {
     "data": {
      "text/plain": [
       "0.002696875849156677"
      ]
     },
     "execution_count": 24,
     "metadata": {},
     "output_type": "execute_result"
    }
   ],
   "source": [
    "np.abs(0.5 - approx)"
   ]
  },
  {
   "cell_type": "markdown",
   "metadata": {},
   "source": [
    "#### $n = 3$, $f(x) = e^{-x^2 + x}$"
   ]
  },
  {
   "cell_type": "code",
   "execution_count": 25,
   "metadata": {},
   "outputs": [
    {
     "data": {
      "text/plain": [
       "0.920904086444249"
      ]
     },
     "execution_count": 25,
     "metadata": {},
     "output_type": "execute_result"
    }
   ],
   "source": [
    "approx = (f_2(roots_3) * weights_3).sum()\n",
    "approx"
   ]
  },
  {
   "cell_type": "markdown",
   "metadata": {},
   "source": [
    "#### Error"
   ]
  },
  {
   "cell_type": "code",
   "execution_count": 26,
   "metadata": {},
   "outputs": [
    {
     "data": {
      "text/plain": [
       "0.034677160991491096"
      ]
     },
     "execution_count": 26,
     "metadata": {},
     "output_type": "execute_result"
    }
   ],
   "source": [
    "np.abs(np.sqrt(np.pi) / 2 - approx)"
   ]
  }
 ],
 "metadata": {
  "kernelspec": {
   "display_name": "Python 3",
   "language": "python",
   "name": "python3"
  },
  "language_info": {
   "codemirror_mode": {
    "name": "ipython",
    "version": 3
   },
   "file_extension": ".py",
   "mimetype": "text/x-python",
   "name": "python",
   "nbconvert_exporter": "python",
   "pygments_lexer": "ipython3",
   "version": "3.5.2"
  }
 },
 "nbformat": 4,
 "nbformat_minor": 2
}
