{
 "cells": [
  {
   "cell_type": "markdown",
   "metadata": {},
   "source": [
    "# Eric He\n",
    "\n",
    "# Numerical Analysis\n",
    "\n",
    "# Assignment 2"
   ]
  },
  {
   "cell_type": "code",
   "execution_count": 1,
   "metadata": {},
   "outputs": [],
   "source": [
    "import numpy as np\n",
    "import pandas as pd\n",
    "import matplotlib.pyplot as plt\n",
    "import seaborn as sns\n",
    "sns.set_style('darkgrid')"
   ]
  },
  {
   "cell_type": "markdown",
   "metadata": {},
   "source": [
    "## 1. Newton's method computes the new iterate $x_{k+1}$ as the $x$-intercept of the \"line of best fit\" through the point $(x_k, f(x_k))$, i.e., the line that passes through $(x_k, f(x_k))$ and whose first derivative is $f'(x_k)$. We will define a new method which finds the \"quadratic of best fit\" and use it to compute the new iterate."
   ]
  },
  {
   "cell_type": "markdown",
   "metadata": {},
   "source": [
    "### a) Find the quadratic of best fit through the point $(x_k, f(x_k))$, i.e., find the quadratic that goes through $(x_k, f(x_k))$ and whose first and second derivatives at $x_k$ agree with $f'(x_k)$ and $f''(x_k)$, respectively."
   ]
  },
  {
   "cell_type": "markdown",
   "metadata": {},
   "source": [
    "Just as the line of best fit corresponds to the first-order Taylor expansion about $x_k$, the quadratic of best fit through the point $(x_k, f(x_k))$ is simply the second-order Taylor expansion about $x_k$. This is given by\n",
    "\n",
    "$$f(x) \\approx \\dfrac{1}{2}f''(x_k)(x- x_k)^2 + f'(x_k)(x - x_k) + f(x_k)$$"
   ]
  },
  {
   "cell_type": "markdown",
   "metadata": {},
   "source": [
    "### b) Write down the new-Newton's method by finding the $x$-intercept for the quadratic of best fit.\n",
    "\n",
    "To find the x-intercept using the quadratic of best fit, we set the left side of the above equation to $0$ and solve for the roots of $x^* = x_{k+1} - x_k$ using the quadratic formula Then in the quadratic formula, we can set $a = \\dfrac{f''(x_k)}{2}$, $b = -f'(x_k)$, $c = f(x_k)$. Then the roots of $x^*$ are \n",
    "\n",
    "$$\n",
    "\\dfrac{f'(x_k) \\pm \\sqrt{f'(x_k)^2 - 2f''(x_k)f(x_k)} }{f''(x_k)}\n",
    "$$\n",
    "\n",
    "Plugging in $x_{k+1} - x_k$ for $x^*$, we have\n",
    "\n",
    "$$\n",
    "x_{k+1} = x_k + \\dfrac{f'(x_k) \\pm \\sqrt{f'(x_k)^2 - 2f''(x_k)f(x_k)} }{f''(x_k)}\n",
    "$$"
   ]
  },
  {
   "cell_type": "markdown",
   "metadata": {},
   "source": [
    "### c) What is the order of convergence for this method? (No justification required.)\n",
    "\n",
    "Probably cubic since it uses one order more information than Newton's method and Newton's method achieves quadratic convergence."
   ]
  },
  {
   "cell_type": "markdown",
   "metadata": {},
   "source": [
    "### d) How many steps are required for this method to find the solution of $f(x) = 0$, where $f$ is a quadratic?\n",
    "\n",
    "If $f$ is a quadratic, then this second-order Newton's method approximates $f$ exactly at any point and can recover the roots of $f$ in a single iteration."
   ]
  },
  {
   "cell_type": "markdown",
   "metadata": {},
   "source": [
    "## 2. Let $f: \\mathbb{R}^2 \\mapsto \\mathbb{R}^2$ defined by $f(x, y) = (f_1(x, y), f_2(x, y))^T$, where $$f_1(x, y) = x^2 + 4y^2 - 4, \\, f_2(x, y) = 2y - \\sqrt{3}x^2$$ We want to find the roots of $f$, i.e., all pairs $(x, y) \\in \\mathbb{R}^2$ such that $f(x, y) = (0, 0)^T$."
   ]
  },
  {
   "cell_type": "markdown",
   "metadata": {},
   "source": [
    "### a) Sketch or plot the sets $\\mathcal{S}_i = {(x, y) \\in \\mathbb{R}^2 : f_i(x, y) = 0}$, $i = 1, 2$, i.e. the set of all zeros of $f_1$ and $f_2$. What geometrical shapes do these sets have?"
   ]
  },
  {
   "cell_type": "markdown",
   "metadata": {},
   "source": [
    "The zeros of $f_1$ are given by the set of tuples $(x, y): y = \\dfrac{\\sqrt{4 - x^2}}{4}$. Likewise, the zeros of $f_2$ are given by the set of tuples $(x, y): y = \\dfrac{\\sqrt{3}x^2}{2}$.\n",
    "\n",
    "Both of these sets form parabolas, although $f_2$ only has real-valued zeros for $x \\in (-2, 2)$."
   ]
  },
  {
   "cell_type": "code",
   "execution_count": 11,
   "metadata": {},
   "outputs": [
    {
     "name": "stderr",
     "output_type": "stream",
     "text": [
      "/home/ubuntu/.local/lib/python3.5/site-packages/ipykernel_launcher.py:2: RuntimeWarning: invalid value encountered in sqrt\n",
      "  \n"
     ]
    },
    {
     "data": {
      "text/plain": [
       "<matplotlib.legend.Legend at 0x7f215c9bbcc0>"
      ]
     },
     "execution_count": 11,
     "metadata": {},
     "output_type": "execute_result"
    },
    {
     "data": {
      "image/png": "[encoded data removed]",
      "text/plain": [
       "<Figure size 432x288 with 1 Axes>"
      ]
     },
     "metadata": {},
     "output_type": "display_data"
    }
   ],
   "source": [
    "def f1(x):\n",
    "    return np.sqrt(4 - np.power(x, 2)) / 4\n",
    "\n",
    "def f2(x):\n",
    "    return np.sqrt(3) * np.power(x, 2) / 2\n",
    "\n",
    "x = np.linspace(-5, 5, 1000)\n",
    "\n",
    "f1_x = f1(x)\n",
    "f2_x = f2(x)\n",
    "\n",
    "plt.plot(x, f1_x, color='red', label='f1')\n",
    "plt.plot(x, f2_x, color='blue', label='f2')\n",
    "plt.legend()"
   ]
  },
  {
   "cell_type": "markdown",
   "metadata": {},
   "source": [
    "### b) Calculate analytically the roots of $f$, i.e., the intersection of the sets $\\mathcal{S}_1$ and $\\mathcal{S}_2$."
   ]
  },
  {
   "cell_type": "markdown",
   "metadata": {},
   "source": [
    "The roots of $f$ are given when the zeros of $f_1$ equal the zeros of $f_2$. This corresponds to the set of tuples \n",
    "\n",
    "\\begin{align}\n",
    "(x, y): & y = \\dfrac{\\sqrt{4 - x^2}}{4} = \\dfrac{\\sqrt{3}x^2}{2} \\\\\n",
    "& \\iff \\dfrac{4 - x^2}{16} = \\dfrac{3x^4}{4} \\\\\n",
    "& \\iff 3x^4 + x^2 / 4 - 1 = 0\n",
    "\\end{align}\n",
    "\n",
    "Using the quadratic formula on $x^2$, we have as the real roots of $x$ being\n",
    "\n",
    "$$\\pm \\sqrt{\\dfrac{-1/4 + \\sqrt{1/16 + 12}}{6}}$$\n",
    "\n"
   ]
  },
  {
   "cell_type": "markdown",
   "metadata": {},
   "source": [
    "### c) Calculate the Jacobian of $f$.\n",
    "\n",
    "$$\\partial_x f_1(x, y) = 2x, \\\\\n",
    "  \\partial_y f_1(x, y) = 8y, \\\\\n",
    "  \\partial_x f_2(x, y) = -2\\sqrt{3}x, \\\\\n",
    "  \\partial_y f_2(x, y) = 2$$\n",
    "  \n",
    "Then the Jacobian is given by\n",
    "\n",
    "\\begin{bmatrix}\n",
    "2x & 8y \\\\\n",
    "-2\\sqrt{3}x & 2\n",
    "\\end{bmatrix}"
   ]
  },
  {
   "cell_type": "markdown",
   "metadata": {},
   "source": [
    "### d) Implement the Newton method in 2D and use it to calculate the first $5$ iterates for the starting values $(x_0, y_0) = (2, 3)$ and $(x_0, y_0) = (-1.5, 2)$. Plot these iterates in the $xy$-plane together with the curves $\\mathcal{S}_1$ and $\\mathcal{S}_2$."
   ]
  },
  {
   "cell_type": "markdown",
   "metadata": {},
   "source": [
    "The inverse Jacobian is given by \n",
    "\n",
    "$$\\dfrac{1}{4x + 16\\sqrt{3}x}\n",
    "\\begin{bmatrix} \n",
    "2 & -8y \\\\\n",
    "2\\sqrt{3}x & 2x\n",
    "\\end{bmatrix}$$"
   ]
  },
  {
   "cell_type": "code",
   "execution_count": 65,
   "metadata": {},
   "outputs": [
    {
     "data": {
      "text/plain": [
       "<matplotlib.legend.Legend at 0x7f215c81acc0>"
      ]
     },
     "execution_count": 65,
     "metadata": {},
     "output_type": "execute_result"
    },
    {
     "data": {
      "image/png": "[encoded data removed]",
      "text/plain": [
       "<Figure size 432x288 with 1 Axes>"
      ]
     },
     "metadata": {},
     "output_type": "display_data"
    }
   ],
   "source": [
    "# return 2x2 array\n",
    "def inverse_jacobian(x, y):\n",
    "    determinant = 4*x + 16*np.sqrt(3)*x\n",
    "    inverse_matrix = np.array([[2, -8*y],\n",
    "                               [2*np.sqrt(3)*x, 2*x]])\n",
    "    return  (1 / determinant) * inverse_matrix\n",
    "\n",
    "# return 2x1 array\n",
    "def f(x, y):\n",
    "    return np.array([[np.power(x, 2) + 4*np.power(y, 2) - 4], \n",
    "                      [2*y - np.sqrt(3)*np.power(x, 2)]])\n",
    "\n",
    "# return 2x1 array\n",
    "def newtons(x, y):\n",
    "    old_estimate = np.array([[x], [y]])\n",
    "    new_estimate = old_estimate - np.dot(inverse_jacobian(x, y), f(x, y))\n",
    "    return new_estimate\n",
    "\n",
    "estimates = []\n",
    "values = np.array([[2], [3]])\n",
    "for i in range(100):\n",
    "    values = newtons(values[0][0], values[1][0])\n",
    "    estimates.append(values)\n",
    "    \n",
    "estimates = np.concatenate(estimates, axis=1).T\n",
    "\n",
    "plt.plot(x, f1_x, color='red', label='f1')\n",
    "plt.plot(x, f2_x, color='blue', label='f2')\n",
    "plt.plot(estimates[:,0], estimates[:,1], color='green', label='Newtons')\n",
    "plt.legend()"
   ]
  },
  {
   "cell_type": "markdown",
   "metadata": {},
   "source": [
    "# 3. Given $A$ is a tridiagonal matrix, i.e., a matrix with nonzero entries only in the diagonal and the first upper and lower subdiagonals: $$A = \n",
    "\\begin{bmatrix}\n",
    "a_1 & c_1 \\\\\n",
    "b_1 & a_2 & c_2 \\\\\n",
    "& \\ddots & \\ddots & \\ddots \\\\\n",
    "& & b_{n-2} & a_{n-1} & c_{n-1} \\\\\n",
    "& & & b_{n-1} & a_n\n",
    "\\end{bmatrix}.$$\n",
    "\n",
    "# Assuming that $A$ has an LU decomposition $A = LU$ with $$L =\n",
    "\\begin{bmatrix}\n",
    "1 \\\\\n",
    "d_1 & 1 \\\\\n",
    "& \\ddots & \\ddots \\\\\n",
    "& & d_{n-1} & 1\n",
    "\\end{bmatrix}\n",
    ",\n",
    "\\quad\n",
    "U = \n",
    "\\begin{bmatrix}\n",
    "e_1 & f_1 \\\\\n",
    "& \\ddots & \\ddots \\\\\n",
    "& & e_{n-1} & f_{n-1} \\\\\n",
    "& & & e_n\n",
    "\\end{bmatrix},$$ derive recursive expressions for $d_i, e_i,$ and $f_i$."
   ]
  },
  {
   "cell_type": "markdown",
   "metadata": {},
   "source": [
    "Notice that $a_i = d_{i-1} f_{i-1} + e_i$, $c_i = f_i$, and $b_i = d_i e_i$. We can also back out the values of $d_1 = b_1/a_1$, $e_1 = a_1$, and $f_1 = c_1$. In particular, $f_i = c_i$.\n",
    "\n",
    "Then we can calculate $e_{i+1} = d_i e_i - d_i f_i$. Using $e_{i+1}$ we can calculate $d_{i+1}$ using the formula $d_{i+1} = b_{i+1} / e_{i+1}$."
   ]
  },
  {
   "cell_type": "markdown",
   "metadata": {},
   "source": [
    "## 4. We study basic properties of the LU-factorization. \n",
    "\n",
    "### a) Give an example of an invertible $3\\times 3$ matrix that does not have any zero entries, for which the LU decomposition without pivoting fails."
   ]
  },
  {
   "cell_type": "markdown",
   "metadata": {},
   "source": [
    "$A = \n",
    "\\begin{bmatrix}\n",
    "1 & 1 & 1 \\\\\n",
    "1 & 1 & 2 \\\\\n",
    "2 & 2 & 1\n",
    "\\end{bmatrix}$\n",
    "\n",
    "The first row reduction will set the first two entries of row two to $0$, making further decompositions impossible."
   ]
  },
  {
   "cell_type": "markdown",
   "metadata": {},
   "source": [
    "### b) Show that the LU factorization of an invertible matrix $A\\in \\mathbb R^{n\\times n}$ is unique. That is, if $A = LU = L_1U_1 $ with upper triangular matrices $U$, $U_1$ and unit lower triangular matrices $L$, $L_1$, then necessarily $L=L_1$  and $U=U_1$. You can use the results we discussed in class about products of lower/upper triangular matrices, and their inverses."
   ]
  },
  {
   "cell_type": "markdown",
   "metadata": {},
   "source": [
    "Using the equality $LU = L_1 U_1$, we know that $L = L_1 U U_1^{-1}$ and $U = L^{-1} L_1 U_1$. Then $A$ can be rewritten as $L_1 U U_1^{-1} L^{-1} L_1 U_1$. Since we know $L_1 U_1 = A$, then it must be the case that the matrices in the center $U U_1^{-1} L^{-1} L_1 = I$, where $I$ is the identity matrix.\n",
    "\n",
    "This can be written as $U U_1^{-1} = L_1^{-1} L$. Note that $J = U U_1^{-1}$ is upper triangular, since it is the product of two upper triangular matrices. But then note also that $J = L_1^{-1} L$ is also lower triangular, since it is the product of two lower triangular matrices. Then J is both upper and lower triangular, making it a diagonal matrix. Since $JJ = J^2 = I$, the only matrix $J$ can be is $I$ itself.\n",
    "\n",
    "This gives us $L_1^{-1}L = I$; using the uniqueness of inverses we know $L = L_1$. It naturally follows that $U = U_1$."
   ]
  },
  {
   "cell_type": "markdown",
   "metadata": {},
   "source": [
    "## 5. For a given dimension $n$, fix some $k$ with $1\\leq k\\leq n$. Now let $L\\in \\mathbb R^{n\\times n}$ be a non-singular lower triangular matrix and let the vector $\\textbf{b} \\in\\mathbb{R}^{n}$ be such that $b_i =0$ for $i =1, 2,\\ldots,k$."
   ]
  },
  {
   "cell_type": "markdown",
   "metadata": {},
   "source": [
    "### a) Let the vector $y \\in\\mathbb{R}^{n}$ be the solution of $Ly = b$. Show, by partitioning $L$ into blocks, that $y_j =0$ for $j=1, 2,\\ldots,k.$"
   ]
  },
  {
   "cell_type": "markdown",
   "metadata": {},
   "source": [
    "Because $L$ is non-singular, we know that all entries on the diagonal must be non-zero. Since $0 = b_1 = L_{11}y_1$ and $L_{11} \\neq 0$, because it is on the diagonal, it must be the case that $y_1 = 0$. The proof proceeds by simple induction. \n",
    "\n",
    "Assume that $y_1, ..., y_{k-1}$ are all $0$, so that $b_1, ..., b_{k-1}$ are $0$. Since $b = \\sum_{i=1}^n y_i L_j$, where $L_j$ is the $j$th column of $L$, we know the first $k-1$ terms of the vector summation are $0$; then $b$ is a linear combination of the $k$ through $n$th columns of $L$. But because $L$ is lower diagonal, only the first $k$ columns of $L$ have nonzero terms in the $k$th entry. **Then for the $k$th entry of $b$ to be $0$, the coefficient $y_k$ for the $k$th column of $L$ must also equal $0$.**"
   ]
  },
  {
   "cell_type": "markdown",
   "metadata": {},
   "source": [
    "### b) Use this to give an alternative proof of Theorem 2.1(iv), i.e., that the inverse of a non-singular lower triangular matrix is itself lower triangular."
   ]
  },
  {
   "cell_type": "markdown",
   "metadata": {},
   "source": [
    "Consider $L^{-1}_k$, the $k$th column of $L^{-1}$. $L$ sends $L^{-1}_k$ to the $k$th column of $I$, which is just the $k$th basis vector with the $k$th entry being $1$ and all other entries being $0$. Then using the property derived in **a)**, we know the first $k - 1$ entries of $L^{-1}_k$ are $0$. But then $L^{-1}$ is a lower diagonal matrix if this holds true for all $k \\in (1, ..., n)$, which it does."
   ]
  },
  {
   "cell_type": "markdown",
   "metadata": {},
   "source": [
    "## 6. Let $n \\geq 2$. Consider a matrix $A \\in \\mathbb{R}^{n\\times n}$ for which every leading principal  submatrix of order less than $n$ is non-singular."
   ]
  },
  {
   "cell_type": "markdown",
   "metadata": {},
   "source": [
    "### a) Show that $A$ can be factored in the form $A = LDU$, where $L\\in\\mathbb{R}^{n\\times n}$ is unit lower triangular, $D \\in\\mathbb{R}^{n\\times n}$ is diagonal and $U\\in\\mathbb{R}^{n\\times n}$ is unit upper triangular."
   ]
  },
  {
   "cell_type": "markdown",
   "metadata": {},
   "source": [
    "We already know that because all leading principal submatrices are non-singular, there exists a decomposition $A = L_1 U_1$, where $L_1$ is unit lower triangular. Simply let $D$ be the diagonal entries of $U_1$; note that $D^{-1}$ is a diagonal matrix. Then $U = D^{-1}U_1$ is unit upper triangular, giving us the decomposition."
   ]
  },
  {
   "cell_type": "markdown",
   "metadata": {},
   "source": [
    "### b) If the factorization $A = LU$ is known, where $L$ is unit lower triangular and $U$ is upper triangular, show how to find the LU-factors of the transpose $A^T$. Note that our requirement for an LU-factorization is that $L$ is unit lower triangular, and $U$ is upper triangular."
   ]
  },
  {
   "cell_type": "markdown",
   "metadata": {},
   "source": [
    "$A^T$ is simply $(LDU)^T = U^T D^T L^T$, where $U$ is unit triangular in the manner of **a)**. Now $U^T$, being the transpose of a unit upper triangular matrix, is a unit lower triangular matrix which we will call $L_1$. The transpose of the diagonal matrix $D^T$ is simply $D$, and the transpose of $L^T$ is a unit upper triangular matrix. Multiply $D$ into $L^T$ gets our $U_1$, the upper triangular matrix for which $A^T = L_1 U_1$."
   ]
  },
  {
   "cell_type": "markdown",
   "metadata": {},
   "source": [
    "## 7. Implement backward substitution to solve systems $U x= b$, i.e., write a function `x = backward(A,b)`, which expects as inputs an upper triangular matrix $U\\in \\mathbb  R^{n\\times n}$, and a right hand side vector $b\\in \\mathbb R^n$, which returns the solution vector $ x\\in \\mathbb R^n$. The function should find the size $n$ from the vector $ b$ and also check if the matrix and the vector sizes are compatible before it starts to solve the system.  Apply your program for the computation of for $x\\in\\mathbb{R}^4$, with $U =  \\begin{bmatrix} 1 & 2 & 6 & -1 \\\\ 0 & 3 & 1 & 0 \\\\0 & 0 & 4 & -1 \\\\ 0 & 0 & 0 & 2\\end{bmatrix},\\quad b = \\begin{bmatrix} -1 \\\\ -3  \\\\-2 \\\\ 4 \\end{bmatrix}.$"
   ]
  },
  {
   "cell_type": "code",
   "execution_count": 93,
   "metadata": {},
   "outputs": [
    {
     "data": {
      "text/plain": [
       "array([ 3., -1.,  0.,  2.])"
      ]
     },
     "execution_count": 93,
     "metadata": {},
     "output_type": "execute_result"
    }
   ],
   "source": [
    "# accept nxm A\n",
    "# nx1 b\n",
    "# return mx1 x\n",
    "def backward(A, b):\n",
    "    n = len(A)\n",
    "    m = A.shape[1]\n",
    "    \n",
    "    x = np.zeros(m)\n",
    "    \n",
    "    # solve from the bottom up for the entries of x\n",
    "    for i in range(m):\n",
    "        index = m - i - 1\n",
    "        x[index] = (b[index] - A[index,:].dot(x).sum()) / A[index, index]\n",
    "    \n",
    "    return x\n",
    "\n",
    "A = np.array([[1, 2, 6, -1],\n",
    "              [0, 3, 1, 0],\n",
    "              [0, 0, 4, -1],\n",
    "              [0, 0, 0, 2]])\n",
    "\n",
    "b = np.array([[-1],\n",
    "              [-3],\n",
    "              [-2],\n",
    "              [4]])\n",
    "\n",
    "backward(A, b)"
   ]
  },
  {
   "cell_type": "markdown",
   "metadata": {},
   "source": [
    "## 8. Implement the LU factorization, and apply it to the matrix $A = \n",
    "  \\begin{bmatrix}\n",
    "    6 & 2 & 1 & -1 \\\\ 2 & 4 & 1 & 0 \\\\ 1 & 1 & 4 & -1 \\\\ -1 & 0 & -1 & 3\n",
    "  \\end{bmatrix}.$\n",
    "## Generalize your code to handle input matrices $A$ of any size $n \\geq 2$."
   ]
  },
  {
   "cell_type": "code",
   "execution_count": 151,
   "metadata": {},
   "outputs": [],
   "source": [
    "# accept nxn A\n",
    "# return two matrices L, U\n",
    "def LU(A):\n",
    "    n = len(A)\n",
    "    L = np.identity(n)\n",
    "    U = A.copy()\n",
    "    # index by each row in A\n",
    "    for i in range(n):\n",
    "        # check if U[i, i] is too small; throw error if so\n",
    "        if abs(U[i, i]) < 10**-8:\n",
    "            raise Exception('Diagonal entry {} too small with value {}'.format(i, U[i,i]))\n",
    "        # (n- i - 1)x1 vector determining how much to subtract each row\n",
    "        coeff = U[i+1:,i] / U[i, i]\n",
    "        # insert coeff into ith column of L below the diagonal\n",
    "        L[1+i:,i] = coeff\n",
    "        # iteratively subtract ith row of U from rows below\n",
    "        for j in range(n - i - 1):\n",
    "            U[(i + 1 + j),:] = U[(i + 1 + j),:] - coeff[j]*U[i, :]\n",
    "    return L, U\n",
    "\n",
    "A = np.array([[6, 2, 1, -1],\n",
    "              [2, 4, 1, 0],\n",
    "              [1, 1, 4, -1],\n",
    "              [-1, 0, -1, 3]])\n",
    "\n",
    "L, U = LU(A)"
   ]
  },
  {
   "cell_type": "code",
   "execution_count": 152,
   "metadata": {},
   "outputs": [
    {
     "data": {
      "text/plain": [
       "array([[ 1.        ,  0.        ,  0.        ,  0.        ],\n",
       "       [ 0.33333333,  1.        ,  0.        ,  0.        ],\n",
       "       [ 0.16666667,  0.        ,  1.        ,  0.        ],\n",
       "       [-0.16666667,  0.        ,  0.        ,  1.        ]])"
      ]
     },
     "execution_count": 152,
     "metadata": {},
     "output_type": "execute_result"
    }
   ],
   "source": [
    "L"
   ]
  },
  {
   "cell_type": "code",
   "execution_count": 153,
   "metadata": {},
   "outputs": [
    {
     "data": {
      "text/plain": [
       "array([[ 6,  2,  1, -1],\n",
       "       [ 0,  3,  0,  0],\n",
       "       [ 0,  0,  3,  0],\n",
       "       [ 0,  0,  0,  2]])"
      ]
     },
     "execution_count": 153,
     "metadata": {},
     "output_type": "execute_result"
    }
   ],
   "source": [
    "U"
   ]
  },
  {
   "cell_type": "markdown",
   "metadata": {},
   "source": [
    "## 9. Let us use the $LU$-decomposition to compute the inverse of a matrix. This problem illustrates that computing a matrix inverse is significantly more expensive than solving a linear system."
   ]
  },
  {
   "cell_type": "markdown",
   "metadata": {},
   "source": [
    "### a) Describe an algorithm that uses the $LU$-decomposition of an $n \\times n$ matrix $A$ for computing $A^{-1}$ by solving $n$ systems of equations (one for each unit vector)."
   ]
  },
  {
   "cell_type": "markdown",
   "metadata": {},
   "source": [
    "Assume we have the $L$ and $U$ matrices such that $LU = A$, and that $A, L, U \\in \\mathbb{R}^{nxn}$. Letting $e_k$ be the $k$th basis vector of $\\mathbb{R}^{nxn}$, we know $A^{-1}_k$, the $k$th column of $A^{-1}$, has the property that $AA^{-1}_k = e_k$, since $e_k$ is the $k$th column of $I$.\n",
    "\n",
    "Let $y_k = UA^{-1}_k$. Use backward substitution to solve $Ly_k = e_k$ for $y_k$. Then use forward substitution to solve $UA^{-1}_k = y_k$ for $A^{-1}_k$. This gives us the $k$th column of $A^{-1}$; if we do this process for all $n$ columns of $A$, then we have computed $A^{-1}$."
   ]
  },
  {
   "cell_type": "markdown",
   "metadata": {},
   "source": [
    "### b) Calculate the floating point operation count of this algorithm."
   ]
  },
  {
   "cell_type": "markdown",
   "metadata": {},
   "source": [
    "Solving one column requires a single backward and forward pass, each requiring operations on the order of $\\Omega(n^2)$. Then because there are $n$ columns of $A^{-1}$ in total, the complexity of the matrix inverse is on the order of $\\Omega(n^3)$."
   ]
  },
  {
   "cell_type": "markdown",
   "metadata": {},
   "source": [
    "### c) Improve the algorithm by taking advantage of the structure (i.e., the zero entries) of the right-hand side. What is the new algorithm's floating point operation count."
   ]
  },
  {
   "cell_type": "code",
   "execution_count": null,
   "metadata": {},
   "outputs": [],
   "source": []
  }
 ],
 "metadata": {
  "kernelspec": {
   "display_name": "Python 3",
   "language": "python",
   "name": "python3"
  },
  "language_info": {
   "codemirror_mode": {
    "name": "ipython",
    "version": 3
   },
   "file_extension": ".py",
   "mimetype": "text/x-python",
   "name": "python",
   "nbconvert_exporter": "python",
   "pygments_lexer": "ipython3",
   "version": "3.5.2"
  }
 },
 "nbformat": 4,
 "nbformat_minor": 2
}
