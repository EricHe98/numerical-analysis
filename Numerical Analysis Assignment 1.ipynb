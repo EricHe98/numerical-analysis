{
 "cells": [
  {
   "cell_type": "markdown",
   "metadata": {},
   "source": [
    "# Eric He\n",
    "# Numerical Analysis\n",
    "# Assignment 1"
   ]
  },
  {
   "cell_type": "code",
   "execution_count": 1,
   "metadata": {},
   "outputs": [],
   "source": [
    "import numpy as np\n",
    "import pandas as pd\n",
    "import matplotlib.pyplot as plt\n",
    "import seaborn as sns\n",
    "sns.set_style('darkgrid')"
   ]
  },
  {
   "cell_type": "markdown",
   "metadata": {},
   "source": [
    "## **1. Let $f(x) = e^x - x^2 - 2x - 1$ and $g(x) = 2ln(x+1)$, where $x \\in (-1, \\infty)$.**"
   ]
  },
  {
   "cell_type": "markdown",
   "metadata": {},
   "source": [
    "### **a) Verify that the roots of f(x) are the same as the fixed points of g(x).**\n",
    "\n",
    "i.e. show $f(x) = 0 \\iff g(x) - x = 0$.\n",
    "\n",
    "\\begin{align}\n",
    "& e^x - x^2 - 2x - 1 = 0 \\\\\n",
    "&\\iff e^x - (x+1)^2 = 0 \\\\\n",
    "&\\iff e^x = (x + 1)^2 \\\\\n",
    "&\\iff x = \\ln(x + 1)^2 \\\\\n",
    "&\\iff x = 2\\ln(x+1) \\\\\n",
    "&\\iff 2\\ln(x + 1) - x = 0\n",
    "\\end{align}"
   ]
  },
  {
   "cell_type": "markdown",
   "metadata": {},
   "source": [
    "### **b) Sketch y = g(x), y = x and indicate all fixed points. You don't need to calculate them.**\n",
    "\n",
    "Two fixed points, one at $x = 0$ and the other between $x = 2$ and $x = 3$."
   ]
  },
  {
   "cell_type": "code",
   "execution_count": 2,
   "metadata": {},
   "outputs": [
    {
     "data": {
      "text/plain": [
       "[<matplotlib.lines.Line2D at 0x7fcce0d7eba8>]"
      ]
     },
     "execution_count": 2,
     "metadata": {},
     "output_type": "execute_result"
    },
    {
     "data": {
      "image/png": "[encoded data removed]",
      "text/plain": [
       "<Figure size 432x288 with 1 Axes>"
      ]
     },
     "metadata": {},
     "output_type": "display_data"
    }
   ],
   "source": [
    "x = np.linspace(0, 5, 1000)\n",
    "y = 2 * np.log(x + 1)\n",
    "plt.plot(x, y, color=\"blue\")\n",
    "plt.plot(x, x, color=\"red\") # plot y = x"
   ]
  },
  {
   "cell_type": "markdown",
   "metadata": {},
   "source": [
    "### **c) Use Brouwer's fixed point theorem to argue the existence of a fixed point $\\xi$ in the interval $[a, b] = [e - 1, e^2 - 1]$.**"
   ]
  },
  {
   "cell_type": "markdown",
   "metadata": {},
   "source": [
    "Since $\\dfrac{d}{dx}2\\ln(x+1) = \\dfrac{2}{x + 1} > 0$ for $x > 0$, the function is strictly increasing in the interval, meaning the left endpoint is the minimum value and the right endpoint takes the maximum value over any positive domain. At $x = e - 1$, the function takes on the value $2$, and at $x = e^2 - 1$, the function takes on the value $4$. Since $e - 1 < 2 < 4 < e^2 - 1$, the range is bounded within the domain.\n",
    "\n",
    "Then the conditions of Brouwer's fixed point theorem are satisfied and there exists a fixed point $\\xi$ in the interval $[e - 1, e^2 - 1]$."
   ]
  },
  {
   "cell_type": "markdown",
   "metadata": {},
   "source": [
    "### d) Use the contraction mapping theorem to show that $\\xi$ is the only fixed point in the interval $[e-1, e^2-1]$"
   ]
  },
  {
   "cell_type": "markdown",
   "metadata": {},
   "source": [
    "Because the range is a subset of the domain, and because the function is strictly increasing, the function $2\\ln(x+1)$ must be a contraction on the interval $[e - 1, e^2 - 1]$. Then the requirements of the contraction mapping theorem are satisfied and $\\xi$ is the only fixed point in that interval."
   ]
  },
  {
   "cell_type": "markdown",
   "metadata": {},
   "source": [
    "## 2. We attempt to find all solutions to $f(x) = 0$, where $f(x) = e^x - 3x - 1$."
   ]
  },
  {
   "cell_type": "markdown",
   "metadata": {},
   "source": [
    "### a) Sketch $y = f(x)$ for $-1 \\leq x \\leq 3$. How many solutions $\\xi$ does $f(x) = 0$ have?\n",
    "\n",
    "There is only one solution."
   ]
  },
  {
   "cell_type": "code",
   "execution_count": 3,
   "metadata": {},
   "outputs": [
    {
     "data": {
      "text/plain": [
       "[<matplotlib.lines.Line2D at 0x7fccded107f0>]"
      ]
     },
     "execution_count": 3,
     "metadata": {},
     "output_type": "execute_result"
    },
    {
     "data": {
      "image/png": "[encoded data removed]",
      "text/plain": [
       "<Figure size 432x288 with 1 Axes>"
      ]
     },
     "metadata": {},
     "output_type": "display_data"
    }
   ],
   "source": [
    "x = np.linspace(1, 3, 1000)\n",
    "y = np.exp(x) - 3*x - 1\n",
    "plt.plot(x, y, color=\"blue\")\n",
    "plt.plot(x, x - x, color=\"red\") # plot y = 0"
   ]
  },
  {
   "cell_type": "markdown",
   "metadata": {},
   "source": [
    "### b) Write code to implement the bisection method. Using the initial interval $[1, 3]$, write down the sequence of approximations $x_1, x_2, x_3, x_4, x_5$ produced from your code."
   ]
  },
  {
   "cell_type": "code",
   "execution_count": 4,
   "metadata": {},
   "outputs": [
    {
     "data": {
      "text/plain": [
       "[1.5, 1.75, 1.875, 1.9375, 1.90625]"
      ]
     },
     "execution_count": 4,
     "metadata": {},
     "output_type": "execute_result"
    }
   ],
   "source": [
    "# function to run 1 bisect iteration\n",
    "# return new left, right endpoints\n",
    "def bisect(left_endpoint, right_endpoint, function):\n",
    "    # compute values at the given left, right endpoints\n",
    "    right_value = function(right_endpoint)\n",
    "    mid_value = function((left_endpoint + right_endpoint) / 2)\n",
    "    # choose new endpoint\n",
    "    if mid_value * right_value > 0:\n",
    "        right_endpoint = (left_endpoint + right_endpoint) / 2\n",
    "    else:\n",
    "        left_endpoint = (left_endpoint + right_endpoint) / 2\n",
    "    return left_endpoint, right_endpoint\n",
    "\n",
    "# initialize starting params\n",
    "left = 1\n",
    "right = 3\n",
    "def fct(x):\n",
    "    return(np.exp(x) - 3*x -1)\n",
    "midpoints = []\n",
    "\n",
    "# loop to run the bisection method 5 times\n",
    "# records new midpoints each iteration\n",
    "for i in range(101):\n",
    "    left, right = bisect(left, right, fct)\n",
    "    midpoints.append((left + right) / 2)\n",
    "    \n",
    "midpoints[:5]"
   ]
  },
  {
   "cell_type": "markdown",
   "metadata": {},
   "source": [
    "### c) What is the theoretical maximum value of $|x_5 - \\xi|$? How large must we take $n$ to ensure that $|x_n - \\xi| \\leq 10^{-10}$?"
   ]
  },
  {
   "cell_type": "markdown",
   "metadata": {},
   "source": [
    "If the distance between the initial left endpoint and the initial right endpoint is $d$, then the maximum value of the distance between the left and right endpoints after the 5th bisection $d_5$ has to be $\\dfrac{d}{2^5}$. Since the approximation of $\\xi$ is the midpoint between the left and right endpoints, and $\\xi$ is necessarily between the left and right endpoints, then **the distance between $|x_5 - \\xi|$ is at most $\\dfrac{d}{2^6} = \\dfrac{2}{2^6} = 2^{-5}$.**\n",
    "\n",
    "To ensure $x_n - \\xi \\leq 10^{-10}$, we have to have $n$ such that $2^{-n} \\leq 10^{-10}$. Since $10^{-10} > 16^{-10} = 2^{4^{-10}} = 2^{-40}$, we have to run at most 40 iterations of the bisection method."
   ]
  },
  {
   "cell_type": "markdown",
   "metadata": {},
   "source": [
    "### d) We now look at the fixed point $x = g(x)$ with $g(x) = \\ln(3x+1)$. Show that this is equivalent to finding the roots of $f$."
   ]
  },
  {
   "cell_type": "markdown",
   "metadata": {},
   "source": [
    "\\begin{align}\n",
    "& e^x - 3x - 1 = 0 \\\\\n",
    "&\\iff e^x = 3x + 1 \\\\\n",
    "&\\iff x = \\ln(3x + 1) \\\\\n",
    "&\\iff \\ln(3x + 1) - x = 0\n",
    "\\end{align}"
   ]
  },
  {
   "cell_type": "markdown",
   "metadata": {},
   "source": [
    "### e) Implement the fixed point iteration method for $x = g(x)$ given above. Using the initial point $x_0 = 1$, write down the iterates $x_1, x_2, x_3, x_4, x_5$."
   ]
  },
  {
   "cell_type": "code",
   "execution_count": 5,
   "metadata": {},
   "outputs": [
    {
     "data": {
      "text/plain": [
       "[1.3862943611198906,\n",
       " 1.6407200993500939,\n",
       " 1.778701297541748,\n",
       " 1.846264051572333,\n",
       " 1.8777524625894917]"
      ]
     },
     "execution_count": 5,
     "metadata": {},
     "output_type": "execute_result"
    }
   ],
   "source": [
    "def fixed_point(x, function):\n",
    "    return function(x)\n",
    "\n",
    "# setup\n",
    "x = 1\n",
    "estimates = []\n",
    "def fct(x):\n",
    "    return np.log(3*x + 1)\n",
    "\n",
    "# loop to run the fixed point iteration method 5 times\n",
    "# record each iterate\n",
    "for i in range(101):\n",
    "    x = fixed_point(x, fct)\n",
    "    estimates.append(x)\n",
    "    \n",
    "estimates[:5]"
   ]
  },
  {
   "cell_type": "markdown",
   "metadata": {},
   "source": [
    "### f) Plot the two sequences $(x_n)$ produced above as functions of $n$, with $n = 0, 1, ..., 100$. Is one method faster than the other?\n",
    "\n",
    "The fixed point method converges quickly and more smoothly than the bisection method."
   ]
  },
  {
   "cell_type": "code",
   "execution_count": 6,
   "metadata": {},
   "outputs": [
    {
     "data": {
      "text/plain": [
       "[<matplotlib.lines.Line2D at 0x7fccdeccf630>]"
      ]
     },
     "execution_count": 6,
     "metadata": {},
     "output_type": "execute_result"
    },
    {
     "data": {
      "image/png": "[encoded data removed]",
      "text/plain": [
       "<Figure size 432x288 with 1 Axes>"
      ]
     },
     "metadata": {},
     "output_type": "display_data"
    }
   ],
   "source": [
    "plt.plot(range(101), midpoints, color='blue')\n",
    "plt.plot(range(101), estimates, color='red')"
   ]
  },
  {
   "cell_type": "markdown",
   "metadata": {},
   "source": [
    "## 3. Let $\\alpha \\geq 0$ and consider the function $g(x) = x^3 - 2x^2 + 2x\\alpha$."
   ]
  },
  {
   "cell_type": "markdown",
   "metadata": {},
   "source": [
    "### a) What are the fixed points of $g$ depending on $\\alpha$ (calculate them analytically)? Make a plot with $\\alpha$ as $x$-axis and the solution(s) as $y$-axis."
   ]
  },
  {
   "cell_type": "markdown",
   "metadata": {},
   "source": [
    "\\begin{align}\n",
    "& x = x^3 - 2x^2 + 2x\\alpha \\\\\n",
    "& \\iff 0 = x^3 - 2x^2 + (2\\alpha -1)x \\\\\n",
    "& \\iff 0 = x(x^2 - 2x + (2\\alpha - 1)\n",
    "\\end{align}\n",
    "\n",
    "Clearly $x = 0$ is a root. Using the quadratic formula, we get as the other two other roots\n",
    "$$\\big(2 \\pm \\sqrt{4 - 4(2\\alpha - 1)}\\big) / 2$$"
   ]
  },
  {
   "cell_type": "code",
   "execution_count": 7,
   "metadata": {},
   "outputs": [
    {
     "data": {
      "text/plain": [
       "[<matplotlib.lines.Line2D at 0x7fccdec3c4a8>]"
      ]
     },
     "execution_count": 7,
     "metadata": {},
     "output_type": "execute_result"
    },
    {
     "data": {
      "image/png": "[encoded data removed]",
      "text/plain": [
       "<Figure size 432x288 with 1 Axes>"
      ]
     },
     "metadata": {},
     "output_type": "display_data"
    }
   ],
   "source": [
    "alphas = np.linspace(-2, 1, 1000)\n",
    "root_0 = alphas - alphas # 0 is the root\n",
    "root_1 = (2 + (np.sqrt(4 - 4*(2 * alphas - 1)))) / 2\n",
    "root_2 = (2 - (np.sqrt(4 - 4*(2 * alphas - 1)))) / 2\n",
    "\n",
    "plt.plot(alphas, root_0, color='black')\n",
    "plt.plot(alphas, root_1, color='red')\n",
    "plt.plot(alphas, root_2, color='blue')"
   ]
  },
  {
   "cell_type": "markdown",
   "metadata": {},
   "source": [
    "### b) Consider the fixed point iteration $x_{k+1} = g(x_k)$ for this $g$. What can you say about the stability of the fixed points in dependence of $\\alpha$? You may assume that the initial guess is sufficiently close to the fixed point."
   ]
  },
  {
   "cell_type": "markdown",
   "metadata": {},
   "source": [
    "The derivative of $g$ is $3x^2 - 4x + 2\\alpha$. The derivative is displayed below for $\\alpha = 0$. Plots for nonzero $\\alpha$ are simply translations up and down of the plotted curve.\n",
    "\n",
    "Since contraction is guaranteed when the derivative is less than 0, there is a small interval of values of $x$ for any given $\\alpha$ where the mapping is contractive. For most values of $\\alpha$, the positions of the fixed points usually do not align with the area where the derivative is between $(-1, 1)$. For $\\alpha > \\dfrac{1}{2}$, in fact, no fixed points are guaranteed to be stable because the derivative is strictly above $1$."
   ]
  },
  {
   "cell_type": "code",
   "execution_count": 8,
   "metadata": {},
   "outputs": [
    {
     "data": {
      "text/plain": [
       "[<matplotlib.lines.Line2D at 0x7fccdebfb588>]"
      ]
     },
     "execution_count": 8,
     "metadata": {},
     "output_type": "execute_result"
    },
    {
     "data": {
      "image/png": "[encoded data removed]",
      "text/plain": [
       "<Figure size 432x288 with 1 Axes>"
      ]
     },
     "metadata": {},
     "output_type": "display_data"
    }
   ],
   "source": [
    "x = np.linspace(-5, 5, 1000)\n",
    "y = 3*(np.power(x, 2)) - 4*x\n",
    "\n",
    "plt.plot(x, y, color='blue')\n",
    "plt.plot(x, x - x - 1, color='black')\n",
    "plt.plot(x, x - x + 1, color='black')"
   ]
  },
  {
   "cell_type": "markdown",
   "metadata": {},
   "source": [
    "### c) Discuss the case $\\alpha = 1$ either graphically, analytically, or numerically."
   ]
  },
  {
   "cell_type": "markdown",
   "metadata": {},
   "source": [
    "When observing the plots of the fixed points for $\\alpha=1$, the fixed point solutions for two roots converge to the same value at $x = 1$. Thus there are only 2 roots, one at $x=1$, and the other at $x=0$.\n",
    "\n",
    "The plot of $g(x)$ is shown below for $\\alpha = 1$. At the fixed point $(1, 1)$, the derivative of $g(x) = 1$ as well. This makes it impossible using the derivative tests to tell if the fixed point there is stable or unstable."
   ]
  },
  {
   "cell_type": "code",
   "execution_count": 9,
   "metadata": {},
   "outputs": [
    {
     "data": {
      "text/plain": [
       "[<matplotlib.lines.Line2D at 0x7fccdec5b8d0>]"
      ]
     },
     "execution_count": 9,
     "metadata": {},
     "output_type": "execute_result"
    },
    {
     "data": {
      "image/png": "[encoded data removed]",
      "text/plain": [
       "<Figure size 432x288 with 1 Axes>"
      ]
     },
     "metadata": {},
     "output_type": "display_data"
    }
   ],
   "source": [
    "x = np.linspace(-1, 2.5, 1000)\n",
    "y = np.power(x, 3) - 2*np.power(x, 2) + 2*x\n",
    "\n",
    "plt.plot(x, y)\n",
    "plt.plot(x, x)"
   ]
  },
  {
   "cell_type": "markdown",
   "metadata": {},
   "source": [
    "## 4. Stability of fixed points.\n",
    "\n",
    "### a) For each of the three functions depicted below, write down the approximate values of the fixed points as estimated by eye, and state, for each fixed point, whether it is stable, unstable, or neither of the two.\n",
    "\n",
    "#### A.\n",
    "1. $x = 0$ is **unstable** because the derivative is strictly greater than $1$ in the neighborhood and at the point.\n",
    "2. $x = 5.5$ is **stable** because the derivative is strictly less than $1$ in the neighborhood and at the point.\n",
    "\n",
    "#### B.\n",
    "1. $x = 2$ is **neither stable nor unstable** because the derivative on the left is less than $1$, but the derivative on the right is greater than $1$.\n",
    "2. $x = 8$ is **stable** because the derivative is strictly less than $1$.\n",
    "\n",
    "#### C.\n",
    "1. $x = 1.5$ is **unstable** because the absolute value of the derivative is strictly greater than $1$ in the neighborhood.\n",
    "2. $x = 5$ is **unstable** because the absolute value of the derivative is strictly greater than $1$ in the neighborhood."
   ]
  },
  {
   "cell_type": "markdown",
   "metadata": {},
   "source": [
    "### b) You are given the first ten iterates of two sequences, $x_k$ and $y_k$, both of which converge to zero.\n",
    "\n",
    "#### What do you think is the order of convergence of $x_k$? Explain your answer.\n",
    "The order of convergence appears to be roughly linear since the the distance between each estimate and the truth is roughly a third of that of the previous estimate. This constant factor would place the algorithm's convergence in linear time.\n",
    "\n",
    "#### What do you think is the order of convergence of $y_k$? Explain your answer.\n",
    "The order of converge appears to be between quadratic and cubic when the estimates are close enough to the fixed point. This is because with each iteration, the number of correct digits more than doubles, but less than triples."
   ]
  },
  {
   "cell_type": "markdown",
   "metadata": {},
   "source": [
    "## 5. Let $g$ be defined on $[5\\pi/8, 11\\pi/8]$, $g(x) = x + 0.8\\sin x$.\n",
    "### Determine the smallest possible Lipschitz constant L. What can you say about the asymptotic rate of convergence. how many iterations are required to increase the accuracy by one decimal place?"
   ]
  },
  {
   "cell_type": "markdown",
   "metadata": {},
   "source": [
    "The smallest possible Lipschitz constant $L$ is bounded below by the minimum of the derivative of $g(x)$. The derivative of $g(x) = 1 + 0.8\\cos x$, making the minimum of the derivative $0.2$ when $\\cos x = -1$ and the maximum $1.8$ when $\\cos x = 1$. In the situation where $L$ is close to $0.2$, then the asymptotic rate of convergence is $\\rho = -\\log_{10}|g'(\\xi)| = -\\log_{10}0.2 = 0.7$. Around $10/7$ iterations are required to increase the accuracy by one decimal place."
   ]
  },
  {
   "cell_type": "markdown",
   "metadata": {},
   "source": [
    "## 6. We search for solutions in $[1, 2]$ to the equation $x^3 - 3x^2 + 3 = 0$.\n",
    "\n",
    "### a) Compute a solution using the secant method in $[1, 2]$, and write down $x_0, ..., x_5$."
   ]
  },
  {
   "cell_type": "code",
   "execution_count": 10,
   "metadata": {},
   "outputs": [
    {
     "data": {
      "text/plain": [
       "[1,\n",
       " 1.5,\n",
       " 1.3636363636363638,\n",
       " 1.3460559796437663,\n",
       " 1.3473045251848954,\n",
       " 1.3472963593292901]"
      ]
     },
     "execution_count": 10,
     "metadata": {},
     "output_type": "execute_result"
    }
   ],
   "source": [
    "def secant(estimate, previous_estimate, function):\n",
    "    derivative_estimate = (function(estimate) - function(previous_estimate)) / (estimate - previous_estimate)\n",
    "    new_estimate = estimate - (function(estimate) / derivative_estimate)\n",
    "    return new_estimate, estimate\n",
    "\n",
    "# setup\n",
    "estimate = 1\n",
    "previous_estimate = 2\n",
    "def fct(x):\n",
    "    return np.power(x, 3) - 3*np.power(x, 2) + 3\n",
    "estimates = [estimate]\n",
    "\n",
    "# run 5 iterations of the secant method\n",
    "for i in range(5):\n",
    "    estimate, previous_estimate = secant(estimate, previous_estimate, fct)\n",
    "    estimates.append(estimate)\n",
    "    \n",
    "estimates"
   ]
  },
  {
   "cell_type": "markdown",
   "metadata": {},
   "source": [
    "### b) Find a solution using Newton's method with starting value $x_0 = 1.5$, and write down $x_0, ... x_5$."
   ]
  },
  {
   "cell_type": "code",
   "execution_count": 11,
   "metadata": {},
   "outputs": [
    {
     "data": {
      "text/plain": [
       "[1.5,\n",
       " 1.3333333333333333,\n",
       " 1.347222222222222,\n",
       " 1.347296353163868,\n",
       " 1.3472963553338606,\n",
       " 1.3472963553338608]"
      ]
     },
     "execution_count": 11,
     "metadata": {},
     "output_type": "execute_result"
    }
   ],
   "source": [
    "def newton(estimate, function, derivative):\n",
    "    new_estimate = estimate - function(estimate) / derivative(estimate)\n",
    "    return new_estimate\n",
    "\n",
    "# setup\n",
    "estimate = 1.5\n",
    "def fct(x):\n",
    "    return np.power(x, 3) - 3*np.power(x, 2) + 3\n",
    "def derivative_fct(x):\n",
    "    return 3*np.power(x, 2) - 6*x\n",
    "estimates = [estimate]\n",
    "\n",
    "# run 5 iterations of Newton's method\n",
    "for i in range(5):\n",
    "    estimate = newton(estimate, fct, derivative_fct)\n",
    "    estimates.append(estimate)\n",
    "    \n",
    "estimates"
   ]
  },
  {
   "cell_type": "markdown",
   "metadata": {},
   "source": [
    "### c) Find a solution using Newton's method with starting value $x_0 = 2.1$. Sketch the equation graph and try to explain the behavior."
   ]
  },
  {
   "cell_type": "code",
   "execution_count": 12,
   "metadata": {},
   "outputs": [
    {
     "data": {
      "text/plain": [
       "[2.1,\n",
       " 3.6380952380952394,\n",
       " 2.997908899750493,\n",
       " 2.665738100120939,\n",
       " 2.548406077463979,\n",
       " 2.5323828383309896]"
      ]
     },
     "execution_count": 12,
     "metadata": {},
     "output_type": "execute_result"
    }
   ],
   "source": [
    "estimate = 2.1\n",
    "estimates = [estimate]\n",
    "\n",
    "# run 5 iterations of Newton's method\n",
    "for i in range(5):\n",
    "    estimate = newton(estimate, fct, derivative_fct)\n",
    "    estimates.append(estimate)\n",
    "    \n",
    "estimates"
   ]
  },
  {
   "cell_type": "code",
   "execution_count": 13,
   "metadata": {},
   "outputs": [
    {
     "data": {
      "text/plain": [
       "[<matplotlib.lines.Line2D at 0x7fccdebd1860>]"
      ]
     },
     "execution_count": 13,
     "metadata": {},
     "output_type": "execute_result"
    },
    {
     "data": {
      "image/png": "[encoded data removed]",
      "text/plain": [
       "<Figure size 432x288 with 1 Axes>"
      ]
     },
     "metadata": {},
     "output_type": "display_data"
    }
   ],
   "source": [
    "x = np.linspace(1, 4, 1000)\n",
    "y = fct(x)\n",
    "plt.plot(x, y, color='blue')\n",
    "plt.plot(x, x-x, color='black')"
   ]
  },
  {
   "cell_type": "markdown",
   "metadata": {},
   "source": [
    "The graph of the function shows there are two zeros, one near $1.34$ and one near $2.53$. This means that with different initializations of Newton's method, we can get convergence to different roots."
   ]
  },
  {
   "cell_type": "markdown",
   "metadata": {},
   "source": [
    "## 7. Find the limit and order of convergence for the following sequences:"
   ]
  },
  {
   "cell_type": "markdown",
   "metadata": {},
   "source": [
    "### a) $x_{k+1} = \\alpha x_k$ for some $|\\alpha| < 1$."
   ]
  },
  {
   "cell_type": "markdown",
   "metadata": {},
   "source": [
    "${x_k}$ converges to $0$ at an asymptotic rate of $-\\log_{10}\\alpha$."
   ]
  },
  {
   "cell_type": "markdown",
   "metadata": {},
   "source": [
    "### b) $c_{k+1} = c_k - \\tan c_k$. "
   ]
  },
  {
   "cell_type": "markdown",
   "metadata": {},
   "source": [
    "No obvious limit or convergence behavior for this sequence; behavior depends on $c_0$ as there are areas where $\\tan$ is contractive and areas where it is not."
   ]
  },
  {
   "cell_type": "markdown",
   "metadata": {},
   "source": [
    "### c) $b_k = 2^{-2^k}$."
   ]
  },
  {
   "cell_type": "markdown",
   "metadata": {},
   "source": [
    "$b_k$ converges to 0 at a superlinear rate."
   ]
  },
  {
   "cell_type": "markdown",
   "metadata": {},
   "source": [
    "## 8. For $f: \\mathbb{R} \\to \\mathbb{R}$ twice continuously differentiable, find the order of convergence of Steffensen's method $$x_{k+1} = x_k - \\dfrac{[f(x_k)]^2}{f(x_k + f(x_k)) - f(x_k)}$$, which is used to solve $f(x) = 0$. How does this iteration relate to Newton's method?"
   ]
  },
  {
   "cell_type": "markdown",
   "metadata": {},
   "source": [
    "Consider the second-order Taylor Series expansion of $f(x_k + f(x_k))$ about $x_k$,\n",
    "\\begin{align}\n",
    "& f(x_k) + f'(x_k)[x_k + f(x_k) - x_k] + f''(\\eta_1)[x_k + f(x_k) - x_k]^2 \\\\\n",
    "& = f(x_k) + f'(x_k)f(x_k) + \\dfrac{f''(\\eta_1)f(x_k)^2}{2},\n",
    "\\end{align}\n",
    "where $\\eta_1$ is between $x_k$ and $x_k + f(x_k)$. "
   ]
  },
  {
   "cell_type": "markdown",
   "metadata": {},
   "source": [
    "We can substitute this value into the relation between $x_{k+1}$ and $x_k$ to get\n",
    "$$x_{k+1} = x_k - \\dfrac{f(x_k)}{f'(x_k) + \\dfrac{f''(\\eta_1)f(x_k)}{2}}$$."
   ]
  },
  {
   "cell_type": "markdown",
   "metadata": {},
   "source": [
    "We want to relate $\\xi - x_{k+1}$ to $\\xi - x_k$. It is clear from substituting in the above equality that\n",
    "\\begin{align}\n",
    "&\\xi - x_{k+1} \\\\\n",
    "&= \\xi - x_k + \\dfrac{f(x_k)}{f'(x_k) + \\dfrac{f''(\\eta_1)f(x_k)}{2}} \\\\\n",
    "&= (\\xi - x_k)\\big(\\dfrac{f'(x_k) + \\dfrac{f''(\\eta_1)}{2}f(x_k)}{f'(x_k) + \\dfrac{f''(\\eta_1)}{2}f(x_k)}\\big) + \\dfrac{f(x_k)}{f'(x_k) + \\dfrac{f''(\\eta_1)f(x_k)}{2}} \\\\\n",
    "&= \\dfrac{f(x_k) + f'(x_k)(\\xi - x_k) + \\dfrac{f''(\\eta_1)}{2}f(x_k)(\\xi - x_k)}{f'(x_k) + \\dfrac{f''(\\eta_1)f(x_k)}{2}}\n",
    "\\end{align}"
   ]
  },
  {
   "cell_type": "markdown",
   "metadata": {},
   "source": [
    "With the understanding that $f(\\xi) = 0$, we can write the second-order Taylor expansion of $f(\\xi)$ about $x_k$ as\n",
    "$$0 = f(\\xi) = f(x_k) + f'(x_k)(\\xi - x_k) + \\dfrac{f''(\\eta_2)(\\xi - x_k)^2}{2},$$\n",
    "with $\\eta_2$ between $x_k$ and $\\xi$."
   ]
  },
  {
   "cell_type": "markdown",
   "metadata": {},
   "source": [
    "This allows us to substitute $f(x_k) + f'(x_k)(\\xi - x_k)$ with $-\\dfrac{f''(\\eta_2)}{2}(\\xi - x_k)^2$"
   ]
  },
  {
   "cell_type": "markdown",
   "metadata": {},
   "source": [
    "The first-order Taylor expansion of $f(\\xi)$ about $x_k$, on the other hand, yields\n",
    "$$0 = f(\\xi) = f(x_k) + f'(\\eta_3)(\\xi - x_k),$$\n",
    "with $\\eta_3$ between $x_k$ and $\\xi$. Rearranging the terms, this becomes\n",
    "$$f(x_k) = - f'(\\eta_3)(\\xi - x_k),$$\n",
    "which we can substitute into the other $f(x_k)$ in the numerator."
   ]
  },
  {
   "cell_type": "markdown",
   "metadata": {},
   "source": [
    "This gives us\n",
    "\n",
    "$$\\xi - x_{k+1} = -\\dfrac{\\dfrac{f''(\\eta_2)}{2}(\\xi - x_k)^2 + \\dfrac{f''(\\eta_1)}{2}f'(\\eta_3)(\\xi - x_k)^2}{f'(x_k) + \\dfrac{f''(\\eta_1)f(x_k)}{2}}$$"
   ]
  },
  {
   "cell_type": "markdown",
   "metadata": {},
   "source": [
    "We can see that simply by dividing the above equation by $(\\xi - x_k)^2$, we have\n",
    "\n",
    "$$\\dfrac{\\xi - x_{k+1}}{(\\xi - x_k)^2} = -\\dfrac{\\dfrac{f''(\\eta_2)}{2} + \\dfrac{f''(\\eta_1)}{2}f'(\\eta_3)}{f'(x_k) + \\dfrac{f''(\\eta_1)f(x_k)}{2}}$$"
   ]
  },
  {
   "cell_type": "markdown",
   "metadata": {},
   "source": [
    "As $k \\to \\infty$, we have $\\eta_2, \\eta_1, \\eta_3, x_k$ all converging to $\\xi$. Thus $\\dfrac{f''(\\eta_2)}{2} + \\dfrac{f''(\\eta_1)}{2}f'(\\eta_3)$ on the numerator converges to $(\\dfrac{1}{2})f''(\\xi)(1 + f'(\\xi))$. On the other hand, the denominator converges to $f'(\\xi)$ since $f(x_k) \\to 0$. This gives us the ratio\n",
    "$$\\dfrac{1}{2}\\dfrac{f''(\\xi)}{f'(\\xi)}(1 + f'(\\xi)$$ which results in a real number."
   ]
  },
  {
   "cell_type": "markdown",
   "metadata": {},
   "source": [
    "**This gives us the result that Steffenson's method has a quadratic rate of convergence.**"
   ]
  },
  {
   "cell_type": "markdown",
   "metadata": {},
   "source": [
    "Steffenson's method estimates the derivative of $f(x)$ using the approximation $\\dfrac{f(x_n+f(x_n)) - f(x_n)}{f(x_n)}$. **This allows Steffenson's to avoid computing the derivative**, which Newton's Method requires."
   ]
  },
  {
   "cell_type": "markdown",
   "metadata": {},
   "source": [
    "## 9. The logistic map $g(x) = \\alpha x(1 - x)$ with $\\alpha \\in (0, 4]$ is a famous map modeling population dynamics."
   ]
  },
  {
   "cell_type": "markdown",
   "metadata": {},
   "source": [
    "### a) Show that for $x_0 \\in [0, 1]$ holds that $x_{k+1} = g(x_k) \\in [0, 1]$ for $k = 1, 2, ...$ and that the only fixed points of $g$ are $\\xi_1 = 0$ and $\\xi_2 = 1 - 1/\\alpha$."
   ]
  },
  {
   "cell_type": "markdown",
   "metadata": {},
   "source": [
    "$g'(x)$ = $\\alpha(1 - 2x)$ has absolute value less than or equal to $1$ on the interval $[0. 1]$. The maximum value $g$ with $\\alpha = 4$ can take on is $1$ at $x = 0.5$, and the minimum value is $0$. Thus, the sequence ${x_k}$ is bounded in $[0, 1]$ for all $k$ if $x_0 \\in [0, 1]$."
   ]
  },
  {
   "cell_type": "markdown",
   "metadata": {},
   "source": [
    "Clearly x = 0 is a fixed point. Other fixed points of $g$ can be found by solving the equation \n",
    "\\begin{align}\n",
    "& x = \\alpha x (1 - x) \\\\\n",
    "&\\implies 1 = \\alpha (1 - x) \\\\\n",
    "&\\implies \\dfrac{1}{\\alpha} = 1 - x \\\\\n",
    "&\\implies x = 1 - \\dfrac{1}{\\alpha}\n",
    "\\end{align}.\n",
    "\n",
    "Since $g(x)$ is quadratic, it can only have these two roots."
   ]
  },
  {
   "cell_type": "markdown",
   "metadata": {},
   "source": [
    "### b) Show that $\\xi_1$ is stable for $\\alpha \\in (0, 1)$ and $\\xi_2$ is stable for $\\alpha \\in (1, 3)$."
   ]
  },
  {
   "cell_type": "markdown",
   "metadata": {},
   "source": [
    "$g'(0) = \\alpha$. For $\\alpha \\in (0, 1)$, $g'(0)$ clearly $\\in (0, 1)$ as well, and so $\\xi_1$ is stable.\n",
    "\n",
    "$g'(\\dfrac{1}{1 - \\alpha}) = \\alpha (-1 + \\dfrac{2}{\\alpha}) = -\\alpha + 2$. When $\\alpha \\in (1, 3)$, $g'(\\dfrac{1}{1 - \\alpha}) \\in (0, 1)$ so in those situations $\\xi_2$ is stable."
   ]
  },
  {
   "cell_type": "markdown",
   "metadata": {},
   "source": [
    "### c) A period 2-cycle of a map $g$ is a set of two distinct points ${x_0, x_1}$ for which $x_1 = g(x_0)$ and $x_0 = g(x_1)$ holds. For $\\alpha \\in [3, 1 + \\sqrt{6}]$ calculate a period 2-cycle."
   ]
  },
  {
   "cell_type": "markdown",
   "metadata": {},
   "source": [
    "\\begin{align}\n",
    "&g^2(x) = \\alpha(\\alpha(x)(1-x))(1 - (\\alpha(x)(1-x)) \\\\\n",
    "&= \\alpha^2 x(1-x) - \\alpha^3 x^2 (1-x)^2\n",
    "\\end{align}"
   ]
  },
  {
   "cell_type": "markdown",
   "metadata": {},
   "source": [
    "\\begin{align}\n",
    "& \\implies x = g^2(x) \\\\\n",
    "& \\iff x = \\alpha^2 x(1-x) - \\alpha^3 x^2 (1-x)^2 \\\\\n",
    "& \\iff 1 = \\alpha^2 (1-x) - \\alpha^3 x (1 - x) ^2\n",
    "\\end{align}"
   ]
  },
  {
   "cell_type": "markdown",
   "metadata": {},
   "source": [
    "Since we know $x$ and $1 / (1 - \\alpha)$ are fixed points, we can divide them out of the equation. A lot of algebra later..."
   ]
  },
  {
   "cell_type": "markdown",
   "metadata": {},
   "source": [
    "$(-\\alpha^3 x)(x - \\dfrac{1}{1 - \\alpha})(x^2 - (1 + \\dfrac{1}{\\alpha})x + \\dfrac{1}{\\alpha}(1 + \\dfrac{1}{\\alpha})) = 0$"
   ]
  },
  {
   "cell_type": "markdown",
   "metadata": {},
   "source": [
    "By plugging in the discriminant of the quadratic equation, we get the two additional roots\n",
    "\n",
    "$$\\dfrac{1}{2}\\big((1 + \\dfrac{1}{\\alpha}) \\pm \\dfrac{1}{\\alpha}\\sqrt{(\\alpha - 3)(\\alpha - 1)}\\big)$$"
   ]
  },
  {
   "cell_type": "markdown",
   "metadata": {},
   "source": [
    "### d) Implement a visualization of the bifurcation diagram for the logistic map.\n",
    "### e) Plot the fixed points as well as the period 2-cycles"
   ]
  },
  {
   "cell_type": "markdown",
   "metadata": {},
   "source": [
    "The bifurcation diagram is in blue; the fixed points in red; the 2-cycles in green."
   ]
  },
  {
   "cell_type": "code",
   "execution_count": 14,
   "metadata": {},
   "outputs": [
    {
     "data": {
      "text/plain": [
       "[<matplotlib.lines.Line2D at 0x7fccde914518>]"
      ]
     },
     "execution_count": 14,
     "metadata": {},
     "output_type": "execute_result"
    },
    {
     "data": {
      "image/png": "[encoded data removed]",
      "text/plain": [
       "<Figure size 1080x540 with 1 Axes>"
      ]
     },
     "metadata": {},
     "output_type": "display_data"
    }
   ],
   "source": [
    "alphas = np.linspace(0, 4, 1000)\n",
    "values = []\n",
    "def fct(alpha, x):\n",
    "    return alpha * x * (1 - x)\n",
    "\n",
    "for i in range(1000):\n",
    "    alpha = alphas[i]\n",
    "    x = 0.5\n",
    "    for j in range(1000):\n",
    "        x = fct(alpha, x)\n",
    "        if j >= 900:\n",
    "            values.append(x)      \n",
    "            \n",
    "# calculate fixed points\n",
    "fixed_points = 1 - (1 / (alphas[251:]))\n",
    "\n",
    "# calculate period 2-cycles\n",
    "period_cycle1 = 1/2 * ((1 + 1 / alphas[751:]) + ((1 / alphas[751:])*(np.sqrt((alphas[751:] - 3)*(alphas[751:] + 1)))))\n",
    "period_cycle2 = 1/2 * ((1 + 1 / alphas[751:]) - ((1 / alphas[751:])*(np.sqrt((alphas[751:] - 3)*(alphas[751:] + 1)))))\n",
    "\n",
    "# plot bifurcation diagram\n",
    "fig = plt.figure()\n",
    "fig.set_size_inches(15, 7.5)\n",
    "plt.plot(np.repeat(alphas, 100), values, ',', color='blue')\n",
    "plt.plot(alphas[251:], fixed_points, color='red')\n",
    "plt.plot(alphas[751:], period_cycle1, color='green')\n",
    "plt.plot(alphas[751:], period_cycle2, color='green')"
   ]
  }
 ],
 "metadata": {
  "kernelspec": {
   "display_name": "Python 3",
   "language": "python",
   "name": "python3"
  },
  "language_info": {
   "codemirror_mode": {
    "name": "ipython",
    "version": 3
   },
   "file_extension": ".py",
   "mimetype": "text/x-python",
   "name": "python",
   "nbconvert_exporter": "python",
   "pygments_lexer": "ipython3",
   "version": "3.5.2"
  }
 },
 "nbformat": 4,
 "nbformat_minor": 2
}
